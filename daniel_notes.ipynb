{
 "cells": [
  {
   "cell_type": "markdown",
   "metadata": {},
   "source": [
    "# NLP Project"
   ]
  },
  {
   "cell_type": "markdown",
   "metadata": {},
   "source": [
    "# Objective\n",
    "\n",
    "To predict the language that the "
   ]
  },
  {
   "cell_type": "code",
   "execution_count": 1,
   "metadata": {},
   "outputs": [],
   "source": [
    "import pandas as pd\n",
    "import numpy as np\n",
    "\n",
    "from requests import get\n",
    "from bs4 import BeautifulSoup\n",
    "import os\n",
    "\n",
    "import seaborn as sns\n",
    "import matplotlib.pyplot as plt\n",
    "\n",
    "import prepare\n",
    "\n",
    "import matplotlib.pyplot as plt\n",
    "import seaborn as sns\n",
    "import pandas as pd\n",
    "import nltk\n",
    "import nltk.sentiment\n",
    "import re\n",
    "\n",
    "import time\n",
    "\n"
   ]
  },
  {
   "cell_type": "code",
   "execution_count": 2,
   "metadata": {},
   "outputs": [],
   "source": [
    "df = pd.read_json(\"data.json\")"
   ]
  },
  {
   "cell_type": "code",
   "execution_count": 3,
   "metadata": {
    "scrolled": false
   },
   "outputs": [
    {
     "data": {
      "text/plain": [
       "JavaScript          73\n",
       "Python              27\n",
       "Java                20\n",
       "TypeScript          17\n",
       "Go                  12\n",
       "C++                 12\n",
       "C                    6\n",
       "Swift                5\n",
       "Vue                  4\n",
       "PHP                  4\n",
       "Shell                4\n",
       "HTML                 4\n",
       "Rust                 4\n",
       "CSS                  3\n",
       "Ruby                 3\n",
       "Kotlin               3\n",
       "Dart                 2\n",
       "Clojure              2\n",
       "Jupyter Notebook     2\n",
       "Objective-C          2\n",
       "Assembly             1\n",
       "OCaml                1\n",
       "Emacs Lisp           1\n",
       "Haskell              1\n",
       "TeX                  1\n",
       "C#                   1\n",
       "Name: language, dtype: int64"
      ]
     },
     "execution_count": 3,
     "metadata": {},
     "output_type": "execute_result"
    }
   ],
   "source": [
    "df.language.value_counts()"
   ]
  },
  {
   "cell_type": "code",
   "execution_count": 4,
   "metadata": {},
   "outputs": [
    {
     "data": {
      "text/plain": [
       "33"
      ]
     },
     "execution_count": 4,
     "metadata": {},
     "output_type": "execute_result"
    }
   ],
   "source": [
    "(df.language.isnull()).sum()"
   ]
  },
  {
   "cell_type": "code",
   "execution_count": 5,
   "metadata": {},
   "outputs": [
    {
     "data": {
      "text/html": [
       "<div>\n",
       "<style scoped>\n",
       "    .dataframe tbody tr th:only-of-type {\n",
       "        vertical-align: middle;\n",
       "    }\n",
       "\n",
       "    .dataframe tbody tr th {\n",
       "        vertical-align: top;\n",
       "    }\n",
       "\n",
       "    .dataframe thead th {\n",
       "        text-align: right;\n",
       "    }\n",
       "</style>\n",
       "<table border=\"1\" class=\"dataframe\">\n",
       "  <thead>\n",
       "    <tr style=\"text-align: right;\">\n",
       "      <th></th>\n",
       "      <th>repo</th>\n",
       "      <th>language</th>\n",
       "      <th>readme_contents</th>\n",
       "    </tr>\n",
       "  </thead>\n",
       "  <tbody>\n",
       "    <tr>\n",
       "      <th>0</th>\n",
       "      <td>vuejs/vue</td>\n",
       "      <td>JavaScript</td>\n",
       "      <td>&lt;p align=\"center\"&gt;&lt;a href=\"https://vuejs.org\" ...</td>\n",
       "    </tr>\n",
       "    <tr>\n",
       "      <th>3</th>\n",
       "      <td>twbs/bootstrap</td>\n",
       "      <td>JavaScript</td>\n",
       "      <td>&lt;p align=\"center\"&gt;\\n  &lt;a href=\"https://getboot...</td>\n",
       "    </tr>\n",
       "    <tr>\n",
       "      <th>4</th>\n",
       "      <td>sindresorhus/awesome</td>\n",
       "      <td>None</td>\n",
       "      <td>&lt;div align=\"center\"&gt;\\n\\t&lt;img width=\"500\" heigh...</td>\n",
       "    </tr>\n",
       "    <tr>\n",
       "      <th>7</th>\n",
       "      <td>ohmyzsh/ohmyzsh</td>\n",
       "      <td>Shell</td>\n",
       "      <td>&lt;p align=\"center\"&gt;\\n  &lt;img src=\"https://s3.ama...</td>\n",
       "    </tr>\n",
       "    <tr>\n",
       "      <th>8</th>\n",
       "      <td>kamranahmedse/developer-roadmap</td>\n",
       "      <td>None</td>\n",
       "      <td>\\n![Web Developer Roadmap - 2020](https://i.im...</td>\n",
       "    </tr>\n",
       "    <tr>\n",
       "      <th>...</th>\n",
       "      <td>...</td>\n",
       "      <td>...</td>\n",
       "      <td>...</td>\n",
       "    </tr>\n",
       "    <tr>\n",
       "      <th>211</th>\n",
       "      <td>ZuzooVn/machine-learning-for-software-engineers</td>\n",
       "      <td>None</td>\n",
       "      <td># Parcours d'Apprentissage de A à Z: Le Machin...</td>\n",
       "    </tr>\n",
       "    <tr>\n",
       "      <th>216</th>\n",
       "      <td>tailwindcss/tailwindcss</td>\n",
       "      <td>CSS</td>\n",
       "      <td>&lt;p&gt;\\n    &lt;a href=\"https://tailwindcss.com/\" ta...</td>\n",
       "    </tr>\n",
       "    <tr>\n",
       "      <th>223</th>\n",
       "      <td>markedjs/marked</td>\n",
       "      <td>JavaScript</td>\n",
       "      <td>&lt;a href=\"https://marked.js.org\"&gt;\\n  &lt;img width...</td>\n",
       "    </tr>\n",
       "    <tr>\n",
       "      <th>230</th>\n",
       "      <td>nsqio/nsq</td>\n",
       "      <td>Go</td>\n",
       "      <td>&lt;p align=\"center\"&gt;\\n&lt;img align=\"left\" width=\"1...</td>\n",
       "    </tr>\n",
       "    <tr>\n",
       "      <th>232</th>\n",
       "      <td>JohnCoates/Aerial</td>\n",
       "      <td>Swift</td>\n",
       "      <td>&lt;p align=\"center\"&gt;\\n  &lt;img src=\"https://cloud....</td>\n",
       "    </tr>\n",
       "  </tbody>\n",
       "</table>\n",
       "<p>77 rows × 3 columns</p>\n",
       "</div>"
      ],
      "text/plain": [
       "                                                repo    language  \\\n",
       "0                                          vuejs/vue  JavaScript   \n",
       "3                                     twbs/bootstrap  JavaScript   \n",
       "4                               sindresorhus/awesome        None   \n",
       "7                                    ohmyzsh/ohmyzsh       Shell   \n",
       "8                    kamranahmedse/developer-roadmap        None   \n",
       "..                                               ...         ...   \n",
       "211  ZuzooVn/machine-learning-for-software-engineers        None   \n",
       "216                          tailwindcss/tailwindcss         CSS   \n",
       "223                                  markedjs/marked  JavaScript   \n",
       "230                                        nsqio/nsq          Go   \n",
       "232                                JohnCoates/Aerial       Swift   \n",
       "\n",
       "                                       readme_contents  \n",
       "0    <p align=\"center\"><a href=\"https://vuejs.org\" ...  \n",
       "3    <p align=\"center\">\\n  <a href=\"https://getboot...  \n",
       "4    <div align=\"center\">\\n\\t<img width=\"500\" heigh...  \n",
       "7    <p align=\"center\">\\n  <img src=\"https://s3.ama...  \n",
       "8    \\n![Web Developer Roadmap - 2020](https://i.im...  \n",
       "..                                                 ...  \n",
       "211  # Parcours d'Apprentissage de A à Z: Le Machin...  \n",
       "216  <p>\\n    <a href=\"https://tailwindcss.com/\" ta...  \n",
       "223  <a href=\"https://marked.js.org\">\\n  <img width...  \n",
       "230  <p align=\"center\">\\n<img align=\"left\" width=\"1...  \n",
       "232  <p align=\"center\">\\n  <img src=\"https://cloud....  \n",
       "\n",
       "[77 rows x 3 columns]"
      ]
     },
     "execution_count": 5,
     "metadata": {},
     "output_type": "execute_result"
    }
   ],
   "source": [
    "df[df.readme_contents.str.contains(\"<p\")]"
   ]
  },
  {
   "cell_type": "markdown",
   "metadata": {},
   "source": [
    "# Acquire\n",
    "\n",
    "Thanks to Zach, we already have the main function to acquire the data. The script runs through a list of repo's, and creates a new json file with the name of the repo, the programing language used, and the readme_contents."
   ]
  },
  {
   "cell_type": "code",
   "execution_count": 6,
   "metadata": {},
   "outputs": [
    {
     "data": {
      "text/html": [
       "<div>\n",
       "<style scoped>\n",
       "    .dataframe tbody tr th:only-of-type {\n",
       "        vertical-align: middle;\n",
       "    }\n",
       "\n",
       "    .dataframe tbody tr th {\n",
       "        vertical-align: top;\n",
       "    }\n",
       "\n",
       "    .dataframe thead th {\n",
       "        text-align: right;\n",
       "    }\n",
       "</style>\n",
       "<table border=\"1\" class=\"dataframe\">\n",
       "  <thead>\n",
       "    <tr style=\"text-align: right;\">\n",
       "      <th></th>\n",
       "      <th>repo</th>\n",
       "      <th>language</th>\n",
       "      <th>readme_contents</th>\n",
       "    </tr>\n",
       "  </thead>\n",
       "  <tbody>\n",
       "    <tr>\n",
       "      <th>0</th>\n",
       "      <td>vuejs/vue</td>\n",
       "      <td>JavaScript</td>\n",
       "      <td>&lt;p align=\"center\"&gt;&lt;a href=\"https://vuejs.org\" ...</td>\n",
       "    </tr>\n",
       "    <tr>\n",
       "      <th>1</th>\n",
       "      <td>EbookFoundation/free-programming-books</td>\n",
       "      <td>None</td>\n",
       "      <td>This page is available as an easy-to-read webs...</td>\n",
       "    </tr>\n",
       "    <tr>\n",
       "      <th>2</th>\n",
       "      <td>tensorflow/tensorflow</td>\n",
       "      <td>C++</td>\n",
       "      <td>&lt;div align=\"center\"&gt;\\n  &lt;img src=\"https://www....</td>\n",
       "    </tr>\n",
       "    <tr>\n",
       "      <th>3</th>\n",
       "      <td>twbs/bootstrap</td>\n",
       "      <td>JavaScript</td>\n",
       "      <td>&lt;p align=\"center\"&gt;\\n  &lt;a href=\"https://getboot...</td>\n",
       "    </tr>\n",
       "    <tr>\n",
       "      <th>4</th>\n",
       "      <td>sindresorhus/awesome</td>\n",
       "      <td>None</td>\n",
       "      <td>&lt;div align=\"center\"&gt;\\n\\t&lt;img width=\"500\" heigh...</td>\n",
       "    </tr>\n",
       "  </tbody>\n",
       "</table>\n",
       "</div>"
      ],
      "text/plain": [
       "                                     repo    language  \\\n",
       "0                               vuejs/vue  JavaScript   \n",
       "1  EbookFoundation/free-programming-books        None   \n",
       "2                   tensorflow/tensorflow         C++   \n",
       "3                          twbs/bootstrap  JavaScript   \n",
       "4                    sindresorhus/awesome        None   \n",
       "\n",
       "                                     readme_contents  \n",
       "0  <p align=\"center\"><a href=\"https://vuejs.org\" ...  \n",
       "1  This page is available as an easy-to-read webs...  \n",
       "2  <div align=\"center\">\\n  <img src=\"https://www....  \n",
       "3  <p align=\"center\">\\n  <a href=\"https://getboot...  \n",
       "4  <div align=\"center\">\\n\\t<img width=\"500\" heigh...  "
      ]
     },
     "execution_count": 6,
     "metadata": {},
     "output_type": "execute_result"
    }
   ],
   "source": [
    "df.head()"
   ]
  },
  {
   "cell_type": "markdown",
   "metadata": {},
   "source": [
    "Now, we need to build a webscrapping function that can help us get more repo names, so we can run the script, and get their information. Our goal is to get 300 README's."
   ]
  },
  {
   "cell_type": "code",
   "execution_count": 7,
   "metadata": {},
   "outputs": [],
   "source": [
    "url = 'https://github.com/search?q=stars%3A%3E0&s=stars&type=Repositories'\n",
    "headers = {'User-Agent': 'Codeup Bayes Data Science'} # codeup.com doesn't like our default user-agent\n",
    "response = get(url, headers=headers)"
   ]
  },
  {
   "cell_type": "code",
   "execution_count": 8,
   "metadata": {},
   "outputs": [],
   "source": [
    "soup = BeautifulSoup(response.content, 'html.parser')"
   ]
  },
  {
   "cell_type": "code",
   "execution_count": 9,
   "metadata": {},
   "outputs": [],
   "source": [
    "article = soup.find_all('a', class_='v-align-middle')"
   ]
  },
  {
   "cell_type": "code",
   "execution_count": 474,
   "metadata": {
    "scrolled": true
   },
   "outputs": [],
   "source": [
    "# article"
   ]
  },
  {
   "cell_type": "code",
   "execution_count": 11,
   "metadata": {
    "scrolled": false
   },
   "outputs": [
    {
     "data": {
      "text/plain": [
       "'freeCodeCamp/freeCodeCamp'"
      ]
     },
     "execution_count": 11,
     "metadata": {},
     "output_type": "execute_result"
    }
   ],
   "source": [
    "article[0][\"href\"].replace(\"/\", '', 1)"
   ]
  },
  {
   "cell_type": "markdown",
   "metadata": {},
   "source": [
    "## Web Scrapping Function"
   ]
  },
  {
   "cell_type": "code",
   "execution_count": 482,
   "metadata": {},
   "outputs": [
    {
     "data": {
      "text/plain": [
       "(490, 2)"
      ]
     },
     "execution_count": 482,
     "metadata": {},
     "output_type": "execute_result"
    }
   ],
   "source": [
    "repo_test = pd.read_csv(\"repo_names.csv\")\n",
    "repo_test.shape"
   ]
  },
  {
   "cell_type": "code",
   "execution_count": null,
   "metadata": {},
   "outputs": [],
   "source": [
    "repo_names = []\n",
    "\n",
    "# Loop to get repo names\n",
    "for page_number in range(1,80):\n",
    "    url = f\"https://github.com/search?p={page_number}&q=stars%3A%3E0&s=stars&type=Repositories\"\n",
    "    headers = {'User-Agent': 'Codeup Bayes Data Science'}\n",
    "    response = get(url, headers=headers)\n",
    "    soup = BeautifulSoup(response.content, 'html.parser')\n",
    "    repos = soup.find_all('a', class_='v-align-middle')\n",
    "    time.sleep(20)\n",
    "\n",
    "    \n",
    "    for repo_number in range(len(repos)):\n",
    "        repo_name = repos[repo_number][\"href\"].replace(\"/\", '', 1)\n",
    "        repo_names.append(repo_name)\n"
   ]
  },
  {
   "cell_type": "code",
   "execution_count": null,
   "metadata": {},
   "outputs": [],
   "source": [
    "# s = pd.DataFrame(repo_names, columns=[\"repo_name\"])\n",
    "\n",
    "# s.to_csv(\"repo_names.csv\")\n",
    "\n",
    "# # Update existing csv file with most up to date list\n",
    "# s = pd.DataFrame(repo_names, columns=[\"repo_name\"])\n",
    "# s.to_csv(\"repo_names.csv\", mode='a', header=True)\n",
    "# repo_test = pd.read_csv(\"repo_names.csv\")\n",
    "# repo_list = repo_test.repo_name.fillna(repo_test[\"0\"])\n",
    "# repo_list.to_csv(\"repo_names.csv\")"
   ]
  },
  {
   "cell_type": "code",
   "execution_count": null,
   "metadata": {},
   "outputs": [],
   "source": [
    "REPOs = ['freeCodeCamp/freeCodeCamp', '996icu/996.ICU', 'vuejs/vue',\n",
    "       'EbookFoundation/free-programming-books', 'facebook/react',\n",
    "       'tensorflow/tensorflow', 'twbs/bootstrap', 'sindresorhus/awesome',\n",
    "       'getify/You-Dont-Know-JS', 'jwasham/coding-interview-university',\n",
    "       'ohmyzsh/ohmyzsh', 'kamranahmedse/developer-roadmap',\n",
    "       'github/gitignore', 'CyC2018/CS-Notes',\n",
    "       'donnemartin/system-design-primer', 'microsoft/vscode',\n",
    "       'airbnb/javascript', 'flutter/flutter', 'd3/d3', 'torvalds/linux',\n",
    "       'facebook/react-native', 'jackfrued/Python-100-Days',\n",
    "       'public-apis/public-apis', 'electron/electron',\n",
    "       'vinta/awesome-python', 'Snailclimb/JavaGuide',\n",
    "       'facebook/create-react-app', 'jlevy/the-art-of-command-line',\n",
    "       'TheAlgorithms/Python', 'danistefanovic/build-your-own-x',\n",
    "       'axios/axios', 'golang/go', 'trekhleb/javascript-algorithms',\n",
    "       'nodejs/node', 'justjavac/free-programming-books-zh_CN',\n",
    "       'ytdl-org/youtube-dl', 'animate-css/animate.css',\n",
    "       'kubernetes/kubernetes', 'tensorflow/models', 'microsoft/terminal',\n",
    "       'iluwatar/java-design-patterns', 'mui-org/material-ui',\n",
    "       'moby/moby', '30-seconds/30-seconds-of-code',\n",
    "       'PanJiaChen/vue-element-admin', 'MisterBooo/LeetCodeAnimation',\n",
    "       'avelino/awesome-go', 'vuejs/awesome-vue', 'webpack/webpack',\n",
    "       'jquery/jquery', 'spring-projects/spring-boot',\n",
    "       'Semantic-Org/Semantic-UI', 'tonsky/FiraCode',\n",
    "       'typicode/json-server', 'netdata/netdata', 'jakubroztocil/httpie',\n",
    "       'rails/rails', 'xingshaocheng/architect-awesome',\n",
    "       'goldbergyoni/nodebestpractices', 'ElemeFE/element',\n",
    "       'h5bp/html5-boilerplate', 'opencv/opencv', 'lodash/lodash',\n",
    "       'awesome-selfhosted/awesome-selfhosted',\n",
    "       'josephmisiti/awesome-machine-learning', 'kdn251/interviews',\n",
    "       'gatsbyjs/gatsby', 'h5bp/Front-end-Developer-Interview-Questions',\n",
    "       'gohugoio/hugo', 'moment/moment', 'doocs/advanced-java',\n",
    "       'bitcoin/bitcoin', 'ansible/ansible', 'antirez/redis',\n",
    "       'yangshun/tech-interview-handbook', 'ReactiveX/RxJava',\n",
    "       'labuladong/fucking-algorithm', 'nvm-sh/nvm',\n",
    "       'resume/resume.github.com', 'ionic-team/ionic',\n",
    "       'scikit-learn/scikit-learn', 'papers-we-love/papers-we-love',\n",
    "       'ReactTraining/react-router', 'thedaviddias/Front-End-Checklist',\n",
    "       'jekyll/jekyll', 'google/material-design-icons', 'jgthms/bulma',\n",
    "       'awesomedata/awesome-public-datasets', 'pytorch/pytorch',\n",
    "       'psf/requests', 'gothinkster/realworld',\n",
    "       'protocolbuffers/protobuf', 'meteor/meteor',\n",
    "       'mtdvio/every-programmer-should-know', 'kelseyhightower/nocode',\n",
    "       'apache/incubator-echarts', 'necolas/normalize.css',\n",
    "       'gin-gonic/gin', 'yarnpkg/yarn',\n",
    "       'scutan90/DeepLearning-500-questions',\n",
    "       'wasabeef/awesome-android-ui', 'jaywcjlove/awesome-mac',\n",
    "       'NARKOZ/hacker-scripts', 'Dogfalo/materialize', 'google/guava',\n",
    "       'aymericdamien/TensorFlow-Examples',\n",
    "       'spring-projects/spring-framework',\n",
    "       'minimaxir/big-list-of-naughty-strings', 'scrapy/scrapy',\n",
    "       'Hack-with-Github/Awesome-Hacking', 'square/okhttp',\n",
    "       'enaqx/awesome-react', 'neovim/neovim', 'nwjs/nw.js',\n",
    "       'FreeCodeCampChina/freecodecamp.cn', 'babel/babel',\n",
    "       'prettier/prettier', 'android/architecture-samples',\n",
    "       'fatedier/frp', 'ryanmcdermott/clean-code-javascript',\n",
    "       'serverless/serverless', 'sindresorhus/awesome-nodejs',\n",
    "       'parcel-bundler/parcel', 'square/retrofit', 'impress/impress.js',\n",
    "       'juliangarnier/anime', 'ripienaar/free-for-dev', 'grafana/grafana',\n",
    "       'macrozheng/mall', 'nodejs/node-v0.x-archive', 'x64dbg/x64dbg',\n",
    "       'ziishaned/learn-regex', 'vsouza/awesome-ios',\n",
    "       'astaxie/build-web-application-with-golang', 'ColorlibHQ/AdminLTE',\n",
    "       'tesseract-ocr/tesseract', 'gogs/gogs',\n",
    "       'ageitgey/face_recognition',\n",
    "       'MaximAbramchuck/awesome-interview-questions', 'sveltejs/svelte',\n",
    "       'TryGhost/Ghost', 'k88hudson/git-flight-rules',\n",
    "       'Alamofire/Alamofire', 'home-assistant/core',\n",
    "       'prakhar1989/awesome-courses', 'vercel/hyper',\n",
    "       'bailicangdu/vue2-elm', 'soimort/you-get',\n",
    "       'tuvtran/project-based-learning', 'azl397985856/leetcode',\n",
    "       'AFNetworking/AFNetworking', 'git/git', 'syncthing/syncthing',\n",
    "       'adobe/brackets', 'Genymobile/scrcpy', 'etcd-io/etcd',\n",
    "       'facebook/jest', 'prometheus/prometheus', 'karan/Projects',\n",
    "       'mozilla/pdf.js', 'PhilJay/MPAndroidChart', 'discourse/discourse',\n",
    "       'google/material-design-lite', 'justjavac/awesome-wechat-weapp',\n",
    "       'python/cpython', 'godotengine/godot', '521xueweihan/HelloGitHub',\n",
    "       'blueimp/jQuery-File-Upload', 'deepfakes/faceswap', 'hexojs/hexo',\n",
    "       'BVLC/caffe', 'mermaid-js/mermaid', 'xitu/gold-miner',\n",
    "       'preactjs/preact', 'grpc/grpc', 'open-guides/og-aws',\n",
    "       'floodsung/Deep-Learning-Papers-Reading-Roadmap', 'apache/spark',\n",
    "       'alex/what-happens-when', 'binhnguyennus/awesome-scalability',\n",
    "       'ethereum/go-ethereum', 'Kong/kong',\n",
    "       'kamranahmedse/design-patterns-for-humans',\n",
    "       'DefinitelyTyped/DefinitelyTyped', 'Solido/awesome-flutter',\n",
    "       'huggingface/transformers', 'Leaflet/Leaflet',\n",
    "       'shadowsocks/ShadowsocksX-NG', 'Homebrew/legacy-homebrew',\n",
    "       'jashkenas/backbone', 'ariya/phantomjs', 'lukehoban/es6features',\n",
    "       'Avik-Jain/100-Days-Of-ML-Code',\n",
    "       'exacity/deeplearningbook-chinese', 'zenorocha/clipboard.js',\n",
    "       'foundation/foundation-sites', 'huginn/huginn', 'videojs/video.js',\n",
    "       'testerSunshine/12306', 'JuliaLang/julia', 'nuxt/nuxt.js',\n",
    "       'isocpp/CppCoreGuidelines', 'RocketChat/Rocket.Chat',\n",
    "       'certbot/certbot', 'codepath/android_guides', 'quilljs/quill',\n",
    "       'tastejs/todomvc', 'bilibili/ijkplayer', 'caolan/async',\n",
    "       'bayandin/awesome-awesomeness', 'vuetifyjs/vuetify',\n",
    "       'fffaraz/awesome-cpp', 'mathiasbynens/dotfiles', 'symfony/symfony',\n",
    "       'facebookresearch/Detectron', 'google-research/bert',\n",
    "       'pi-hole/pi-hole', 'freeCodeCamp/devdocs', 'fxsjy/jieba',\n",
    "       'istio/istio', 'raywenderlich/swift-algorithm-club',\n",
    "       'alacritty/alacritty', 'JakeWharton/butterknife',\n",
    "       'ant-design/ant-design-pro',\n",
    "       'shengxinjing/programmer-job-blacklist', 'apachecn/AiLearning',\n",
    "       'pandas-dev/pandas', 'danielmiessler/SecLists',\n",
    "       'aosabook/500lines', 'getsentry/sentry', 'faif/python-patterns',\n",
    "       'akullpp/awesome-java', 'square/leakcanary',\n",
    "       'crossoverJie/JCSprout', 'localstack/localstack', 'wg/wrk',\n",
    "       'request/request', 'Tencent/weui', 'dylanaraps/pure-bash-bible',\n",
    "       'nylas/nylas-mail', 'google/styleguide', 'select2/select2',\n",
    "       'Modernizr/Modernizr', 'carbon-app/carbon', 'FiloSottile/mkcert',\n",
    "       'madewithml/basics', 'yangshun/front-end-interview-handbook',\n",
    "       'ngosang/trackerslist', 'johnpapa/angular-styleguide',\n",
    "       'Alvin9999/new-pac', 'houshanren/hangzhou_house_knowledge',\n",
    "       'astaxie/beego', 'fzaninotto/Faker', 'nvie/gitflow', 'iina/iina',\n",
    "       'vuejs/vuex', 'nolimits4web/swiper', 'standard/standard',\n",
    "       'ZuzooVn/machine-learning-for-software-engineers',\n",
    "       'jakevdp/PythonDataScienceHandbook', 'Marak/faker.js',\n",
    "       'pingcap/tidb', 'netty/netty', 'ziadoz/awesome-php',\n",
    "       'rethinkdb/rethinkdb', 'github/fetch', 'tailwindcss/tailwindcss',\n",
    "       'dkhamsing/open-source-ios-apps',\n",
    "       'herrbischoff/awesome-macos-command-line', 'jiahaog/nativefier',\n",
    "       'angular/angular-cli', 'alibaba/fastjson', 'florinpop17/app-ideas',\n",
    "       'ajaxorg/ace', 'naptha/tesseract.js', 'emberjs/ember.js',\n",
    "       'kelseyhightower/kubernetes-the-hard-way', 'agalwood/Motrix',\n",
    "       'Polymer/polymer', 'alibaba/arthas', 'hammerjs/hammer.js',\n",
    "       'Automattic/mongoose', 'openai/gym', 'fighting41love/funNLP',\n",
    "       'pure-css/pure', 'heartcombo/devise', 'google/leveldb',\n",
    "       'fouber/blog', 'satwikkansal/wtfpython', 't4t5/sweetalert',\n",
    "       'facebook/flow', 'Homebrew/brew', 'unknwon/the-way-to-go_ZH_CN',\n",
    "       'gitlabhq/gitlabhq', 'hashicorp/terraform', 'harvesthq/chosen',\n",
    "       'minio/minio', 'ReactiveX/rxjs', 'cheeriojs/cheerio',\n",
    "       'sequelize/sequelize', 'dcloudio/uni-app', 'webtorrent/webtorrent',\n",
    "       'mobxjs/mobx', 'remy/nodemon', 'niklasvh/html2canvas',\n",
    "       'rapid7/metasploit-framework', 'akveo/ngx-admin',\n",
    "       'cypress-io/cypress', 'redux-saga/redux-saga', 'pypa/pipenv',\n",
    "       'littlecodersh/ItChat', 'balderdashy/sails',\n",
    "       'scwang90/SmartRefreshLayout',\n",
    "       'terryum/awesome-deep-learning-papers', 'tootsuite/mastodon',\n",
    "       'alibaba/flutter-go', 'drone/drone', 'StreisandEffect/streisand',\n",
    "       'eugenp/tutorials', 'ocornut/imgui',\n",
    "       'NationalSecurityAgency/ghidra', 'rstacruz/nprogress',\n",
    "       'ctripcorp/apollo', 'wagoodman/dive', 'microsoft/monaco-editor',\n",
    "       'SortableJS/Sortable', 'koalaman/shellcheck',\n",
    "       'FezVrasta/bootstrap-material-design', 'JedWatson/react-select',\n",
    "       'aria2/aria2', 'kriasoft/react-starter-kit', 'syl20bnr/spacemacs',\n",
    "       'CymChad/BaseRecyclerViewAdapterHelper', 'gorhill/uBlock',\n",
    "       'SwiftGGTeam/the-swift-programming-language-in-chinese',\n",
    "       'powerline/fonts', 'byoungd/English-level-up-tips-for-Chinese',\n",
    "       'mochajs/mocha', 'guzzle/guzzle', 'typeorm/typeorm',\n",
    "       'markerikson/react-redux-links', 'BradLarson/GPUImage',\n",
    "       'hashicorp/consul', 'usablica/intro.js', 'dhg/Skeleton',\n",
    "       'ruanyf/jstraining', 'parse-community/parse-server',\n",
    "       'Seldaek/monolog', 'jaredhanson/passport', 'd2l-ai/d2l-zh',\n",
    "       'CMU-Perceptual-Computing-Lab/openpose', 'vuejs/vue-devtools',\n",
    "       'keon/algorithms', 'jorgebucaran/hyperapp', 'docker/compose',\n",
    "       'github/hub', 'obsproject/obs-studio', 'airbnb/lottie-ios',\n",
    "       'SwiftyJSON/SwiftyJSON', 'railsware/upterm',\n",
    "       'PowerShell/PowerShell', 'pyenv/pyenv', 'hankcs/HanLP',\n",
    "       'reduxjs/react-redux', 'pcottle/learnGitBranching',\n",
    "       'bcit-ci/CodeIgniter', 'fastai/fastai', 'mongodb/mongo',\n",
    "       'tj/commander.js', 'avajs/ava', 'google/gson',\n",
    "       'veggiemonk/awesome-docker', 'xi-editor/xi-editor',\n",
    "       'balena-io/etcher', 'mqyqingfeng/Blog', 'doczjs/docz',\n",
    "       'nlohmann/json', 'inconshreveable/ngrok', 'jinzhu/gorm',\n",
    "       'NativeScript/NativeScript', 'google/web-starter-kit',\n",
    "       'donnemartin/data-science-ipython-notebooks', 'ReactiveX/RxSwift',\n",
    "       'postcss/autoprefixer']"
   ]
  },
  {
   "cell_type": "markdown",
   "metadata": {},
   "source": [
    "# Prepare"
   ]
  },
  {
   "cell_type": "code",
   "execution_count": 209,
   "metadata": {},
   "outputs": [],
   "source": [
    "df = prepare.prep_readme_data(df)"
   ]
  },
  {
   "cell_type": "code",
   "execution_count": 210,
   "metadata": {},
   "outputs": [],
   "source": [
    "df = df[(~df.readme_contents.str.contains(\"<p \")) & (~df.readme_contents.str.contains(\"<div \"))].dropna()\n",
    "\n",
    "df.loc[(df.language != \"Python\") & (df.language !=\"Java\") & (df.language !=\"JavaScript\") & (df.language !=\"C++\"), 'is_top_language'] = 'other'\n",
    "\n",
    "df.is_top_language = df.is_top_language.fillna(df.language)"
   ]
  },
  {
   "cell_type": "code",
   "execution_count": 85,
   "metadata": {},
   "outputs": [
    {
     "data": {
      "text/html": [
       "<div>\n",
       "<style scoped>\n",
       "    .dataframe tbody tr th:only-of-type {\n",
       "        vertical-align: middle;\n",
       "    }\n",
       "\n",
       "    .dataframe tbody tr th {\n",
       "        vertical-align: top;\n",
       "    }\n",
       "\n",
       "    .dataframe thead th {\n",
       "        text-align: right;\n",
       "    }\n",
       "</style>\n",
       "<table border=\"1\" class=\"dataframe\">\n",
       "  <thead>\n",
       "    <tr style=\"text-align: right;\">\n",
       "      <th></th>\n",
       "      <th>repo</th>\n",
       "      <th>language</th>\n",
       "      <th>readme_contents</th>\n",
       "      <th>clean_tokes</th>\n",
       "      <th>clean_lemmatized</th>\n",
       "      <th>is_top_language</th>\n",
       "    </tr>\n",
       "  </thead>\n",
       "  <tbody>\n",
       "    <tr>\n",
       "      <th>13</th>\n",
       "      <td>airbnb/javascript</td>\n",
       "      <td>JavaScript</td>\n",
       "      <td># Airbnb JavaScript Style Guide() {\\n\\n*A most...</td>\n",
       "      <td>[airbnb, javascript, style, guide, a, mostly, ...</td>\n",
       "      <td>airbnb javascript style guide mostly reasonabl...</td>\n",
       "      <td>JavaScript</td>\n",
       "    </tr>\n",
       "    <tr>\n",
       "      <th>14</th>\n",
       "      <td>flutter/flutter</td>\n",
       "      <td>Dart</td>\n",
       "      <td># [![Flutter logo][]][flutter.dev]\\n\\n[![Build...</td>\n",
       "      <td>[flutter, logoflutterdev, build, status, cirru...</td>\n",
       "      <td>flutter logoflutterdev build status cirrusbuil...</td>\n",
       "      <td>other</td>\n",
       "    </tr>\n",
       "    <tr>\n",
       "      <th>15</th>\n",
       "      <td>d3/d3</td>\n",
       "      <td>JavaScript</td>\n",
       "      <td># D3: Data-Driven Documents\\n\\n&lt;a href=\"https:...</td>\n",
       "      <td>[d3, datadriven, documents, a, hrefhttpsd3jsor...</td>\n",
       "      <td>d3 datadriven document hrefhttpsd3jsorgimg src...</td>\n",
       "      <td>JavaScript</td>\n",
       "    </tr>\n",
       "    <tr>\n",
       "      <th>16</th>\n",
       "      <td>torvalds/linux</td>\n",
       "      <td>C</td>\n",
       "      <td>Linux kernel\\n============\\n\\nThere are severa...</td>\n",
       "      <td>[linux, kernel, there, are, several, guides, f...</td>\n",
       "      <td>linux kernel several guide kernel developer us...</td>\n",
       "      <td>other</td>\n",
       "    </tr>\n",
       "    <tr>\n",
       "      <th>18</th>\n",
       "      <td>jackfrued/Python-100-Days</td>\n",
       "      <td>Jupyter Notebook</td>\n",
       "      <td>## Python - 100天从新手到大师\\n\\n&gt; **作者**：骆昊\\n&gt;\\n&gt; **...</td>\n",
       "      <td>[python, 100, 8w15pythoncore50courseshttpsgith...</td>\n",
       "      <td>python 100 8w15pythoncore50courseshttpsgithubc...</td>\n",
       "      <td>other</td>\n",
       "    </tr>\n",
       "    <tr>\n",
       "      <th>...</th>\n",
       "      <td>...</td>\n",
       "      <td>...</td>\n",
       "      <td>...</td>\n",
       "      <td>...</td>\n",
       "      <td>...</td>\n",
       "      <td>...</td>\n",
       "    </tr>\n",
       "    <tr>\n",
       "      <th>243</th>\n",
       "      <td>lodash/lodash</td>\n",
       "      <td>JavaScript</td>\n",
       "      <td># lodash\\n\\n[Site](https://lodash.com/) |\\n[Do...</td>\n",
       "      <td>[lodash, sitehttpslodashcom, docshttpslodashco...</td>\n",
       "      <td>lodash sitehttpslodashcom docshttpslodashcomdo...</td>\n",
       "      <td>JavaScript</td>\n",
       "    </tr>\n",
       "    <tr>\n",
       "      <th>244</th>\n",
       "      <td>josephmisiti/awesome-machine-learning</td>\n",
       "      <td>Python</td>\n",
       "      <td># Awesome Machine Learning [![Awesome](https:/...</td>\n",
       "      <td>[awesome, machine, learning, awesomehttpscdnra...</td>\n",
       "      <td>awesome machine learning awesomehttpscdnrawgit...</td>\n",
       "      <td>Python</td>\n",
       "    </tr>\n",
       "    <tr>\n",
       "      <th>245</th>\n",
       "      <td>kdn251/interviews</td>\n",
       "      <td>Java</td>\n",
       "      <td>&gt; * 原文地址：[github.com/kdn251/interviews](https:...</td>\n",
       "      <td>[githubcomkdn251interviewshttpsgithubcomkdn251...</td>\n",
       "      <td>githubcomkdn251interviewshttpsgithubcomkdn251i...</td>\n",
       "      <td>Java</td>\n",
       "    </tr>\n",
       "    <tr>\n",
       "      <th>246</th>\n",
       "      <td>h5bp/Front-end-Developer-Interview-Questions</td>\n",
       "      <td>HTML</td>\n",
       "      <td># Front-end Job Interview Questions\\n\\nThis re...</td>\n",
       "      <td>[frontend, job, interview, questions, this, re...</td>\n",
       "      <td>frontend job interview question repository con...</td>\n",
       "      <td>other</td>\n",
       "    </tr>\n",
       "    <tr>\n",
       "      <th>247</th>\n",
       "      <td>resume/resume.github.com</td>\n",
       "      <td>JavaScript</td>\n",
       "      <td># [GitHub Résumé](https://resume.github.io/)\\n...</td>\n",
       "      <td>[github, rsumhttpsresumegithubio, a, service, ...</td>\n",
       "      <td>github rsumhttpsresumegithubio service creates...</td>\n",
       "      <td>JavaScript</td>\n",
       "    </tr>\n",
       "  </tbody>\n",
       "</table>\n",
       "<p>154 rows × 6 columns</p>\n",
       "</div>"
      ],
      "text/plain": [
       "                                             repo          language  \\\n",
       "13                              airbnb/javascript        JavaScript   \n",
       "14                                flutter/flutter              Dart   \n",
       "15                                          d3/d3        JavaScript   \n",
       "16                                 torvalds/linux                 C   \n",
       "18                      jackfrued/Python-100-Days  Jupyter Notebook   \n",
       "..                                            ...               ...   \n",
       "243                                 lodash/lodash        JavaScript   \n",
       "244         josephmisiti/awesome-machine-learning            Python   \n",
       "245                             kdn251/interviews              Java   \n",
       "246  h5bp/Front-end-Developer-Interview-Questions              HTML   \n",
       "247                      resume/resume.github.com        JavaScript   \n",
       "\n",
       "                                       readme_contents  \\\n",
       "13   # Airbnb JavaScript Style Guide() {\\n\\n*A most...   \n",
       "14   # [![Flutter logo][]][flutter.dev]\\n\\n[![Build...   \n",
       "15   # D3: Data-Driven Documents\\n\\n<a href=\"https:...   \n",
       "16   Linux kernel\\n============\\n\\nThere are severa...   \n",
       "18   ## Python - 100天从新手到大师\\n\\n> **作者**：骆昊\\n>\\n> **...   \n",
       "..                                                 ...   \n",
       "243  # lodash\\n\\n[Site](https://lodash.com/) |\\n[Do...   \n",
       "244  # Awesome Machine Learning [![Awesome](https:/...   \n",
       "245  > * 原文地址：[github.com/kdn251/interviews](https:...   \n",
       "246  # Front-end Job Interview Questions\\n\\nThis re...   \n",
       "247  # [GitHub Résumé](https://resume.github.io/)\\n...   \n",
       "\n",
       "                                           clean_tokes  \\\n",
       "13   [airbnb, javascript, style, guide, a, mostly, ...   \n",
       "14   [flutter, logoflutterdev, build, status, cirru...   \n",
       "15   [d3, datadriven, documents, a, hrefhttpsd3jsor...   \n",
       "16   [linux, kernel, there, are, several, guides, f...   \n",
       "18   [python, 100, 8w15pythoncore50courseshttpsgith...   \n",
       "..                                                 ...   \n",
       "243  [lodash, sitehttpslodashcom, docshttpslodashco...   \n",
       "244  [awesome, machine, learning, awesomehttpscdnra...   \n",
       "245  [githubcomkdn251interviewshttpsgithubcomkdn251...   \n",
       "246  [frontend, job, interview, questions, this, re...   \n",
       "247  [github, rsumhttpsresumegithubio, a, service, ...   \n",
       "\n",
       "                                      clean_lemmatized is_top_language  \n",
       "13   airbnb javascript style guide mostly reasonabl...      JavaScript  \n",
       "14   flutter logoflutterdev build status cirrusbuil...           other  \n",
       "15   d3 datadriven document hrefhttpsd3jsorgimg src...      JavaScript  \n",
       "16   linux kernel several guide kernel developer us...           other  \n",
       "18   python 100 8w15pythoncore50courseshttpsgithubc...           other  \n",
       "..                                                 ...             ...  \n",
       "243  lodash sitehttpslodashcom docshttpslodashcomdo...      JavaScript  \n",
       "244  awesome machine learning awesomehttpscdnrawgit...          Python  \n",
       "245  githubcomkdn251interviewshttpsgithubcomkdn251i...            Java  \n",
       "246  frontend job interview question repository con...           other  \n",
       "247  github rsumhttpsresumegithubio service creates...      JavaScript  \n",
       "\n",
       "[154 rows x 6 columns]"
      ]
     },
     "execution_count": 85,
     "metadata": {},
     "output_type": "execute_result"
    }
   ],
   "source": [
    "df"
   ]
  },
  {
   "cell_type": "markdown",
   "metadata": {},
   "source": [
    "# Explore"
   ]
  },
  {
   "cell_type": "code",
   "execution_count": 15,
   "metadata": {
    "scrolled": false
   },
   "outputs": [
    {
     "data": {
      "text/plain": [
       "Text(0, 0.5, 'Programming Language')"
      ]
     },
     "execution_count": 15,
     "metadata": {},
     "output_type": "execute_result"
    },
    {
     "data": {
      "image/png": "[encoded data removed]",
      "text/plain": [
       "<Figure size 1368x720 with 1 Axes>"
      ]
     },
     "metadata": {
      "needs_background": "light"
     },
     "output_type": "display_data"
    }
   ],
   "source": [
    "df.language.value_counts().sort_values(ascending=True).plot.barh(figsize=(19,10))\n",
    "plt.title(\"Number of languages in the dataframe\")\n",
    "plt.xlabel(\"Frequency\")\n",
    "plt.ylabel(\"Programming Language\")"
   ]
  },
  {
   "cell_type": "markdown",
   "metadata": {},
   "source": [
    "## What are the most common words in READMEs?"
   ]
  },
  {
   "cell_type": "code",
   "execution_count": 170,
   "metadata": {},
   "outputs": [],
   "source": [
    "def most_frequent_word(s: pd.Series) -> str:\n",
    "    # your code might be more or less complicated here, depending on how much\n",
    "    # text prep you've already done or more you want to do in this function\n",
    "    words = clean(' '.join(s))\n",
    "    most_common_word = pd.Series(words).value_counts().head(1).index\n",
    "    return most_common_word"
   ]
  },
  {
   "cell_type": "code",
   "execution_count": 16,
   "metadata": {},
   "outputs": [],
   "source": [
    "ADDITIONAL_STOPWORDS = ['r', 'u', '2', 'ltgt']\n",
    "\n",
    "def clean(text: str) -> list:\n",
    "    'A simple function to cleanup text data'\n",
    "    wnl = nltk.stem.WordNetLemmatizer()\n",
    "    stopwords = nltk.corpus.stopwords.words('english') + ADDITIONAL_STOPWORDS\n",
    "    text = (text.encode('ascii', 'ignore')\n",
    "             .decode('utf-8', 'ignore')\n",
    "             .lower())\n",
    "    words = re.sub(r'[^\\w\\s]', '', text).split() # tokenization\n",
    "    return [wnl.lemmatize(word) for word in words if word not in stopwords]"
   ]
  },
  {
   "cell_type": "code",
   "execution_count": 171,
   "metadata": {},
   "outputs": [
    {
     "data": {
      "text/html": [
       "<div>\n",
       "<style scoped>\n",
       "    .dataframe tbody tr th:only-of-type {\n",
       "        vertical-align: middle;\n",
       "    }\n",
       "\n",
       "    .dataframe tbody tr th {\n",
       "        vertical-align: top;\n",
       "    }\n",
       "\n",
       "    .dataframe thead th {\n",
       "        text-align: right;\n",
       "    }\n",
       "</style>\n",
       "<table border=\"1\" class=\"dataframe\">\n",
       "  <thead>\n",
       "    <tr style=\"text-align: right;\">\n",
       "      <th></th>\n",
       "      <th>count</th>\n",
       "      <th>most_frequent_word</th>\n",
       "    </tr>\n",
       "    <tr>\n",
       "      <th>is_top_language</th>\n",
       "      <th></th>\n",
       "      <th></th>\n",
       "    </tr>\n",
       "  </thead>\n",
       "  <tbody>\n",
       "    <tr>\n",
       "      <th>C++</th>\n",
       "      <td>11</td>\n",
       "      <td>build</td>\n",
       "    </tr>\n",
       "    <tr>\n",
       "      <th>Java</th>\n",
       "      <td>17</td>\n",
       "      <td>c</td>\n",
       "    </tr>\n",
       "    <tr>\n",
       "      <th>JavaScript</th>\n",
       "      <td>45</td>\n",
       "      <td>javascript</td>\n",
       "    </tr>\n",
       "    <tr>\n",
       "      <th>Python</th>\n",
       "      <td>21</td>\n",
       "      <td>yes</td>\n",
       "    </tr>\n",
       "    <tr>\n",
       "      <th>other</th>\n",
       "      <td>60</td>\n",
       "      <td>9</td>\n",
       "    </tr>\n",
       "  </tbody>\n",
       "</table>\n",
       "</div>"
      ],
      "text/plain": [
       "                 count most_frequent_word\n",
       "is_top_language                          \n",
       "C++                 11              build\n",
       "Java                17                  c\n",
       "JavaScript          45         javascript\n",
       "Python              21                yes\n",
       "other               60                  9"
      ]
     },
     "execution_count": 171,
     "metadata": {},
     "output_type": "execute_result"
    }
   ],
   "source": [
    "df.groupby(\"is_top_language\").clean_lemmatized.agg([\"count\", most_frequent_word])"
   ]
  },
  {
   "cell_type": "code",
   "execution_count": 55,
   "metadata": {
    "scrolled": true
   },
   "outputs": [],
   "source": [
    "all_words = clean(' '.join(df.clean_lemmatized))\n",
    "python_words = clean(' '.join(df[df.language == 'Python'].clean_lemmatized))\n",
    "javascript_words = clean(' '.join(df[df.language == 'JavaScript'].clean_lemmatized))\n",
    "java_words = clean(' '.join(df[df.language == 'Java'].clean_lemmatized))\n",
    "c_plus_plus_words = clean(' '.join(df[df.language == 'C++'].clean_lemmatized))"
   ]
  },
  {
   "cell_type": "code",
   "execution_count": 59,
   "metadata": {},
   "outputs": [
    {
     "data": {
      "text/plain": [
       "<matplotlib.axes._subplots.AxesSubplot at 0x1435a09d0>"
      ]
     },
     "execution_count": 59,
     "metadata": {},
     "output_type": "execute_result"
    },
    {
     "data": {
      "image/png": "[encoded data removed]",
      "text/plain": [
       "<Figure size 432x288 with 1 Axes>"
      ]
     },
     "metadata": {
      "needs_background": "light"
     },
     "output_type": "display_data"
    }
   ],
   "source": [
    "pd.Series(all_words).value_counts().head(12).plot.barh(title='12 most common words in all README')"
   ]
  },
  {
   "cell_type": "code",
   "execution_count": 206,
   "metadata": {},
   "outputs": [],
   "source": [
    "import explore"
   ]
  },
  {
   "cell_type": "code",
   "execution_count": 211,
   "metadata": {},
   "outputs": [
    {
     "data": {
      "image/png": "[encoded data removed]",
      "text/plain": [
       "<Figure size 1368x720 with 5 Axes>"
      ]
     },
     "metadata": {
      "needs_background": "light"
     },
     "output_type": "display_data"
    }
   ],
   "source": [
    "explore.most_common_words(df)"
   ]
  },
  {
   "cell_type": "markdown",
   "metadata": {},
   "source": [
    "## What does the distribution of IDFs look like for the most common words?"
   ]
  },
  {
   "cell_type": "code",
   "execution_count": 22,
   "metadata": {},
   "outputs": [],
   "source": [
    "def idf(word):\n",
    "    return  df.shape[0] / (1 + (df.clean_lemmatized.str.contains(word)).sum())"
   ]
  },
  {
   "cell_type": "code",
   "execution_count": 23,
   "metadata": {
    "scrolled": true
   },
   "outputs": [
    {
     "data": {
      "text/plain": [
       "1.0620689655172413"
      ]
     },
     "execution_count": 23,
     "metadata": {},
     "output_type": "execute_result"
    }
   ],
   "source": [
    "idf(\"github\")"
   ]
  },
  {
   "cell_type": "code",
   "execution_count": 24,
   "metadata": {},
   "outputs": [],
   "source": [
    "test = df.clean_lemmatized.to_dict()"
   ]
  },
  {
   "cell_type": "code",
   "execution_count": 29,
   "metadata": {},
   "outputs": [],
   "source": [
    "new_words = []\n",
    "for word in python_words:\n",
    "    if len(word) < 10:\n",
    "        new_words.append(word)"
   ]
  },
  {
   "cell_type": "code",
   "execution_count": 30,
   "metadata": {},
   "outputs": [
    {
     "data": {
      "text/plain": [
       "True"
      ]
     },
     "execution_count": 30,
     "metadata": {},
     "output_type": "execute_result"
    }
   ],
   "source": [
    "len(python_words[0]) < 10"
   ]
  },
  {
   "cell_type": "code",
   "execution_count": 31,
   "metadata": {
    "scrolled": true
   },
   "outputs": [],
   "source": [
    "# put the unique words into a data frame\n",
    "idf_df = (pd.DataFrame(dict(word=python_words))\n",
    " # calculate the idf for each word \n",
    ".assign(idf=lambda df: df.word.apply(idf))\n",
    " # sort the data for presentation purposes\n",
    ".set_index('word')\n",
    ".sort_values(by='idf', ascending=False)\n",
    ".head(5))"
   ]
  },
  {
   "cell_type": "code",
   "execution_count": 32,
   "metadata": {},
   "outputs": [
    {
     "data": {
      "text/plain": [
       "<matplotlib.axes._subplots.AxesSubplot at 0x13d6af990>"
      ]
     },
     "execution_count": 32,
     "metadata": {},
     "output_type": "execute_result"
    },
    {
     "data": {
      "image/png": "[encoded data removed]",
      "text/plain": [
       "<Figure size 432x288 with 1 Axes>"
      ]
     },
     "metadata": {
      "needs_background": "light"
     },
     "output_type": "display_data"
    }
   ],
   "source": [
    "idf_df.plot.barh()"
   ]
  },
  {
   "cell_type": "code",
   "execution_count": 33,
   "metadata": {},
   "outputs": [],
   "source": [
    "languages = df.language.value_counts().head(5).index\n",
    "idf_scores = pd.DataFrame()\n",
    "\n",
    "for language in languages:\n",
    "    words = clean(' '.join(df[df.language == language].clean_lemmatized))\n",
    "    # put the unique words into a data frame\n",
    "    idf_df = (pd.DataFrame(dict(word=words))\n",
    "     # calculate the idf for each word \n",
    "    .assign(idf=lambda df: df.word.apply(idf))\n",
    "     # sort the data for presentation purposes\n",
    "    .set_index('word')\n",
    "    .sort_values(by='idf', ascending=False)\n",
    "    .head(5))\n",
    "    idf_df[\"language\"] = language\n",
    "             \n",
    "    idf_scores = pd.concat([idf_df, idf_scores])\n",
    "             "
   ]
  },
  {
   "cell_type": "code",
   "execution_count": 34,
   "metadata": {},
   "outputs": [
    {
     "data": {
      "text/html": [
       "<div>\n",
       "<style scoped>\n",
       "    .dataframe tbody tr th:only-of-type {\n",
       "        vertical-align: middle;\n",
       "    }\n",
       "\n",
       "    .dataframe tbody tr th {\n",
       "        vertical-align: top;\n",
       "    }\n",
       "\n",
       "    .dataframe thead th {\n",
       "        text-align: right;\n",
       "    }\n",
       "</style>\n",
       "<table border=\"1\" class=\"dataframe\">\n",
       "  <thead>\n",
       "    <tr style=\"text-align: right;\">\n",
       "      <th></th>\n",
       "      <th>idf</th>\n",
       "      <th>language</th>\n",
       "    </tr>\n",
       "    <tr>\n",
       "      <th>word</th>\n",
       "      <th></th>\n",
       "      <th></th>\n",
       "    </tr>\n",
       "  </thead>\n",
       "  <tbody>\n",
       "    <tr>\n",
       "      <th>restithttpsgithubcomyookoalarestit</th>\n",
       "      <td>77.0</td>\n",
       "      <td>Go</td>\n",
       "    </tr>\n",
       "    <tr>\n",
       "      <th>godog</th>\n",
       "      <td>77.0</td>\n",
       "      <td>Go</td>\n",
       "    </tr>\n",
       "    <tr>\n",
       "      <th>gocronhttpsgithubcomrkgocron</th>\n",
       "      <td>77.0</td>\n",
       "      <td>Go</td>\n",
       "    </tr>\n",
       "    <tr>\n",
       "      <th>clockworkhttpsgithubcomwhiteshtefclockwork</th>\n",
       "      <td>77.0</td>\n",
       "      <td>Go</td>\n",
       "    </tr>\n",
       "    <tr>\n",
       "      <th>nethttphandler</th>\n",
       "      <td>77.0</td>\n",
       "      <td>Go</td>\n",
       "    </tr>\n",
       "    <tr>\n",
       "      <th>httpsakamsterminal</th>\n",
       "      <td>77.0</td>\n",
       "      <td>C++</td>\n",
       "    </tr>\n",
       "    <tr>\n",
       "      <th>profiled</th>\n",
       "      <td>77.0</td>\n",
       "      <td>C++</td>\n",
       "    </tr>\n",
       "    <tr>\n",
       "      <th>cmder_rootconfigprofiledbat</th>\n",
       "      <td>77.0</td>\n",
       "      <td>C++</td>\n",
       "    </tr>\n",
       "    <tr>\n",
       "      <th>envcmder_rootconfigprofiledps1</th>\n",
       "      <td>77.0</td>\n",
       "      <td>C++</td>\n",
       "    </tr>\n",
       "    <tr>\n",
       "      <th>bashmintty</th>\n",
       "      <td>77.0</td>\n",
       "      <td>C++</td>\n",
       "    </tr>\n",
       "    <tr>\n",
       "      <th>155k</th>\n",
       "      <td>77.0</td>\n",
       "      <td>Java</td>\n",
       "    </tr>\n",
       "    <tr>\n",
       "      <th>lijinthunotespythonhttpsgithubcomlijinthunotespython</th>\n",
       "      <td>77.0</td>\n",
       "      <td>Java</td>\n",
       "    </tr>\n",
       "    <tr>\n",
       "      <th>56k</th>\n",
       "      <td>77.0</td>\n",
       "      <td>Java</td>\n",
       "    </tr>\n",
       "    <tr>\n",
       "      <th>tensorflow2tensorflow20tag</th>\n",
       "      <td>77.0</td>\n",
       "      <td>Java</td>\n",
       "    </tr>\n",
       "    <tr>\n",
       "      <th>czy36mengfeitensorflow2_tutorials_chinesehttpsgithubcomczy36mengfeitensorflow2_tutorials_chinese</th>\n",
       "      <td>77.0</td>\n",
       "      <td>Java</td>\n",
       "    </tr>\n",
       "    <tr>\n",
       "      <th>_ymp4</th>\n",
       "      <td>154.0</td>\n",
       "      <td>Python</td>\n",
       "    </tr>\n",
       "    <tr>\n",
       "      <th>gopherdatahttpsgithubcomgopherdataresourcestreemastertooling</th>\n",
       "      <td>77.0</td>\n",
       "      <td>Python</td>\n",
       "    </tr>\n",
       "    <tr>\n",
       "      <th>onlyformat</th>\n",
       "      <td>77.0</td>\n",
       "      <td>Python</td>\n",
       "    </tr>\n",
       "    <tr>\n",
       "      <th>namepythongeneralpurposea</th>\n",
       "      <td>77.0</td>\n",
       "      <td>Python</td>\n",
       "    </tr>\n",
       "    <tr>\n",
       "      <th>modelling</th>\n",
       "      <td>77.0</td>\n",
       "      <td>Python</td>\n",
       "    </tr>\n",
       "    <tr>\n",
       "      <th>httpsgithubcomh5bphtml5boilerplatehttpsgithubcomh5bphtml5boilerplate</th>\n",
       "      <td>77.0</td>\n",
       "      <td>JavaScript</td>\n",
       "    </tr>\n",
       "    <tr>\n",
       "      <th>namecommasdanglingaa</th>\n",
       "      <td>77.0</td>\n",
       "      <td>JavaScript</td>\n",
       "    </tr>\n",
       "    <tr>\n",
       "      <th>1815</th>\n",
       "      <td>77.0</td>\n",
       "      <td>JavaScript</td>\n",
       "    </tr>\n",
       "    <tr>\n",
       "      <th>birthyear</th>\n",
       "      <td>77.0</td>\n",
       "      <td>JavaScript</td>\n",
       "    </tr>\n",
       "    <tr>\n",
       "      <th>lluvia</th>\n",
       "      <td>77.0</td>\n",
       "      <td>JavaScript</td>\n",
       "    </tr>\n",
       "  </tbody>\n",
       "</table>\n",
       "</div>"
      ],
      "text/plain": [
       "                                                      idf    language\n",
       "word                                                                 \n",
       "restithttpsgithubcomyookoalarestit                   77.0          Go\n",
       "godog                                                77.0          Go\n",
       "gocronhttpsgithubcomrkgocron                         77.0          Go\n",
       "clockworkhttpsgithubcomwhiteshtefclockwork           77.0          Go\n",
       "nethttphandler                                       77.0          Go\n",
       "httpsakamsterminal                                   77.0         C++\n",
       "profiled                                             77.0         C++\n",
       "cmder_rootconfigprofiledbat                          77.0         C++\n",
       "envcmder_rootconfigprofiledps1                       77.0         C++\n",
       "bashmintty                                           77.0         C++\n",
       "155k                                                 77.0        Java\n",
       "lijinthunotespythonhttpsgithubcomlijinthunotesp...   77.0        Java\n",
       "56k                                                  77.0        Java\n",
       "tensorflow2tensorflow20tag                           77.0        Java\n",
       "czy36mengfeitensorflow2_tutorials_chinesehttpsg...   77.0        Java\n",
       "_ymp4                                               154.0      Python\n",
       "gopherdatahttpsgithubcomgopherdataresourcestree...   77.0      Python\n",
       "onlyformat                                           77.0      Python\n",
       "namepythongeneralpurposea                            77.0      Python\n",
       "modelling                                            77.0      Python\n",
       "httpsgithubcomh5bphtml5boilerplatehttpsgithubco...   77.0  JavaScript\n",
       "namecommasdanglingaa                                 77.0  JavaScript\n",
       "1815                                                 77.0  JavaScript\n",
       "birthyear                                            77.0  JavaScript\n",
       "lluvia                                               77.0  JavaScript"
      ]
     },
     "execution_count": 34,
     "metadata": {},
     "output_type": "execute_result"
    }
   ],
   "source": [
    "idf_scores"
   ]
  },
  {
   "cell_type": "code",
   "execution_count": 35,
   "metadata": {
    "scrolled": true
   },
   "outputs": [
    {
     "name": "stderr",
     "output_type": "stream",
     "text": [
      "/usr/local/anaconda3/lib/python3.7/site-packages/ipykernel_launcher.py:8: UserWarning: Tight layout not applied. tight_layout cannot make axes width small enough to accommodate all axes decorations\n",
      "  \n"
     ]
    },
    {
     "data": {
      "image/png": "[encoded data removed]",
      "text/plain": [
       "<Figure size 1800x1440 with 5 Axes>"
      ]
     },
     "metadata": {
      "needs_background": "light"
     },
     "output_type": "display_data"
    }
   ],
   "source": [
    "f = plt.figure(figsize=(25,20))\n",
    "\n",
    "for count, language in enumerate(languages):\n",
    "\n",
    "    f.add_subplot(5,5, count+1)\n",
    "    sns.barplot(data=idf_scores[idf_scores.language == language], y=idf_scores[idf_scores.language == language].index, x=\"idf\")\n",
    "    plt.title(f\"IDF for {language}\")\n",
    "plt.tight_layout()\n",
    "plt.show()"
   ]
  },
  {
   "cell_type": "markdown",
   "metadata": {},
   "source": [
    "We can see that there might be some problems with the tokenizer, which is leading to some words not being spaced out, as a result, characters are being clump together to create extra longs words, or words with no meaning. I sugest we perhaps don't use this for modeling."
   ]
  },
  {
   "cell_type": "markdown",
   "metadata": {},
   "source": [
    "# Is there a difference in the mean number of words by language?\n",
    "\n",
    "* $H_0$: There is no significant difference between the mean word count of each language when compared with the mean word count of the group.\n",
    "* $H_a$: There is a significant difference between the mean word count of each language when compared with the mean word count of the group.\n",
    "\n",
    "$\\alpha$ = 0.05"
   ]
  },
  {
   "cell_type": "code",
   "execution_count": 87,
   "metadata": {},
   "outputs": [],
   "source": [
    "from scipy import stats"
   ]
  },
  {
   "cell_type": "code",
   "execution_count": 212,
   "metadata": {},
   "outputs": [
    {
     "ename": "AttributeError",
     "evalue": "module 'explore' has no attribute 'plot_word_count_distribution'",
     "output_type": "error",
     "traceback": [
      "\u001b[0;31m---------------------------------------------------------------------------\u001b[0m",
      "\u001b[0;31mAttributeError\u001b[0m                            Traceback (most recent call last)",
      "\u001b[0;32m<ipython-input-212-f2fcdad6bf90>\u001b[0m in \u001b[0;36m<module>\u001b[0;34m\u001b[0m\n\u001b[0;32m----> 1\u001b[0;31m \u001b[0mexplore\u001b[0m\u001b[0;34m.\u001b[0m\u001b[0mplot_word_count_distribution\u001b[0m\u001b[0;34m(\u001b[0m\u001b[0mdf\u001b[0m\u001b[0;34m)\u001b[0m\u001b[0;34m\u001b[0m\u001b[0;34m\u001b[0m\u001b[0m\n\u001b[0m",
      "\u001b[0;31mAttributeError\u001b[0m: module 'explore' has no attribute 'plot_word_count_distribution'"
     ]
    }
   ],
   "source": [
    "# explore.plot_word_count_distribution(df)"
   ]
  },
  {
   "cell_type": "code",
   "execution_count": 155,
   "metadata": {
    "scrolled": false
   },
   "outputs": [
    {
     "data": {
      "text/plain": [
       "Text(0.5, 1.0, 'Word Count Distribution')"
      ]
     },
     "execution_count": 155,
     "metadata": {},
     "output_type": "execute_result"
    },
    {
     "data": {
      "image/png": "[encoded data removed]",
      "text/plain": [
       "<Figure size 864x576 with 1 Axes>"
      ]
     },
     "metadata": {
      "needs_background": "light"
     },
     "output_type": "display_data"
    }
   ],
   "source": [
    "plt.figure(figsize=(12,8))\n",
    "sns.distplot(df.word_count)\n",
    "plt.title(\"Word Count Distribution\")"
   ]
  },
  {
   "cell_type": "markdown",
   "metadata": {},
   "source": [
    "It is clear that the word count is not normally distributed. The count is actually right skewed, meaning that most of the word counts by readme are below the average. There seems that there are several outliers that are skewing the data. As such, we likely won't be able to do an accurate t-test, as that requires that the data is normally distributed. "
   ]
  },
  {
   "cell_type": "code",
   "execution_count": 152,
   "metadata": {
    "scrolled": false
   },
   "outputs": [
    {
     "data": {
      "text/plain": [
       "is_top_language\n",
       "C++            513.363636\n",
       "Java          1006.235294\n",
       "JavaScript     807.666667\n",
       "Python        2093.285714\n",
       "other         1321.033333\n",
       "Name: word_count, dtype: float64"
      ]
     },
     "execution_count": 152,
     "metadata": {},
     "output_type": "execute_result"
    }
   ],
   "source": [
    "mean_word_count = df.groupby(\"is_top_language\").word_count.mean()\n",
    "mean_word_count"
   ]
  },
  {
   "cell_type": "code",
   "execution_count": 151,
   "metadata": {},
   "outputs": [
    {
     "name": "stdout",
     "output_type": "stream",
     "text": [
      " The p value for JavaScript is 0.06317553741385247\n",
      " The p value for other is 0.7698034765500541\n",
      " The p value for Python is 0.15269716646358047\n",
      " The p value for Java is 0.7771628049886908\n",
      " The p value for C++ is 0.002288247512547638\n"
     ]
    }
   ],
   "source": [
    "languages = df.is_top_language.unique()\n",
    "for language in languages:\n",
    "    subgroup = df[df.is_top_language == language].word_count\n",
    "    tsat, p = stats.ttest_1samp(subgroup, df.word_count.mean())\n",
    "    print(f\" The p value for {language} is {p}\")"
   ]
  },
  {
   "cell_type": "markdown",
   "metadata": {},
   "source": [
    "As we can see, the only language that has a word count that is significantly different is `C++`. We can see that, on average, `C++` does have a smaller number of word per readme than the rest. However, given that the data is not normally distributed, we can't trust the results too much."
   ]
  },
  {
   "cell_type": "markdown",
   "metadata": {},
   "source": [
    "## Modeling"
   ]
  },
  {
   "cell_type": "code",
   "execution_count": 242,
   "metadata": {},
   "outputs": [],
   "source": [
    "import model\n",
    "\n",
    "from sklearn.feature_extraction.text import CountVectorizer \n",
    "\n",
    "from sklearn.model_selection import train_test_split \n",
    "from sklearn.tree import DecisionTreeClassifier\n",
    "from sklearn.ensemble import RandomForestClassifier"
   ]
  },
  {
   "cell_type": "code",
   "execution_count": 287,
   "metadata": {},
   "outputs": [],
   "source": [
    "X_train, X_validate, X_test, y_train, y_validate, y_test = model.preprocessing(\"tf_idf\", \"is_top_language\")\n",
    "predictions = pd.DataFrame({\"actual\": y_train, \"baseline\": y_train.mode()[0]})"
   ]
  },
  {
   "cell_type": "markdown",
   "metadata": {},
   "source": [
    "### Decision Tree"
   ]
  },
  {
   "cell_type": "code",
   "execution_count": 326,
   "metadata": {},
   "outputs": [
    {
     "name": "stdout",
     "output_type": "stream",
     "text": [
      "bag_of_words, score = 0.7739130434782608\n",
      "tf_idf, score = 0.8\n",
      "bag_of_ngrams, score = 0.7739130434782608\n"
     ]
    }
   ],
   "source": [
    "data_rep = [\"bag_of_words\", \"tf_idf\", \"bag_of_ngrams\"]\n",
    "\n",
    "for i in data_rep:\n",
    "    if i == \"bag_of_ngrams\":\n",
    "        X_train, X_validate, X_test, y_train, y_validate, y_test = model.preprocessing(\"bag_of_ngrams\", \"is_top_language\", ngram_range = (1,2))\n",
    "        clf, y_pred = model.run_clf(X_train, y_train, 5)\n",
    "        score = clf.score(X_train, y_train)\n",
    "        print(f\"{i}, score = {score}\")\n",
    "    else: \n",
    "        \n",
    "        X_train, X_validate, X_test, y_train, y_validate, y_test = model.preprocessing(i, \"is_top_language\")\n",
    "        clf, y_pred = model.run_clf(X_train, y_train, 5)\n",
    "        score = clf.score(X_train, y_train)\n",
    "        print(f\"{i}, score = {score}\")\n",
    "    "
   ]
  },
  {
   "cell_type": "code",
   "execution_count": 325,
   "metadata": {
    "scrolled": true
   },
   "outputs": [
    {
     "name": "stdout",
     "output_type": "stream",
     "text": [
      "Max_depth = 1, accuracy_score = 0.47. Diff = 0.18\n",
      "Max_depth = 2, accuracy_score = 0.58. Diff = -0.06\n",
      "Max_depth = 3, accuracy_score = 0.67. Diff = 0.04\n",
      "Max_depth = 4, accuracy_score = 0.70. Diff = 0.08\n",
      "Max_depth = 5, accuracy_score = 0.77. Diff = 0.20\n",
      "Max_depth = 6, accuracy_score = 0.85. Diff = 0.31\n",
      "Max_depth = 7, accuracy_score = 0.91. Diff = 0.41\n",
      "Max_depth = 8, accuracy_score = 0.97. Diff = 0.39\n",
      "Max_depth = 9, accuracy_score = 0.97. Diff = 0.42\n",
      "Max_depth = 10, accuracy_score = 0.99. Diff = 0.38\n",
      "Max_depth = 11, accuracy_score = 1.00. Diff = 0.38\n",
      "Max_depth = 12, accuracy_score = 1.00. Diff = 0.38\n",
      "Max_depth = 13, accuracy_score = 1.00. Diff = 0.38\n",
      "Max_depth = 14, accuracy_score = 1.00. Diff = 0.38\n",
      "Max_depth = 15, accuracy_score = 1.00. Diff = 0.38\n",
      "Max_depth = 16, accuracy_score = 1.00. Diff = 0.38\n",
      "Max_depth = 17, accuracy_score = 1.00. Diff = 0.38\n",
      "Max_depth = 18, accuracy_score = 1.00. Diff = 0.38\n",
      "Max_depth = 19, accuracy_score = 1.00. Diff = 0.38\n"
     ]
    }
   ],
   "source": [
    "X_train, X_validate, X_test, y_train, y_validate, y_test = model.preprocessing(\"tf_idf\", \"is_top_language\")\n",
    "for i in range(1, 20):\n",
    "    clf, y_pred = model.run_clf(X_train, y_train, i)\n",
    "    score = clf.score(X_train, y_train)\n",
    "    validate_score = clf.score(X_validate, y_validate)\n",
    "    print(f\"Max_depth = {i}, accuracy_score = {score:.2f}. Diff = {(score - validate_score) / score:.2f}\")"
   ]
  },
  {
   "cell_type": "code",
   "execution_count": 333,
   "metadata": {},
   "outputs": [],
   "source": [
    "X_train, X_validate, X_test, y_train, y_validate, y_test = model.preprocessing(\"tf_idf\", \"is_top_language\")\n",
    "clf, y_pred = model.run_clf(X_train, y_train, 5)\n",
    "predictions[\"decision_tree\"] = y_pred"
   ]
  },
  {
   "cell_type": "code",
   "execution_count": 328,
   "metadata": {
    "scrolled": true
   },
   "outputs": [
    {
     "name": "stdout",
     "output_type": "stream",
     "text": [
      "Accuracy on dataset: 0.70\n",
      "            C++  Java  JavaScript  Python  other\n",
      "C++           2     0           0       0      7\n",
      "Java          0     7           0       0      6\n",
      "JavaScript    0     0          18       0     10\n",
      "Python        0     0           0      14      6\n",
      "other         0     0           6       0     39\n"
     ]
    },
    {
     "data": {
      "text/html": [
       "<div>\n",
       "<style scoped>\n",
       "    .dataframe tbody tr th:only-of-type {\n",
       "        vertical-align: middle;\n",
       "    }\n",
       "\n",
       "    .dataframe tbody tr th {\n",
       "        vertical-align: top;\n",
       "    }\n",
       "\n",
       "    .dataframe thead th {\n",
       "        text-align: right;\n",
       "    }\n",
       "</style>\n",
       "<table border=\"1\" class=\"dataframe\">\n",
       "  <thead>\n",
       "    <tr style=\"text-align: right;\">\n",
       "      <th></th>\n",
       "      <th>C++</th>\n",
       "      <th>Java</th>\n",
       "      <th>JavaScript</th>\n",
       "      <th>Python</th>\n",
       "      <th>other</th>\n",
       "      <th>accuracy</th>\n",
       "      <th>macro avg</th>\n",
       "      <th>weighted avg</th>\n",
       "    </tr>\n",
       "  </thead>\n",
       "  <tbody>\n",
       "    <tr>\n",
       "      <th>precision</th>\n",
       "      <td>1.000000</td>\n",
       "      <td>1.000000</td>\n",
       "      <td>0.750000</td>\n",
       "      <td>1.000000</td>\n",
       "      <td>0.573529</td>\n",
       "      <td>0.695652</td>\n",
       "      <td>0.864706</td>\n",
       "      <td>0.772251</td>\n",
       "    </tr>\n",
       "    <tr>\n",
       "      <th>recall</th>\n",
       "      <td>0.222222</td>\n",
       "      <td>0.538462</td>\n",
       "      <td>0.642857</td>\n",
       "      <td>0.700000</td>\n",
       "      <td>0.866667</td>\n",
       "      <td>0.695652</td>\n",
       "      <td>0.594042</td>\n",
       "      <td>0.695652</td>\n",
       "    </tr>\n",
       "    <tr>\n",
       "      <th>f1-score</th>\n",
       "      <td>0.363636</td>\n",
       "      <td>0.700000</td>\n",
       "      <td>0.692308</td>\n",
       "      <td>0.823529</td>\n",
       "      <td>0.690265</td>\n",
       "      <td>0.695652</td>\n",
       "      <td>0.653948</td>\n",
       "      <td>0.689477</td>\n",
       "    </tr>\n",
       "    <tr>\n",
       "      <th>support</th>\n",
       "      <td>9.000000</td>\n",
       "      <td>13.000000</td>\n",
       "      <td>28.000000</td>\n",
       "      <td>20.000000</td>\n",
       "      <td>45.000000</td>\n",
       "      <td>0.695652</td>\n",
       "      <td>115.000000</td>\n",
       "      <td>115.000000</td>\n",
       "    </tr>\n",
       "  </tbody>\n",
       "</table>\n",
       "</div>"
      ],
      "text/plain": [
       "                C++       Java  JavaScript     Python      other  accuracy  \\\n",
       "precision  1.000000   1.000000    0.750000   1.000000   0.573529  0.695652   \n",
       "recall     0.222222   0.538462    0.642857   0.700000   0.866667  0.695652   \n",
       "f1-score   0.363636   0.700000    0.692308   0.823529   0.690265  0.695652   \n",
       "support    9.000000  13.000000   28.000000  20.000000  45.000000  0.695652   \n",
       "\n",
       "            macro avg  weighted avg  \n",
       "precision    0.864706      0.772251  \n",
       "recall       0.594042      0.695652  \n",
       "f1-score     0.653948      0.689477  \n",
       "support    115.000000    115.000000  "
      ]
     },
     "execution_count": 328,
     "metadata": {},
     "output_type": "execute_result"
    }
   ],
   "source": [
    "accuracy_score, matrix, report = model.accuracy_report(clf, y_pred, y_train)\n",
    "print(accuracy_score)\n",
    "print(matrix)\n",
    "report"
   ]
  },
  {
   "cell_type": "code",
   "execution_count": 292,
   "metadata": {},
   "outputs": [
    {
     "data": {
      "text/plain": [
       "<matplotlib.axes._subplots.AxesSubplot at 0x14821aa10>"
      ]
     },
     "execution_count": 292,
     "metadata": {},
     "output_type": "execute_result"
    },
    {
     "data": {
      "image/png": "[encoded data removed]",
      "text/plain": [
       "<Figure size 720x576 with 1 Axes>"
      ]
     },
     "metadata": {
      "needs_background": "light"
     },
     "output_type": "display_data"
    }
   ],
   "source": [
    "pd.Series(dict(zip(cv.get_feature_names(), rf.feature_importances_))).sort_values().tail(5).plot.barh(title = \"Most important words used for modeling\", figsize=(10, 8))"
   ]
  },
  {
   "cell_type": "markdown",
   "metadata": {},
   "source": [
    "### Random Forest"
   ]
  },
  {
   "cell_type": "code",
   "execution_count": 293,
   "metadata": {},
   "outputs": [
    {
     "name": "stdout",
     "output_type": "stream",
     "text": [
      "bag_of_words, score = 0.591304347826087\n",
      "tf_idf, score = 0.6956521739130435\n",
      "bag_of_ngrams, score = 0.4260869565217391\n"
     ]
    }
   ],
   "source": [
    "data_rep = [\"bag_of_words\", \"tf_idf\", \"bag_of_ngrams\"]\n",
    "\n",
    "for i in data_rep:\n",
    "    X_train, X_validate, X_test, y_train, y_validate, y_test = model.preprocessing(i, \"is_top_language\")\n",
    "    rf = RandomForestClassifier(random_state= 123, min_samples_leaf = 1, max_depth = 5).fit(X_train, y_train)\n",
    "    score = rf.score(X_train, y_train)\n",
    "    print(f\"{i}, score = {score}\")\n",
    "    "
   ]
  },
  {
   "cell_type": "markdown",
   "metadata": {},
   "source": [
    "We can see that the best alternative is to use tf_idf for this model"
   ]
  },
  {
   "cell_type": "code",
   "execution_count": 294,
   "metadata": {},
   "outputs": [],
   "source": [
    "X_train, X_validate, X_test, y_train, y_validate, y_test = model.preprocessing(\"tf_idf\", \"is_top_language\")"
   ]
  },
  {
   "cell_type": "code",
   "execution_count": 295,
   "metadata": {
    "scrolled": true
   },
   "outputs": [
    {
     "name": "stdout",
     "output_type": "stream",
     "text": [
      "Max_depth = 1, accuracy_score = 0.39. Diff = 0.02\n",
      "Max_depth = 2, accuracy_score = 0.43. Diff = 0.10\n",
      "Max_depth = 3, accuracy_score = 0.52. Diff = 0.26\n",
      "Max_depth = 4, accuracy_score = 0.59. Diff = 0.35\n",
      "Max_depth = 5, accuracy_score = 0.70. Diff = 0.34\n",
      "Max_depth = 6, accuracy_score = 0.71. Diff = 0.39\n",
      "Max_depth = 7, accuracy_score = 0.76. Diff = 0.39\n",
      "Max_depth = 8, accuracy_score = 0.83. Diff = 0.44\n",
      "Max_depth = 9, accuracy_score = 0.87. Diff = 0.50\n",
      "Max_depth = 10, accuracy_score = 0.90. Diff = 0.49\n",
      "Max_depth = 11, accuracy_score = 0.90. Diff = 0.52\n",
      "Max_depth = 12, accuracy_score = 0.92. Diff = 0.53\n",
      "Max_depth = 13, accuracy_score = 0.93. Diff = 0.53\n",
      "Max_depth = 14, accuracy_score = 0.95. Diff = 0.54\n",
      "Max_depth = 15, accuracy_score = 0.97. Diff = 0.55\n",
      "Max_depth = 16, accuracy_score = 0.98. Diff = 0.58\n",
      "Max_depth = 17, accuracy_score = 0.98. Diff = 0.56\n",
      "Max_depth = 18, accuracy_score = 0.98. Diff = 0.58\n",
      "Max_depth = 19, accuracy_score = 0.98. Diff = 0.58\n"
     ]
    }
   ],
   "source": [
    "for i in range(1, 20):\n",
    "    rf, y_pred = model.run_rf(X_train, y_train, 1, i)\n",
    "    score = rf.score(X_train, y_train)\n",
    "    validate_score = rf.score(X_validate, y_validate)\n",
    "    print(f\"Max_depth = {i}, accuracy_score = {score:.2f}. Diff = {(score - validate_score) / score:.2f}\")"
   ]
  },
  {
   "cell_type": "markdown",
   "metadata": {},
   "source": [
    "The best score, that doesn't overfit, is a max_depth of 2"
   ]
  },
  {
   "cell_type": "code",
   "execution_count": 296,
   "metadata": {},
   "outputs": [],
   "source": [
    "rf, y_pred = model.run_rf(X_train, y_train, 1, 2)\n",
    "predictions[\"random_forest\"] = y_pred"
   ]
  },
  {
   "cell_type": "code",
   "execution_count": 297,
   "metadata": {},
   "outputs": [
    {
     "name": "stdout",
     "output_type": "stream",
     "text": [
      "Accuracy on dataset: 0.43\n",
      "            C++  Java  JavaScript  Python  other\n",
      "C++           0     0           0       0      9\n",
      "Java          0     0           0       0     13\n",
      "JavaScript    0     0           0       0     28\n",
      "Python        0     0           0       4     16\n",
      "other         0     0           0       0     45\n"
     ]
    },
    {
     "name": "stderr",
     "output_type": "stream",
     "text": [
      "/usr/local/anaconda3/lib/python3.7/site-packages/sklearn/metrics/_classification.py:1272: UndefinedMetricWarning: Precision and F-score are ill-defined and being set to 0.0 in labels with no predicted samples. Use `zero_division` parameter to control this behavior.\n",
      "  _warn_prf(average, modifier, msg_start, len(result))\n"
     ]
    },
    {
     "data": {
      "text/html": [
       "<div>\n",
       "<style scoped>\n",
       "    .dataframe tbody tr th:only-of-type {\n",
       "        vertical-align: middle;\n",
       "    }\n",
       "\n",
       "    .dataframe tbody tr th {\n",
       "        vertical-align: top;\n",
       "    }\n",
       "\n",
       "    .dataframe thead th {\n",
       "        text-align: right;\n",
       "    }\n",
       "</style>\n",
       "<table border=\"1\" class=\"dataframe\">\n",
       "  <thead>\n",
       "    <tr style=\"text-align: right;\">\n",
       "      <th></th>\n",
       "      <th>C++</th>\n",
       "      <th>Java</th>\n",
       "      <th>JavaScript</th>\n",
       "      <th>Python</th>\n",
       "      <th>other</th>\n",
       "      <th>accuracy</th>\n",
       "      <th>macro avg</th>\n",
       "      <th>weighted avg</th>\n",
       "    </tr>\n",
       "  </thead>\n",
       "  <tbody>\n",
       "    <tr>\n",
       "      <th>precision</th>\n",
       "      <td>0.0</td>\n",
       "      <td>0.0</td>\n",
       "      <td>0.0</td>\n",
       "      <td>1.000000</td>\n",
       "      <td>0.405405</td>\n",
       "      <td>0.426087</td>\n",
       "      <td>0.281081</td>\n",
       "      <td>0.332550</td>\n",
       "    </tr>\n",
       "    <tr>\n",
       "      <th>recall</th>\n",
       "      <td>0.0</td>\n",
       "      <td>0.0</td>\n",
       "      <td>0.0</td>\n",
       "      <td>0.200000</td>\n",
       "      <td>1.000000</td>\n",
       "      <td>0.426087</td>\n",
       "      <td>0.240000</td>\n",
       "      <td>0.426087</td>\n",
       "    </tr>\n",
       "    <tr>\n",
       "      <th>f1-score</th>\n",
       "      <td>0.0</td>\n",
       "      <td>0.0</td>\n",
       "      <td>0.0</td>\n",
       "      <td>0.333333</td>\n",
       "      <td>0.576923</td>\n",
       "      <td>0.426087</td>\n",
       "      <td>0.182051</td>\n",
       "      <td>0.283724</td>\n",
       "    </tr>\n",
       "    <tr>\n",
       "      <th>support</th>\n",
       "      <td>9.0</td>\n",
       "      <td>13.0</td>\n",
       "      <td>28.0</td>\n",
       "      <td>20.000000</td>\n",
       "      <td>45.000000</td>\n",
       "      <td>0.426087</td>\n",
       "      <td>115.000000</td>\n",
       "      <td>115.000000</td>\n",
       "    </tr>\n",
       "  </tbody>\n",
       "</table>\n",
       "</div>"
      ],
      "text/plain": [
       "           C++  Java  JavaScript     Python      other  accuracy   macro avg  \\\n",
       "precision  0.0   0.0         0.0   1.000000   0.405405  0.426087    0.281081   \n",
       "recall     0.0   0.0         0.0   0.200000   1.000000  0.426087    0.240000   \n",
       "f1-score   0.0   0.0         0.0   0.333333   0.576923  0.426087    0.182051   \n",
       "support    9.0  13.0        28.0  20.000000  45.000000  0.426087  115.000000   \n",
       "\n",
       "           weighted avg  \n",
       "precision      0.332550  \n",
       "recall         0.426087  \n",
       "f1-score       0.283724  \n",
       "support      115.000000  "
      ]
     },
     "execution_count": 297,
     "metadata": {},
     "output_type": "execute_result"
    }
   ],
   "source": [
    "accuracy_score, matrix, report = model.accuracy_report(rf, y_pred, y_train)\n",
    "print(accuracy_score)\n",
    "print(matrix)\n",
    "report"
   ]
  },
  {
   "cell_type": "code",
   "execution_count": 298,
   "metadata": {
    "scrolled": false
   },
   "outputs": [
    {
     "data": {
      "text/plain": [
       "<matplotlib.axes._subplots.AxesSubplot at 0x1485a7d10>"
      ]
     },
     "execution_count": 298,
     "metadata": {},
     "output_type": "execute_result"
    },
    {
     "data": {
      "image/png": "[encoded data removed]",
      "text/plain": [
       "<Figure size 720x576 with 1 Axes>"
      ]
     },
     "metadata": {
      "needs_background": "light"
     },
     "output_type": "display_data"
    }
   ],
   "source": [
    "pd.Series(dict(zip(cv.get_feature_names(), rf.feature_importances_))).sort_values().tail(5).plot.barh(title = \"Most important words used for modeling\", figsize=(10, 8))"
   ]
  },
  {
   "cell_type": "markdown",
   "metadata": {},
   "source": [
    "### KNN"
   ]
  },
  {
   "cell_type": "code",
   "execution_count": 299,
   "metadata": {},
   "outputs": [
    {
     "name": "stdout",
     "output_type": "stream",
     "text": [
      "bag_of_words, score = 0.6782608695652174\n",
      "tf_idf, score = 0.7304347826086957\n",
      "bag_of_ngrams, score = 0.5652173913043478\n"
     ]
    }
   ],
   "source": [
    "data_rep = [\"bag_of_words\", \"tf_idf\", \"bag_of_ngrams\"]\n",
    "\n",
    "for i in data_rep:\n",
    "    X_train, X_validate, X_test, y_train, y_validate, y_test = model.preprocessing(i, \"is_top_language\")\n",
    "    knn, y_pred = model.run_knn(X_train, y_train, 5)\n",
    "    score = knn.score(X_train, y_train)\n",
    "    print(f\"{i}, score = {score}\")\n",
    "    "
   ]
  },
  {
   "cell_type": "code",
   "execution_count": 300,
   "metadata": {},
   "outputs": [
    {
     "name": "stdout",
     "output_type": "stream",
     "text": [
      "Max_depth = 1, accuracy_score = 1.00. Diff = 0.59\n",
      "Max_depth = 2, accuracy_score = 0.48. Diff = 0.09\n",
      "Max_depth = 3, accuracy_score = 0.63. Diff = 0.30\n",
      "Max_depth = 4, accuracy_score = 0.97. Diff = 0.73\n",
      "Max_depth = 5, accuracy_score = 0.57. Diff = 0.86\n",
      "Max_depth = 6, accuracy_score = 0.62. Diff = 0.38\n",
      "Max_depth = 7, accuracy_score = 0.76. Diff = 0.59\n",
      "Max_depth = 8, accuracy_score = 0.81. Diff = 0.52\n",
      "Max_depth = 9, accuracy_score = 0.75. Diff = 0.49\n",
      "Max_depth = 10, accuracy_score = 0.41. Diff = 0.06\n",
      "Max_depth = 11, accuracy_score = 0.40. Diff = 0.04\n",
      "Max_depth = 12, accuracy_score = 0.40. Diff = 0.04\n",
      "Max_depth = 13, accuracy_score = 0.40. Diff = 0.04\n",
      "Max_depth = 14, accuracy_score = 0.40. Diff = 0.04\n",
      "Max_depth = 15, accuracy_score = 0.40. Diff = 0.04\n",
      "Max_depth = 16, accuracy_score = 0.40. Diff = 0.04\n",
      "Max_depth = 17, accuracy_score = 0.39. Diff = 0.02\n",
      "Max_depth = 18, accuracy_score = 0.39. Diff = 0.02\n",
      "Max_depth = 19, accuracy_score = 0.39. Diff = 0.02\n"
     ]
    }
   ],
   "source": [
    "for i in range(1, 20):\n",
    "    knn, y_pred = model.run_knn(X_train, y_train, i)\n",
    "    score = knn.score(X_train, y_train)\n",
    "    validate_score = knn.score(X_validate, y_validate)\n",
    "    print(f\"Max_depth = {i}, accuracy_score = {score:.2f}. Diff = {(score - validate_score) / score:.2f}\")"
   ]
  },
  {
   "cell_type": "code",
   "execution_count": 301,
   "metadata": {},
   "outputs": [],
   "source": [
    "knn, y_pred = model.run_knn(X_train, y_train, 2)\n",
    "predictions[\"knn\"] = y_pred"
   ]
  },
  {
   "cell_type": "code",
   "execution_count": 302,
   "metadata": {},
   "outputs": [
    {
     "name": "stdout",
     "output_type": "stream",
     "text": [
      "Accuracy on dataset: 0.48\n",
      "            C++  Java  JavaScript  Python  other\n",
      "C++           9     0           0       0      0\n",
      "Java          0    13           0       0      0\n",
      "JavaScript    0     0          28       0      0\n",
      "Python        0     0          18       2      0\n",
      "other         1     0          41       0      3\n"
     ]
    },
    {
     "data": {
      "text/html": [
       "<div>\n",
       "<style scoped>\n",
       "    .dataframe tbody tr th:only-of-type {\n",
       "        vertical-align: middle;\n",
       "    }\n",
       "\n",
       "    .dataframe tbody tr th {\n",
       "        vertical-align: top;\n",
       "    }\n",
       "\n",
       "    .dataframe thead th {\n",
       "        text-align: right;\n",
       "    }\n",
       "</style>\n",
       "<table border=\"1\" class=\"dataframe\">\n",
       "  <thead>\n",
       "    <tr style=\"text-align: right;\">\n",
       "      <th></th>\n",
       "      <th>C++</th>\n",
       "      <th>Java</th>\n",
       "      <th>JavaScript</th>\n",
       "      <th>Python</th>\n",
       "      <th>other</th>\n",
       "      <th>accuracy</th>\n",
       "      <th>macro avg</th>\n",
       "      <th>weighted avg</th>\n",
       "    </tr>\n",
       "  </thead>\n",
       "  <tbody>\n",
       "    <tr>\n",
       "      <th>precision</th>\n",
       "      <td>0.900000</td>\n",
       "      <td>1.0</td>\n",
       "      <td>0.321839</td>\n",
       "      <td>1.000000</td>\n",
       "      <td>1.000000</td>\n",
       "      <td>0.478261</td>\n",
       "      <td>0.844368</td>\n",
       "      <td>0.827056</td>\n",
       "    </tr>\n",
       "    <tr>\n",
       "      <th>recall</th>\n",
       "      <td>1.000000</td>\n",
       "      <td>1.0</td>\n",
       "      <td>1.000000</td>\n",
       "      <td>0.100000</td>\n",
       "      <td>0.066667</td>\n",
       "      <td>0.478261</td>\n",
       "      <td>0.633333</td>\n",
       "      <td>0.478261</td>\n",
       "    </tr>\n",
       "    <tr>\n",
       "      <th>f1-score</th>\n",
       "      <td>0.947368</td>\n",
       "      <td>1.0</td>\n",
       "      <td>0.486957</td>\n",
       "      <td>0.181818</td>\n",
       "      <td>0.125000</td>\n",
       "      <td>0.478261</td>\n",
       "      <td>0.548229</td>\n",
       "      <td>0.386282</td>\n",
       "    </tr>\n",
       "    <tr>\n",
       "      <th>support</th>\n",
       "      <td>9.000000</td>\n",
       "      <td>13.0</td>\n",
       "      <td>28.000000</td>\n",
       "      <td>20.000000</td>\n",
       "      <td>45.000000</td>\n",
       "      <td>0.478261</td>\n",
       "      <td>115.000000</td>\n",
       "      <td>115.000000</td>\n",
       "    </tr>\n",
       "  </tbody>\n",
       "</table>\n",
       "</div>"
      ],
      "text/plain": [
       "                C++  Java  JavaScript     Python      other  accuracy  \\\n",
       "precision  0.900000   1.0    0.321839   1.000000   1.000000  0.478261   \n",
       "recall     1.000000   1.0    1.000000   0.100000   0.066667  0.478261   \n",
       "f1-score   0.947368   1.0    0.486957   0.181818   0.125000  0.478261   \n",
       "support    9.000000  13.0   28.000000  20.000000  45.000000  0.478261   \n",
       "\n",
       "            macro avg  weighted avg  \n",
       "precision    0.844368      0.827056  \n",
       "recall       0.633333      0.478261  \n",
       "f1-score     0.548229      0.386282  \n",
       "support    115.000000    115.000000  "
      ]
     },
     "execution_count": 302,
     "metadata": {},
     "output_type": "execute_result"
    }
   ],
   "source": [
    "accuracy_score, matrix, report = model.accuracy_report(knn, y_pred, y_train)\n",
    "print(accuracy_score)\n",
    "print(matrix)\n",
    "report"
   ]
  },
  {
   "cell_type": "code",
   "execution_count": 307,
   "metadata": {},
   "outputs": [],
   "source": [
    "report = model.create_report(predictions.actual, predictions.decision_tree)"
   ]
  },
  {
   "cell_type": "code",
   "execution_count": 318,
   "metadata": {
    "scrolled": false
   },
   "outputs": [
    {
     "name": "stdout",
     "output_type": "stream",
     "text": [
      "Accuracy Scores\n",
      "---------------\n",
      "Actual = 1.00\n",
      "Baseline = 0.39\n",
      "Decision_Tree = 0.80\n",
      "Random_Forest = 0.43\n",
      "Knn = 0.48\n"
     ]
    }
   ],
   "source": [
    "# How do the different models compare on accuracy?\n",
    "print(\"Accuracy Scores\")\n",
    "print(\"---------------\")\n",
    "for i in range(predictions.shape[1]):\n",
    "    report = model.create_report(predictions.actual, predictions.iloc[:,i])\n",
    "    print(f'{predictions.columns[i].title()} = {report.accuracy[0]:.2f}')"
   ]
  },
  {
   "cell_type": "markdown",
   "metadata": {},
   "source": [
    "Key take-aways:\n",
    "* All models perform better than the baseline, which means implementation of machine learning algorithms for this particular project is an improvement.\n",
    "* The best performing model is the `Decision Tree` classifier, with an accuracy of 80%\n",
    "* Given that there is no way to quantify cost, and in this particular case neither recall nor precision are more or less important, we will focus on the general accuracy of the models (given that both metrics are used to calcualte accuracy)."
   ]
  },
  {
   "cell_type": "markdown",
   "metadata": {},
   "source": [
    "# Evaluation"
   ]
  },
  {
   "cell_type": "code",
   "execution_count": 376,
   "metadata": {},
   "outputs": [],
   "source": [
    "# Now we will see if the model is overfit\n",
    "\n",
    "X_train, X_validate, X_test, y_train, y_validate, y_test = model.preprocessing(\"tf_idf\", \"is_top_language\")\n",
    "clf, y_pred = model.run_clf(X_train, y_train, 5)"
   ]
  },
  {
   "cell_type": "code",
   "execution_count": 332,
   "metadata": {},
   "outputs": [
    {
     "data": {
      "text/plain": [
       "0.6666666666666666"
      ]
     },
     "execution_count": 332,
     "metadata": {},
     "output_type": "execute_result"
    }
   ],
   "source": [
    "clf.score(X_test, y_test)"
   ]
  },
  {
   "cell_type": "markdown",
   "metadata": {},
   "source": [
    "### Build a function that will take in a text of a README file, and tries to predict the programming language"
   ]
  },
  {
   "cell_type": "code",
   "execution_count": 461,
   "metadata": {},
   "outputs": [],
   "source": [
    "def predict_readme_language(readme):\n",
    "    df = model.acquire_data()\n",
    "    df = model.prepare_data(df)\n",
    "\n",
    "    tfidf = TfidfVectorizer()\n",
    "    X = tfidf.fit_transform(df.readme_contents.apply(clean).apply(' '.join)) \n",
    "    y = df[\"is_top_language\"]\n",
    "\n",
    "    X_train, X_validate, X_test, y_train, y_validate, y_test = model.split_data(X, y)\n",
    "    \n",
    "    clf, y_pred = model.run_clf(X_train, y_train, 5)\n",
    "    \n",
    "    text = model.prepare_data(readme)\n",
    "    \n",
    "    X = tfidf.transform(text.readme_contents.apply(clean).apply(' '.join))\n",
    "    \n",
    "    prediction = clf.predict(X)\n",
    "    \n",
    "    return prediction"
   ]
  },
  {
   "cell_type": "code",
   "execution_count": 464,
   "metadata": {},
   "outputs": [],
   "source": [
    "text = df.tail(5).head(1)"
   ]
  },
  {
   "cell_type": "code",
   "execution_count": 466,
   "metadata": {},
   "outputs": [
    {
     "data": {
      "text/html": [
       "<div>\n",
       "<style scoped>\n",
       "    .dataframe tbody tr th:only-of-type {\n",
       "        vertical-align: middle;\n",
       "    }\n",
       "\n",
       "    .dataframe tbody tr th {\n",
       "        vertical-align: top;\n",
       "    }\n",
       "\n",
       "    .dataframe thead th {\n",
       "        text-align: right;\n",
       "    }\n",
       "</style>\n",
       "<table border=\"1\" class=\"dataframe\">\n",
       "  <thead>\n",
       "    <tr style=\"text-align: right;\">\n",
       "      <th></th>\n",
       "      <th>repo</th>\n",
       "      <th>language</th>\n",
       "      <th>readme_contents</th>\n",
       "      <th>is_top_language</th>\n",
       "    </tr>\n",
       "  </thead>\n",
       "  <tbody>\n",
       "    <tr>\n",
       "      <th>243</th>\n",
       "      <td>lodash/lodash</td>\n",
       "      <td>JavaScript</td>\n",
       "      <td># lodash\\n\\n[Site](https://lodash.com/) |\\n[Do...</td>\n",
       "      <td>JavaScript</td>\n",
       "    </tr>\n",
       "  </tbody>\n",
       "</table>\n",
       "</div>"
      ],
      "text/plain": [
       "              repo    language  \\\n",
       "243  lodash/lodash  JavaScript   \n",
       "\n",
       "                                       readme_contents is_top_language  \n",
       "243  # lodash\\n\\n[Site](https://lodash.com/) |\\n[Do...      JavaScript  "
      ]
     },
     "execution_count": 466,
     "metadata": {},
     "output_type": "execute_result"
    }
   ],
   "source": [
    "text"
   ]
  },
  {
   "cell_type": "code",
   "execution_count": 473,
   "metadata": {
    "scrolled": true
   },
   "outputs": [
    {
     "name": "stdout",
     "output_type": "stream",
     "text": [
      "This language was likely written in JavaScript\n"
     ]
    }
   ],
   "source": [
    "prediction = predict_readme_language(text)\n",
    "print(f\"This language was likely written in {prediction[0]}\")"
   ]
  },
  {
   "cell_type": "code",
   "execution_count": 477,
   "metadata": {},
   "outputs": [],
   "source": [
    "df = pd.read_json(\"data.json\")"
   ]
  },
  {
   "cell_type": "code",
   "execution_count": 478,
   "metadata": {},
   "outputs": [
    {
     "data": {
      "text/plain": [
       "(384, 3)"
      ]
     },
     "execution_count": 478,
     "metadata": {},
     "output_type": "execute_result"
    }
   ],
   "source": [
    "df.shape"
   ]
  }
 ],
 "metadata": {
  "kernelspec": {
   "display_name": "Python 3",
   "language": "python",
   "name": "python3"
  },
  "language_info": {
   "codemirror_mode": {
    "name": "ipython",
    "version": 3
   },
   "file_extension": ".py",
   "mimetype": "text/x-python",
   "name": "python",
   "nbconvert_exporter": "python",
   "pygments_lexer": "ipython3",
   "version": "3.7.4"
  }
 },
 "nbformat": 4,
 "nbformat_minor": 2
}
