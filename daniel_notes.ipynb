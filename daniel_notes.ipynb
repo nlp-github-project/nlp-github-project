{
 "cells": [
  {
   "cell_type": "markdown",
   "metadata": {},
   "source": [
    "# NLP Project"
   ]
  },
  {
   "cell_type": "code",
   "execution_count": 18,
   "metadata": {},
   "outputs": [],
   "source": [
    "import pandas as pd\n",
    "import numpy as np\n",
    "\n",
    "from requests import get\n",
    "from bs4 import BeautifulSoup\n",
    "import os\n",
    "\n",
    "import seaborn as sns\n",
    "import matplotlib.pyplot as plt"
   ]
  },
  {
   "cell_type": "code",
   "execution_count": 2,
   "metadata": {},
   "outputs": [],
   "source": [
    "df = pd.read_json(\"data.json\")"
   ]
  },
  {
   "cell_type": "code",
   "execution_count": 17,
   "metadata": {
    "scrolled": false
   },
   "outputs": [
    {
     "data": {
      "text/plain": [
       "JavaScript     4\n",
       "C              2\n",
       "Java           2\n",
       "Shell          1\n",
       "Objective-C    1\n",
       "Name: language, dtype: int64"
      ]
     },
     "execution_count": 17,
     "metadata": {},
     "output_type": "execute_result"
    }
   ],
   "source": [
    "df.language.value_counts()"
   ]
  },
  {
   "cell_type": "code",
   "execution_count": 89,
   "metadata": {},
   "outputs": [
    {
     "data": {
      "text/html": [
       "<div>\n",
       "<style scoped>\n",
       "    .dataframe tbody tr th:only-of-type {\n",
       "        vertical-align: middle;\n",
       "    }\n",
       "\n",
       "    .dataframe tbody tr th {\n",
       "        vertical-align: top;\n",
       "    }\n",
       "\n",
       "    .dataframe thead th {\n",
       "        text-align: right;\n",
       "    }\n",
       "</style>\n",
       "<table border=\"1\" class=\"dataframe\">\n",
       "  <thead>\n",
       "    <tr style=\"text-align: right;\">\n",
       "      <th></th>\n",
       "      <th>repo</th>\n",
       "      <th>language</th>\n",
       "      <th>readme_contents</th>\n",
       "    </tr>\n",
       "  </thead>\n",
       "  <tbody>\n",
       "    <tr>\n",
       "      <th>0</th>\n",
       "      <td>gocodeup/codeup-setup-script</td>\n",
       "      <td>Shell</td>\n",
       "      <td># Codeup Setup Script\\n\\nSetup script for Code...</td>\n",
       "    </tr>\n",
       "    <tr>\n",
       "      <th>1</th>\n",
       "      <td>gocodeup/movies-application</td>\n",
       "      <td>JavaScript</td>\n",
       "      <td># Movies Application\\n\\nFor this project, we w...</td>\n",
       "    </tr>\n",
       "    <tr>\n",
       "      <th>2</th>\n",
       "      <td>torvalds/linux</td>\n",
       "      <td>C</td>\n",
       "      <td>Linux kernel\\n============\\n\\nThere are severa...</td>\n",
       "    </tr>\n",
       "    <tr>\n",
       "      <th>3</th>\n",
       "      <td>harthur/brain</td>\n",
       "      <td>JavaScript</td>\n",
       "      <td>*This project has reached the end of its devel...</td>\n",
       "    </tr>\n",
       "    <tr>\n",
       "      <th>4</th>\n",
       "      <td>google/agera</td>\n",
       "      <td>Java</td>\n",
       "      <td>![Agera](https://raw.githubusercontent.com/goo...</td>\n",
       "    </tr>\n",
       "    <tr>\n",
       "      <th>5</th>\n",
       "      <td>michaeltyson/TPKeyboardAvoiding</td>\n",
       "      <td>Objective-C</td>\n",
       "      <td>TPKeyboardAvoiding\\n==================\\n\\nA dr...</td>\n",
       "    </tr>\n",
       "    <tr>\n",
       "      <th>6</th>\n",
       "      <td>bendc/sprint</td>\n",
       "      <td>JavaScript</td>\n",
       "      <td># Sprint.js\\n\\nSprint is a high-performance, 5...</td>\n",
       "    </tr>\n",
       "    <tr>\n",
       "      <th>7</th>\n",
       "      <td>rengwuxian/RxJavaSamples</td>\n",
       "      <td>Java</td>\n",
       "      <td>样例代码已正式切换到基于 RxJava 2\\n================\\n\\n&gt; 需...</td>\n",
       "    </tr>\n",
       "    <tr>\n",
       "      <th>8</th>\n",
       "      <td>fastos/fastsocket</td>\n",
       "      <td>C</td>\n",
       "      <td>README for FASTSOCKET\\n======================...</td>\n",
       "    </tr>\n",
       "    <tr>\n",
       "      <th>9</th>\n",
       "      <td>petruisfan/node-supervisor</td>\n",
       "      <td>JavaScript</td>\n",
       "      <td># node-supervisor\\n\\nA little supervisor scrip...</td>\n",
       "    </tr>\n",
       "  </tbody>\n",
       "</table>\n",
       "</div>"
      ],
      "text/plain": [
       "                              repo     language  \\\n",
       "0     gocodeup/codeup-setup-script        Shell   \n",
       "1      gocodeup/movies-application   JavaScript   \n",
       "2                   torvalds/linux            C   \n",
       "3                    harthur/brain   JavaScript   \n",
       "4                     google/agera         Java   \n",
       "5  michaeltyson/TPKeyboardAvoiding  Objective-C   \n",
       "6                     bendc/sprint   JavaScript   \n",
       "7         rengwuxian/RxJavaSamples         Java   \n",
       "8                fastos/fastsocket            C   \n",
       "9       petruisfan/node-supervisor   JavaScript   \n",
       "\n",
       "                                     readme_contents  \n",
       "0  # Codeup Setup Script\\n\\nSetup script for Code...  \n",
       "1  # Movies Application\\n\\nFor this project, we w...  \n",
       "2  Linux kernel\\n============\\n\\nThere are severa...  \n",
       "3  *This project has reached the end of its devel...  \n",
       "4  ![Agera](https://raw.githubusercontent.com/goo...  \n",
       "5  TPKeyboardAvoiding\\n==================\\n\\nA dr...  \n",
       "6  # Sprint.js\\n\\nSprint is a high-performance, 5...  \n",
       "7  样例代码已正式切换到基于 RxJava 2\\n================\\n\\n> 需...  \n",
       "8   README for FASTSOCKET\\n======================...  \n",
       "9  # node-supervisor\\n\\nA little supervisor scrip...  "
      ]
     },
     "execution_count": 89,
     "metadata": {},
     "output_type": "execute_result"
    }
   ],
   "source": [
    "df"
   ]
  },
  {
   "cell_type": "markdown",
   "metadata": {},
   "source": [
    "# Acquire\n",
    "\n",
    "Thanks to Zach, we already have the main function to acquire the data. The script runs through a list of repo's, and creates a new json file with the name of the repo, the programing language used, and the readme_contents."
   ]
  },
  {
   "cell_type": "code",
   "execution_count": 68,
   "metadata": {},
   "outputs": [
    {
     "data": {
      "text/html": [
       "<div>\n",
       "<style scoped>\n",
       "    .dataframe tbody tr th:only-of-type {\n",
       "        vertical-align: middle;\n",
       "    }\n",
       "\n",
       "    .dataframe tbody tr th {\n",
       "        vertical-align: top;\n",
       "    }\n",
       "\n",
       "    .dataframe thead th {\n",
       "        text-align: right;\n",
       "    }\n",
       "</style>\n",
       "<table border=\"1\" class=\"dataframe\">\n",
       "  <thead>\n",
       "    <tr style=\"text-align: right;\">\n",
       "      <th></th>\n",
       "      <th>repo</th>\n",
       "      <th>language</th>\n",
       "      <th>readme_contents</th>\n",
       "    </tr>\n",
       "  </thead>\n",
       "  <tbody>\n",
       "    <tr>\n",
       "      <th>0</th>\n",
       "      <td>gocodeup/codeup-setup-script</td>\n",
       "      <td>Shell</td>\n",
       "      <td># Codeup Setup Script\\n\\nSetup script for Code...</td>\n",
       "    </tr>\n",
       "    <tr>\n",
       "      <th>1</th>\n",
       "      <td>gocodeup/movies-application</td>\n",
       "      <td>JavaScript</td>\n",
       "      <td># Movies Application\\n\\nFor this project, we w...</td>\n",
       "    </tr>\n",
       "    <tr>\n",
       "      <th>2</th>\n",
       "      <td>torvalds/linux</td>\n",
       "      <td>C</td>\n",
       "      <td>Linux kernel\\n============\\n\\nThere are severa...</td>\n",
       "    </tr>\n",
       "    <tr>\n",
       "      <th>3</th>\n",
       "      <td>harthur/brain</td>\n",
       "      <td>JavaScript</td>\n",
       "      <td>*This project has reached the end of its devel...</td>\n",
       "    </tr>\n",
       "    <tr>\n",
       "      <th>4</th>\n",
       "      <td>google/agera</td>\n",
       "      <td>Java</td>\n",
       "      <td>![Agera](https://raw.githubusercontent.com/goo...</td>\n",
       "    </tr>\n",
       "  </tbody>\n",
       "</table>\n",
       "</div>"
      ],
      "text/plain": [
       "                           repo    language  \\\n",
       "0  gocodeup/codeup-setup-script       Shell   \n",
       "1   gocodeup/movies-application  JavaScript   \n",
       "2                torvalds/linux           C   \n",
       "3                 harthur/brain  JavaScript   \n",
       "4                  google/agera        Java   \n",
       "\n",
       "                                     readme_contents  \n",
       "0  # Codeup Setup Script\\n\\nSetup script for Code...  \n",
       "1  # Movies Application\\n\\nFor this project, we w...  \n",
       "2  Linux kernel\\n============\\n\\nThere are severa...  \n",
       "3  *This project has reached the end of its devel...  \n",
       "4  ![Agera](https://raw.githubusercontent.com/goo...  "
      ]
     },
     "execution_count": 68,
     "metadata": {},
     "output_type": "execute_result"
    }
   ],
   "source": [
    "df.head()"
   ]
  },
  {
   "cell_type": "markdown",
   "metadata": {},
   "source": [
    "Now, we need to build a webscrapping function that can help us get more repo names, so we can run the script, and get their information. Our goal is to get 300 README's."
   ]
  },
  {
   "cell_type": "code",
   "execution_count": 27,
   "metadata": {},
   "outputs": [],
   "source": [
    "url = 'https://github.com/search?q=stars%3A%3E0&s=stars&type=Repositories'\n",
    "headers = {'User-Agent': 'Codeup Bayes Data Science'} # codeup.com doesn't like our default user-agent\n",
    "response = get(url, headers=headers)"
   ]
  },
  {
   "cell_type": "code",
   "execution_count": 28,
   "metadata": {},
   "outputs": [],
   "source": [
    "soup = BeautifulSoup(response.content, 'html.parser')"
   ]
  },
  {
   "cell_type": "code",
   "execution_count": 44,
   "metadata": {},
   "outputs": [],
   "source": [
    "article = soup.find_all('a', class_='v-align-middle')"
   ]
  },
  {
   "cell_type": "code",
   "execution_count": 61,
   "metadata": {
    "scrolled": true
   },
   "outputs": [
    {
     "data": {
      "text/plain": [
       "'ohmyzsh/ohmyzsh'"
      ]
     },
     "execution_count": 61,
     "metadata": {},
     "output_type": "execute_result"
    }
   ],
   "source": [
    "article[0][\"href\"].replace(\"/\", '', 1)"
   ]
  },
  {
   "cell_type": "code",
   "execution_count": 90,
   "metadata": {},
   "outputs": [],
   "source": [
    "repo_names = []\n",
    "\n",
    "for page_number in range(1,100):\n",
    "    url = f\"https://github.com/search?p={page_number}&q=stars%3A%3E0&s=stars&type=Repositories\"\n",
    "    headers = {'User-Agent': 'Codeup Bayes Data Science'} # codeup.com doesn't like our default user-agent\n",
    "    response = get(url, headers=headers)\n",
    "    soup = BeautifulSoup(response.content, 'html.parser')\n",
    "    repos = soup.find_all('a', class_='v-align-middle')\n",
    "    \n",
    "    for repo_number in range(len(repos)):\n",
    "        repo = repos[repo_number][\"href\"].replace(\"/\", '', 1)\n",
    "        repo_names.append(repo)"
   ]
  },
  {
   "cell_type": "code",
   "execution_count": 91,
   "metadata": {
    "scrolled": false
   },
   "outputs": [
    {
     "name": "stdout",
     "output_type": "stream",
     "text": [
      "Number of repo names: 90\n"
     ]
    },
    {
     "data": {
      "text/plain": [
       "['freeCodeCamp/freeCodeCamp',\n",
       " '996icu/996.ICU',\n",
       " 'vuejs/vue',\n",
       " 'EbookFoundation/free-programming-books',\n",
       " 'facebook/react',\n",
       " 'tensorflow/tensorflow',\n",
       " 'twbs/bootstrap',\n",
       " 'sindresorhus/awesome',\n",
       " 'getify/You-Dont-Know-JS',\n",
       " 'jwasham/coding-interview-university',\n",
       " 'ohmyzsh/ohmyzsh',\n",
       " 'kamranahmedse/developer-roadmap',\n",
       " 'github/gitignore',\n",
       " 'CyC2018/CS-Notes',\n",
       " 'donnemartin/system-design-primer',\n",
       " 'microsoft/vscode',\n",
       " 'airbnb/javascript',\n",
       " 'flutter/flutter',\n",
       " 'd3/d3',\n",
       " 'torvalds/linux',\n",
       " 'public-apis/public-apis',\n",
       " 'Snailclimb/JavaGuide',\n",
       " 'jlevy/the-art-of-command-line',\n",
       " 'TheAlgorithms/Python',\n",
       " 'axios/axios',\n",
       " 'golang/go',\n",
       " 'trekhleb/javascript-algorithms',\n",
       " 'nodejs/node',\n",
       " 'ytdl-org/youtube-dl',\n",
       " 'animate-css/animate.css',\n",
       " 'axios/axios',\n",
       " 'golang/go',\n",
       " 'trekhleb/javascript-algorithms',\n",
       " 'nodejs/node',\n",
       " 'justjavac/free-programming-books-zh_CN',\n",
       " 'ytdl-org/youtube-dl',\n",
       " 'animate-css/animate.css',\n",
       " 'kubernetes/kubernetes',\n",
       " 'tensorflow/models',\n",
       " 'microsoft/terminal',\n",
       " 'moby/moby',\n",
       " '30-seconds/30-seconds-of-code',\n",
       " 'PanJiaChen/vue-element-admin',\n",
       " 'MisterBooo/LeetCodeAnimation',\n",
       " 'avelino/awesome-go',\n",
       " 'vuejs/awesome-vue',\n",
       " 'webpack/webpack',\n",
       " 'nvbn/thefuck',\n",
       " 'jquery/jquery',\n",
       " 'reduxjs/redux',\n",
       " 'iluwatar/java-design-patterns',\n",
       " 'mui-org/material-ui',\n",
       " 'moby/moby',\n",
       " '30-seconds/30-seconds-of-code',\n",
       " 'PanJiaChen/vue-element-admin',\n",
       " 'MisterBooo/LeetCodeAnimation',\n",
       " 'avelino/awesome-go',\n",
       " 'vuejs/awesome-vue',\n",
       " 'webpack/webpack',\n",
       " 'nvbn/thefuck',\n",
       " 'jquery/jquery',\n",
       " 'reduxjs/redux',\n",
       " 'atom/atom',\n",
       " 'hakimel/reveal.js',\n",
       " 'apple/swift',\n",
       " 'pallets/flask',\n",
       " 'socketio/socket.io',\n",
       " 'django/django',\n",
       " 'shadowsocks/shadowsocks-windows',\n",
       " 'elastic/elasticsearch',\n",
       " 'vercel/next.js',\n",
       " 'chartjs/Chart.js',\n",
       " 'storybookjs/storybook',\n",
       " 'expressjs/express',\n",
       " 'keras-team/keras',\n",
       " 'spring-projects/spring-boot',\n",
       " 'Semantic-Org/Semantic-UI',\n",
       " 'tonsky/FiraCode',\n",
       " 'typicode/json-server',\n",
       " 'chrislgarry/Apollo-11',\n",
       " 'netdata/netdata',\n",
       " 'jakubroztocil/httpie',\n",
       " 'adam-p/markdown-here',\n",
       " 'rails/rails',\n",
       " 'xingshaocheng/architect-awesome',\n",
       " 'ElemeFE/element',\n",
       " 'goldbergyoni/nodebestpractices',\n",
       " 'h5bp/html5-boilerplate',\n",
       " 'rust-lang/rust',\n",
       " 'opencv/opencv']"
      ]
     },
     "execution_count": 91,
     "metadata": {},
     "output_type": "execute_result"
    }
   ],
   "source": [
    "print(f\"Number of repo names: {len(repo_names)}\")\n",
    "repo_names"
   ]
  }
 ],
 "metadata": {
  "kernelspec": {
   "display_name": "Python 3",
   "language": "python",
   "name": "python3"
  },
  "language_info": {
   "codemirror_mode": {
    "name": "ipython",
    "version": 3
   },
   "file_extension": ".py",
   "mimetype": "text/x-python",
   "name": "python",
   "nbconvert_exporter": "python",
   "pygments_lexer": "ipython3",
   "version": "3.7.4"
  }
 },
 "nbformat": 4,
 "nbformat_minor": 2
}
