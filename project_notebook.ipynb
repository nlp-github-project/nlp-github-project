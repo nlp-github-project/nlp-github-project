{
 "cells": [
  {
   "cell_type": "markdown",
   "metadata": {},
   "source": [
    "# Predicting the Programming Languages of the Most Starred Github Repos\n",
    "**by Daniel Guerrero and Yvonne King**\n",
    "\n",
    "**Quick Notebook Reference**\n",
    "\n",
    "1. Project Plan\n",
    "2. Imports\n",
    "3. Acquire\n",
    "4. Prep\n",
    "5. Exploration\n",
    "6. Models\n",
    "7. Model Evaluation\n",
    "8. Final Conclusions\n",
    "\n",
    "## Project Plan\n",
    "\n",
    "**Acquisition, Prep, and Initial Exploration**\n",
    "- Fetch Data from local cache\n",
    "- Handle Missing Values\n",
    "- Remove/repair erroneous data\n",
    "- Look at shape of data\n",
    "- normalize data by removing non ASCII characters\n",
    "- tokenize words\n",
    "- stem and lemmatize words\n",
    "- remove stop words\n",
    "\n",
    "**Exploration**\n",
    "\n",
    "- Answer the following questions:\n",
    "    - What are the most common words in READMEs?\n",
    "    - What does the distribution of IDFs look like for the most common words?\n",
    "    - Does the length of the README vary by programming language?\n",
    "    - Do different programming languages use a different number of unique words?\n",
    "    \n",
    "**Modeling**\n",
    "- Build a model that can predict what programming language a repository is, based on the text of the README file"
   ]
  },
  {
   "cell_type": "markdown",
   "metadata": {},
   "source": [
    "## Imports"
   ]
  },
  {
   "cell_type": "code",
   "execution_count": 1,
   "metadata": {},
   "outputs": [],
   "source": [
    "import warnings\n",
    "warnings.filterwarnings(\"ignore\")\n",
    "\n",
    "import re\n",
    "\n",
    "from requests import get\n",
    "from bs4 import BeautifulSoup\n",
    "import os\n",
    "import pandas as pd\n",
    "\n",
    "\n",
    "import seaborn as sns\n",
    "import matplotlib.pyplot as plt\n",
    "\n",
    "\n",
    "import nltk\n",
    "import nltk.sentiment\n",
    "from wordcloud import WordCloud\n",
    "\n",
    "import acquire\n",
    "import prepare\n",
    "import explore\n",
    "import model"
   ]
  },
  {
   "cell_type": "markdown",
   "metadata": {},
   "source": [
    "## Acquire\n",
    "- We ran the acquire.py file in command line to generate the json file that we used to save on computing time\n",
    "    - This file has functions that scrape Githup repos and pull in the readme file contents along with the programming language of the repo\n",
    "- Fetched data from local cache"
   ]
  },
  {
   "cell_type": "code",
   "execution_count": 2,
   "metadata": {},
   "outputs": [],
   "source": [
    "#read in data\n",
    "df = pd.read_json(\"data.json\")"
   ]
  },
  {
   "cell_type": "code",
   "execution_count": 3,
   "metadata": {},
   "outputs": [
    {
     "data": {
      "text/plain": [
       "(248, 3)"
      ]
     },
     "execution_count": 3,
     "metadata": {},
     "output_type": "execute_result"
    }
   ],
   "source": [
    "#take a look at the shape of our data\n",
    "df.shape"
   ]
  },
  {
   "cell_type": "code",
   "execution_count": 4,
   "metadata": {},
   "outputs": [
    {
     "name": "stdout",
     "output_type": "stream",
     "text": [
      "<class 'pandas.core.frame.DataFrame'>\n",
      "RangeIndex: 248 entries, 0 to 247\n",
      "Data columns (total 3 columns):\n",
      "repo               248 non-null object\n",
      "language           215 non-null object\n",
      "readme_contents    248 non-null object\n",
      "dtypes: object(3)\n",
      "memory usage: 5.9+ KB\n"
     ]
    }
   ],
   "source": [
    "#check for nulls\n",
    "df.info()"
   ]
  },
  {
   "cell_type": "code",
   "execution_count": 5,
   "metadata": {},
   "outputs": [
    {
     "data": {
      "text/html": [
       "<div>\n",
       "<style scoped>\n",
       "    .dataframe tbody tr th:only-of-type {\n",
       "        vertical-align: middle;\n",
       "    }\n",
       "\n",
       "    .dataframe tbody tr th {\n",
       "        vertical-align: top;\n",
       "    }\n",
       "\n",
       "    .dataframe thead th {\n",
       "        text-align: right;\n",
       "    }\n",
       "</style>\n",
       "<table border=\"1\" class=\"dataframe\">\n",
       "  <thead>\n",
       "    <tr style=\"text-align: right;\">\n",
       "      <th></th>\n",
       "      <th>repo</th>\n",
       "      <th>language</th>\n",
       "      <th>readme_contents</th>\n",
       "    </tr>\n",
       "  </thead>\n",
       "  <tbody>\n",
       "    <tr>\n",
       "      <th>0</th>\n",
       "      <td>vuejs/vue</td>\n",
       "      <td>JavaScript</td>\n",
       "      <td>&lt;p align=\"center\"&gt;&lt;a href=\"https://vuejs.org\" ...</td>\n",
       "    </tr>\n",
       "    <tr>\n",
       "      <th>1</th>\n",
       "      <td>EbookFoundation/free-programming-books</td>\n",
       "      <td>None</td>\n",
       "      <td>This page is available as an easy-to-read webs...</td>\n",
       "    </tr>\n",
       "    <tr>\n",
       "      <th>2</th>\n",
       "      <td>tensorflow/tensorflow</td>\n",
       "      <td>C++</td>\n",
       "      <td>&lt;div align=\"center\"&gt;\\n  &lt;img src=\"https://www....</td>\n",
       "    </tr>\n",
       "    <tr>\n",
       "      <th>3</th>\n",
       "      <td>twbs/bootstrap</td>\n",
       "      <td>JavaScript</td>\n",
       "      <td>&lt;p align=\"center\"&gt;\\n  &lt;a href=\"https://getboot...</td>\n",
       "    </tr>\n",
       "    <tr>\n",
       "      <th>4</th>\n",
       "      <td>sindresorhus/awesome</td>\n",
       "      <td>None</td>\n",
       "      <td>&lt;div align=\"center\"&gt;\\n\\t&lt;img width=\"500\" heigh...</td>\n",
       "    </tr>\n",
       "  </tbody>\n",
       "</table>\n",
       "</div>"
      ],
      "text/plain": [
       "                                     repo    language  \\\n",
       "0                               vuejs/vue  JavaScript   \n",
       "1  EbookFoundation/free-programming-books        None   \n",
       "2                   tensorflow/tensorflow         C++   \n",
       "3                          twbs/bootstrap  JavaScript   \n",
       "4                    sindresorhus/awesome        None   \n",
       "\n",
       "                                     readme_contents  \n",
       "0  <p align=\"center\"><a href=\"https://vuejs.org\" ...  \n",
       "1  This page is available as an easy-to-read webs...  \n",
       "2  <div align=\"center\">\\n  <img src=\"https://www....  \n",
       "3  <p align=\"center\">\\n  <a href=\"https://getboot...  \n",
       "4  <div align=\"center\">\\n\\t<img width=\"500\" heigh...  "
      ]
     },
     "execution_count": 5,
     "metadata": {},
     "output_type": "execute_result"
    }
   ],
   "source": [
    "#look at dataframe structure\n",
    "df.head(5)"
   ]
  },
  {
   "cell_type": "markdown",
   "metadata": {},
   "source": [
    "## Prep\n",
    "Using the prep_readme_function we will:\n",
    "- normalize data by removing non ASCII characters\n",
    "- tokenize words\n",
    "- lemmatize words\n",
    "- remove stop words"
   ]
  },
  {
   "cell_type": "code",
   "execution_count": 6,
   "metadata": {},
   "outputs": [],
   "source": [
    "#function to prepare our data for modeling\n",
    "df = prepare.prep_readme_data(df)"
   ]
  },
  {
   "cell_type": "code",
   "execution_count": 7,
   "metadata": {},
   "outputs": [
    {
     "data": {
      "text/html": [
       "<div>\n",
       "<style scoped>\n",
       "    .dataframe tbody tr th:only-of-type {\n",
       "        vertical-align: middle;\n",
       "    }\n",
       "\n",
       "    .dataframe tbody tr th {\n",
       "        vertical-align: top;\n",
       "    }\n",
       "\n",
       "    .dataframe thead th {\n",
       "        text-align: right;\n",
       "    }\n",
       "</style>\n",
       "<table border=\"1\" class=\"dataframe\">\n",
       "  <thead>\n",
       "    <tr style=\"text-align: right;\">\n",
       "      <th></th>\n",
       "      <th>repo</th>\n",
       "      <th>language</th>\n",
       "      <th>readme_contents</th>\n",
       "      <th>clean_tokes</th>\n",
       "      <th>clean_lemmatized</th>\n",
       "    </tr>\n",
       "  </thead>\n",
       "  <tbody>\n",
       "    <tr>\n",
       "      <th>count</th>\n",
       "      <td>248</td>\n",
       "      <td>215</td>\n",
       "      <td>248</td>\n",
       "      <td>248</td>\n",
       "      <td>248</td>\n",
       "    </tr>\n",
       "    <tr>\n",
       "      <th>unique</th>\n",
       "      <td>248</td>\n",
       "      <td>26</td>\n",
       "      <td>248</td>\n",
       "      <td>248</td>\n",
       "      <td>248</td>\n",
       "    </tr>\n",
       "    <tr>\n",
       "      <th>top</th>\n",
       "      <td>lib-pku/libpku</td>\n",
       "      <td>JavaScript</td>\n",
       "      <td>&lt;p&gt;\\n    &lt;a href=\"https://tailwindcss.com/\" ta...</td>\n",
       "      <td>[pure, purehttpscloudgithubusercontentcomasset...</td>\n",
       "      <td>p aligncenter img width320 srchttpswpimgwallst...</td>\n",
       "    </tr>\n",
       "    <tr>\n",
       "      <th>freq</th>\n",
       "      <td>1</td>\n",
       "      <td>73</td>\n",
       "      <td>1</td>\n",
       "      <td>1</td>\n",
       "      <td>1</td>\n",
       "    </tr>\n",
       "  </tbody>\n",
       "</table>\n",
       "</div>"
      ],
      "text/plain": [
       "                  repo    language  \\\n",
       "count              248         215   \n",
       "unique             248          26   \n",
       "top     lib-pku/libpku  JavaScript   \n",
       "freq                 1          73   \n",
       "\n",
       "                                          readme_contents  \\\n",
       "count                                                 248   \n",
       "unique                                                248   \n",
       "top     <p>\\n    <a href=\"https://tailwindcss.com/\" ta...   \n",
       "freq                                                    1   \n",
       "\n",
       "                                              clean_tokes  \\\n",
       "count                                                 248   \n",
       "unique                                                248   \n",
       "top     [pure, purehttpscloudgithubusercontentcomasset...   \n",
       "freq                                                    1   \n",
       "\n",
       "                                         clean_lemmatized  \n",
       "count                                                 248  \n",
       "unique                                                248  \n",
       "top     p aligncenter img width320 srchttpswpimgwallst...  \n",
       "freq                                                    1  "
      ]
     },
     "execution_count": 7,
     "metadata": {},
     "output_type": "execute_result"
    }
   ],
   "source": [
    "df.describe()"
   ]
  },
  {
   "cell_type": "code",
   "execution_count": 8,
   "metadata": {},
   "outputs": [
    {
     "data": {
      "text/html": [
       "<div>\n",
       "<style scoped>\n",
       "    .dataframe tbody tr th:only-of-type {\n",
       "        vertical-align: middle;\n",
       "    }\n",
       "\n",
       "    .dataframe tbody tr th {\n",
       "        vertical-align: top;\n",
       "    }\n",
       "\n",
       "    .dataframe thead th {\n",
       "        text-align: right;\n",
       "    }\n",
       "</style>\n",
       "<table border=\"1\" class=\"dataframe\">\n",
       "  <thead>\n",
       "    <tr style=\"text-align: right;\">\n",
       "      <th></th>\n",
       "      <th>repo</th>\n",
       "      <th>language</th>\n",
       "      <th>readme_contents</th>\n",
       "      <th>clean_tokes</th>\n",
       "      <th>clean_lemmatized</th>\n",
       "    </tr>\n",
       "  </thead>\n",
       "  <tbody>\n",
       "    <tr>\n",
       "      <th>0</th>\n",
       "      <td>vuejs/vue</td>\n",
       "      <td>JavaScript</td>\n",
       "      <td>&lt;p align=\"center\"&gt;&lt;a href=\"https://vuejs.org\" ...</td>\n",
       "      <td>[p, aligncentera, hrefhttpsvuejsorg, target_bl...</td>\n",
       "      <td>p aligncentera hrefhttpsvuejsorg target_blank ...</td>\n",
       "    </tr>\n",
       "    <tr>\n",
       "      <th>1</th>\n",
       "      <td>EbookFoundation/free-programming-books</td>\n",
       "      <td>None</td>\n",
       "      <td>This page is available as an easy-to-read webs...</td>\n",
       "      <td>[this, page, is, available, as, an, easytoread...</td>\n",
       "      <td>page available easytoread website httpsebookfo...</td>\n",
       "    </tr>\n",
       "    <tr>\n",
       "      <th>2</th>\n",
       "      <td>tensorflow/tensorflow</td>\n",
       "      <td>C++</td>\n",
       "      <td>&lt;div align=\"center\"&gt;\\n  &lt;img src=\"https://www....</td>\n",
       "      <td>[div, aligncenter, img, srchttpswwwtensorflowo...</td>\n",
       "      <td>div aligncenter img srchttpswwwtensorfloworgim...</td>\n",
       "    </tr>\n",
       "    <tr>\n",
       "      <th>3</th>\n",
       "      <td>twbs/bootstrap</td>\n",
       "      <td>JavaScript</td>\n",
       "      <td>&lt;p align=\"center\"&gt;\\n  &lt;a href=\"https://getboot...</td>\n",
       "      <td>[p, aligncenter, a, hrefhttpsgetbootstrapcom, ...</td>\n",
       "      <td>p aligncenter hrefhttpsgetbootstrapcom img src...</td>\n",
       "    </tr>\n",
       "    <tr>\n",
       "      <th>4</th>\n",
       "      <td>sindresorhus/awesome</td>\n",
       "      <td>None</td>\n",
       "      <td>&lt;div align=\"center\"&gt;\\n\\t&lt;img width=\"500\" heigh...</td>\n",
       "      <td>[div, aligncenter, &amp;#9;, img, width500, height...</td>\n",
       "      <td>div aligncenter &amp;#9; img width500 height350 sr...</td>\n",
       "    </tr>\n",
       "  </tbody>\n",
       "</table>\n",
       "</div>"
      ],
      "text/plain": [
       "                                     repo    language  \\\n",
       "0                               vuejs/vue  JavaScript   \n",
       "1  EbookFoundation/free-programming-books        None   \n",
       "2                   tensorflow/tensorflow         C++   \n",
       "3                          twbs/bootstrap  JavaScript   \n",
       "4                    sindresorhus/awesome        None   \n",
       "\n",
       "                                     readme_contents  \\\n",
       "0  <p align=\"center\"><a href=\"https://vuejs.org\" ...   \n",
       "1  This page is available as an easy-to-read webs...   \n",
       "2  <div align=\"center\">\\n  <img src=\"https://www....   \n",
       "3  <p align=\"center\">\\n  <a href=\"https://getboot...   \n",
       "4  <div align=\"center\">\\n\\t<img width=\"500\" heigh...   \n",
       "\n",
       "                                         clean_tokes  \\\n",
       "0  [p, aligncentera, hrefhttpsvuejsorg, target_bl...   \n",
       "1  [this, page, is, available, as, an, easytoread...   \n",
       "2  [div, aligncenter, img, srchttpswwwtensorflowo...   \n",
       "3  [p, aligncenter, a, hrefhttpsgetbootstrapcom, ...   \n",
       "4  [div, aligncenter, &#9;, img, width500, height...   \n",
       "\n",
       "                                    clean_lemmatized  \n",
       "0  p aligncentera hrefhttpsvuejsorg target_blank ...  \n",
       "1  page available easytoread website httpsebookfo...  \n",
       "2  div aligncenter img srchttpswwwtensorfloworgim...  \n",
       "3  p aligncenter hrefhttpsgetbootstrapcom img src...  \n",
       "4  div aligncenter &#9; img width500 height350 sr...  "
      ]
     },
     "execution_count": 8,
     "metadata": {},
     "output_type": "execute_result"
    }
   ],
   "source": [
    "#look at dataframe structure\n",
    "df.head(5)"
   ]
  },
  {
   "cell_type": "code",
   "execution_count": 9,
   "metadata": {},
   "outputs": [
    {
     "data": {
      "text/plain": [
       "JavaScript          73\n",
       "NaN                 33\n",
       "Python              27\n",
       "Java                20\n",
       "TypeScript          17\n",
       "Go                  12\n",
       "C++                 12\n",
       "C                    6\n",
       "Swift                5\n",
       "HTML                 4\n",
       "Rust                 4\n",
       "PHP                  4\n",
       "Shell                4\n",
       "Vue                  4\n",
       "Kotlin               3\n",
       "Ruby                 3\n",
       "CSS                  3\n",
       "Dart                 2\n",
       "Objective-C          2\n",
       "Clojure              2\n",
       "Jupyter Notebook     2\n",
       "Assembly             1\n",
       "Emacs Lisp           1\n",
       "TeX                  1\n",
       "Haskell              1\n",
       "C#                   1\n",
       "OCaml                1\n",
       "Name: language, dtype: int64"
      ]
     },
     "execution_count": 9,
     "metadata": {},
     "output_type": "execute_result"
    }
   ],
   "source": [
    "#Take a look at languages\n",
    "df.language.value_counts(dropna=False)"
   ]
  },
  {
   "cell_type": "markdown",
   "metadata": {},
   "source": [
    "- There are a few missing rows that are missing the programming language so will drop this columns by using the prepare_data function from prepare.py\n",
    "- ALso based on the first glance of the language distrobutions we have decided to go with the more poplular languages JavaScript, Python, Java, C++ and have combined all other languages into a new variable other"
   ]
  },
  {
   "cell_type": "code",
   "execution_count": 10,
   "metadata": {},
   "outputs": [],
   "source": [
    "#drop na and create is_top_language column\n",
    "df = prepare.prepare_data(df)"
   ]
  },
  {
   "cell_type": "code",
   "execution_count": 11,
   "metadata": {},
   "outputs": [
    {
     "data": {
      "text/html": [
       "<div>\n",
       "<style scoped>\n",
       "    .dataframe tbody tr th:only-of-type {\n",
       "        vertical-align: middle;\n",
       "    }\n",
       "\n",
       "    .dataframe tbody tr th {\n",
       "        vertical-align: top;\n",
       "    }\n",
       "\n",
       "    .dataframe thead th {\n",
       "        text-align: right;\n",
       "    }\n",
       "</style>\n",
       "<table border=\"1\" class=\"dataframe\">\n",
       "  <thead>\n",
       "    <tr style=\"text-align: right;\">\n",
       "      <th></th>\n",
       "      <th>repo</th>\n",
       "      <th>language</th>\n",
       "      <th>readme_contents</th>\n",
       "      <th>clean_tokes</th>\n",
       "      <th>clean_lemmatized</th>\n",
       "      <th>is_top_language</th>\n",
       "    </tr>\n",
       "  </thead>\n",
       "  <tbody>\n",
       "    <tr>\n",
       "      <th>13</th>\n",
       "      <td>airbnb/javascript</td>\n",
       "      <td>JavaScript</td>\n",
       "      <td># Airbnb JavaScript Style Guide() {\\n\\n*A most...</td>\n",
       "      <td>[airbnb, javascript, style, guide, a, mostly, ...</td>\n",
       "      <td>airbnb javascript style guide mostly reasonabl...</td>\n",
       "      <td>JavaScript</td>\n",
       "    </tr>\n",
       "    <tr>\n",
       "      <th>14</th>\n",
       "      <td>flutter/flutter</td>\n",
       "      <td>Dart</td>\n",
       "      <td># [![Flutter logo][]][flutter.dev]\\n\\n[![Build...</td>\n",
       "      <td>[flutter, logoflutterdev, build, status, cirru...</td>\n",
       "      <td>flutter logoflutterdev build status cirrusbuil...</td>\n",
       "      <td>other</td>\n",
       "    </tr>\n",
       "    <tr>\n",
       "      <th>15</th>\n",
       "      <td>d3/d3</td>\n",
       "      <td>JavaScript</td>\n",
       "      <td># D3: Data-Driven Documents\\n\\n&lt;a href=\"https:...</td>\n",
       "      <td>[d3, datadriven, documents, a, hrefhttpsd3jsor...</td>\n",
       "      <td>d3 datadriven document hrefhttpsd3jsorgimg src...</td>\n",
       "      <td>JavaScript</td>\n",
       "    </tr>\n",
       "    <tr>\n",
       "      <th>16</th>\n",
       "      <td>torvalds/linux</td>\n",
       "      <td>C</td>\n",
       "      <td>Linux kernel\\n============\\n\\nThere are severa...</td>\n",
       "      <td>[linux, kernel, there, are, several, guides, f...</td>\n",
       "      <td>linux kernel several guide kernel developer us...</td>\n",
       "      <td>other</td>\n",
       "    </tr>\n",
       "    <tr>\n",
       "      <th>18</th>\n",
       "      <td>jackfrued/Python-100-Days</td>\n",
       "      <td>Jupyter Notebook</td>\n",
       "      <td>## Python - 100天从新手到大师\\n\\n&gt; **作者**：骆昊\\n&gt;\\n&gt; **...</td>\n",
       "      <td>[python, 100, 8w15pythoncore50courseshttpsgith...</td>\n",
       "      <td>python 100 8w15pythoncore50courseshttpsgithubc...</td>\n",
       "      <td>other</td>\n",
       "    </tr>\n",
       "  </tbody>\n",
       "</table>\n",
       "</div>"
      ],
      "text/plain": [
       "                         repo          language  \\\n",
       "13          airbnb/javascript        JavaScript   \n",
       "14            flutter/flutter              Dart   \n",
       "15                      d3/d3        JavaScript   \n",
       "16             torvalds/linux                 C   \n",
       "18  jackfrued/Python-100-Days  Jupyter Notebook   \n",
       "\n",
       "                                      readme_contents  \\\n",
       "13  # Airbnb JavaScript Style Guide() {\\n\\n*A most...   \n",
       "14  # [![Flutter logo][]][flutter.dev]\\n\\n[![Build...   \n",
       "15  # D3: Data-Driven Documents\\n\\n<a href=\"https:...   \n",
       "16  Linux kernel\\n============\\n\\nThere are severa...   \n",
       "18  ## Python - 100天从新手到大师\\n\\n> **作者**：骆昊\\n>\\n> **...   \n",
       "\n",
       "                                          clean_tokes  \\\n",
       "13  [airbnb, javascript, style, guide, a, mostly, ...   \n",
       "14  [flutter, logoflutterdev, build, status, cirru...   \n",
       "15  [d3, datadriven, documents, a, hrefhttpsd3jsor...   \n",
       "16  [linux, kernel, there, are, several, guides, f...   \n",
       "18  [python, 100, 8w15pythoncore50courseshttpsgith...   \n",
       "\n",
       "                                     clean_lemmatized is_top_language  \n",
       "13  airbnb javascript style guide mostly reasonabl...      JavaScript  \n",
       "14  flutter logoflutterdev build status cirrusbuil...           other  \n",
       "15  d3 datadriven document hrefhttpsd3jsorgimg src...      JavaScript  \n",
       "16  linux kernel several guide kernel developer us...           other  \n",
       "18  python 100 8w15pythoncore50courseshttpsgithubc...           other  "
      ]
     },
     "execution_count": 11,
     "metadata": {},
     "output_type": "execute_result"
    }
   ],
   "source": [
    "#peek at the datafram\n",
    "df.head(5)"
   ]
  },
  {
   "cell_type": "code",
   "execution_count": 12,
   "metadata": {},
   "outputs": [
    {
     "data": {
      "text/plain": [
       "other         60\n",
       "JavaScript    45\n",
       "Python        21\n",
       "Java          17\n",
       "C++           11\n",
       "Name: is_top_language, dtype: int64"
      ]
     },
     "execution_count": 12,
     "metadata": {},
     "output_type": "execute_result"
    }
   ],
   "source": [
    "#Take a look at languages again using our new column\n",
    "df.is_top_language.value_counts(dropna=False)"
   ]
  },
  {
   "cell_type": "markdown",
   "metadata": {},
   "source": [
    "## Exploration\n",
    "\n",
    "### Distribution of Data\n",
    "- Here we looked at the distribution of data so we could get a feel for the data"
   ]
  },
  {
   "cell_type": "code",
   "execution_count": 13,
   "metadata": {},
   "outputs": [
    {
     "data": {
      "text/html": [
       "<div>\n",
       "<style scoped>\n",
       "    .dataframe tbody tr th:only-of-type {\n",
       "        vertical-align: middle;\n",
       "    }\n",
       "\n",
       "    .dataframe tbody tr th {\n",
       "        vertical-align: top;\n",
       "    }\n",
       "\n",
       "    .dataframe thead th {\n",
       "        text-align: right;\n",
       "    }\n",
       "</style>\n",
       "<table border=\"1\" class=\"dataframe\">\n",
       "  <thead>\n",
       "    <tr style=\"text-align: right;\">\n",
       "      <th></th>\n",
       "      <th>n</th>\n",
       "      <th>percent</th>\n",
       "    </tr>\n",
       "  </thead>\n",
       "  <tbody>\n",
       "    <tr>\n",
       "      <th>JavaScript</th>\n",
       "      <td>45</td>\n",
       "      <td>0.292208</td>\n",
       "    </tr>\n",
       "    <tr>\n",
       "      <th>Python</th>\n",
       "      <td>21</td>\n",
       "      <td>0.136364</td>\n",
       "    </tr>\n",
       "    <tr>\n",
       "      <th>Java</th>\n",
       "      <td>17</td>\n",
       "      <td>0.110390</td>\n",
       "    </tr>\n",
       "    <tr>\n",
       "      <th>Go</th>\n",
       "      <td>11</td>\n",
       "      <td>0.071429</td>\n",
       "    </tr>\n",
       "    <tr>\n",
       "      <th>C++</th>\n",
       "      <td>11</td>\n",
       "      <td>0.071429</td>\n",
       "    </tr>\n",
       "    <tr>\n",
       "      <th>TypeScript</th>\n",
       "      <td>10</td>\n",
       "      <td>0.064935</td>\n",
       "    </tr>\n",
       "    <tr>\n",
       "      <th>C</th>\n",
       "      <td>6</td>\n",
       "      <td>0.038961</td>\n",
       "    </tr>\n",
       "    <tr>\n",
       "      <th>HTML</th>\n",
       "      <td>4</td>\n",
       "      <td>0.025974</td>\n",
       "    </tr>\n",
       "    <tr>\n",
       "      <th>Rust</th>\n",
       "      <td>3</td>\n",
       "      <td>0.019481</td>\n",
       "    </tr>\n",
       "    <tr>\n",
       "      <th>CSS</th>\n",
       "      <td>3</td>\n",
       "      <td>0.019481</td>\n",
       "    </tr>\n",
       "    <tr>\n",
       "      <th>Ruby</th>\n",
       "      <td>3</td>\n",
       "      <td>0.019481</td>\n",
       "    </tr>\n",
       "    <tr>\n",
       "      <th>Kotlin</th>\n",
       "      <td>3</td>\n",
       "      <td>0.019481</td>\n",
       "    </tr>\n",
       "    <tr>\n",
       "      <th>Swift</th>\n",
       "      <td>2</td>\n",
       "      <td>0.012987</td>\n",
       "    </tr>\n",
       "    <tr>\n",
       "      <th>Jupyter Notebook</th>\n",
       "      <td>2</td>\n",
       "      <td>0.012987</td>\n",
       "    </tr>\n",
       "    <tr>\n",
       "      <th>Clojure</th>\n",
       "      <td>2</td>\n",
       "      <td>0.012987</td>\n",
       "    </tr>\n",
       "    <tr>\n",
       "      <th>PHP</th>\n",
       "      <td>2</td>\n",
       "      <td>0.012987</td>\n",
       "    </tr>\n",
       "    <tr>\n",
       "      <th>Shell</th>\n",
       "      <td>2</td>\n",
       "      <td>0.012987</td>\n",
       "    </tr>\n",
       "    <tr>\n",
       "      <th>TeX</th>\n",
       "      <td>1</td>\n",
       "      <td>0.006494</td>\n",
       "    </tr>\n",
       "    <tr>\n",
       "      <th>Objective-C</th>\n",
       "      <td>1</td>\n",
       "      <td>0.006494</td>\n",
       "    </tr>\n",
       "    <tr>\n",
       "      <th>Haskell</th>\n",
       "      <td>1</td>\n",
       "      <td>0.006494</td>\n",
       "    </tr>\n",
       "    <tr>\n",
       "      <th>C#</th>\n",
       "      <td>1</td>\n",
       "      <td>0.006494</td>\n",
       "    </tr>\n",
       "    <tr>\n",
       "      <th>Dart</th>\n",
       "      <td>1</td>\n",
       "      <td>0.006494</td>\n",
       "    </tr>\n",
       "    <tr>\n",
       "      <th>OCaml</th>\n",
       "      <td>1</td>\n",
       "      <td>0.006494</td>\n",
       "    </tr>\n",
       "    <tr>\n",
       "      <th>Vue</th>\n",
       "      <td>1</td>\n",
       "      <td>0.006494</td>\n",
       "    </tr>\n",
       "  </tbody>\n",
       "</table>\n",
       "</div>"
      ],
      "text/plain": [
       "                   n   percent\n",
       "JavaScript        45  0.292208\n",
       "Python            21  0.136364\n",
       "Java              17  0.110390\n",
       "Go                11  0.071429\n",
       "C++               11  0.071429\n",
       "TypeScript        10  0.064935\n",
       "C                  6  0.038961\n",
       "HTML               4  0.025974\n",
       "Rust               3  0.019481\n",
       "CSS                3  0.019481\n",
       "Ruby               3  0.019481\n",
       "Kotlin             3  0.019481\n",
       "Swift              2  0.012987\n",
       "Jupyter Notebook   2  0.012987\n",
       "Clojure            2  0.012987\n",
       "PHP                2  0.012987\n",
       "Shell              2  0.012987\n",
       "TeX                1  0.006494\n",
       "Objective-C        1  0.006494\n",
       "Haskell            1  0.006494\n",
       "C#                 1  0.006494\n",
       "Dart               1  0.006494\n",
       "OCaml              1  0.006494\n",
       "Vue                1  0.006494"
      ]
     },
     "execution_count": 13,
     "metadata": {},
     "output_type": "execute_result"
    }
   ],
   "source": [
    "# Quick dataframe to view the distribution of all languages\n",
    "pd.concat(\n",
    "    [df.language.value_counts(), df.language.value_counts(normalize=True)], axis=1\n",
    "    ).set_axis(['n', 'percent'], axis=1, inplace=False)"
   ]
  },
  {
   "cell_type": "code",
   "execution_count": 14,
   "metadata": {},
   "outputs": [
    {
     "data": {
      "text/html": [
       "<div>\n",
       "<style scoped>\n",
       "    .dataframe tbody tr th:only-of-type {\n",
       "        vertical-align: middle;\n",
       "    }\n",
       "\n",
       "    .dataframe tbody tr th {\n",
       "        vertical-align: top;\n",
       "    }\n",
       "\n",
       "    .dataframe thead th {\n",
       "        text-align: right;\n",
       "    }\n",
       "</style>\n",
       "<table border=\"1\" class=\"dataframe\">\n",
       "  <thead>\n",
       "    <tr style=\"text-align: right;\">\n",
       "      <th></th>\n",
       "      <th>n</th>\n",
       "      <th>percent</th>\n",
       "    </tr>\n",
       "  </thead>\n",
       "  <tbody>\n",
       "    <tr>\n",
       "      <th>other</th>\n",
       "      <td>60</td>\n",
       "      <td>0.389610</td>\n",
       "    </tr>\n",
       "    <tr>\n",
       "      <th>JavaScript</th>\n",
       "      <td>45</td>\n",
       "      <td>0.292208</td>\n",
       "    </tr>\n",
       "    <tr>\n",
       "      <th>Python</th>\n",
       "      <td>21</td>\n",
       "      <td>0.136364</td>\n",
       "    </tr>\n",
       "    <tr>\n",
       "      <th>Java</th>\n",
       "      <td>17</td>\n",
       "      <td>0.110390</td>\n",
       "    </tr>\n",
       "    <tr>\n",
       "      <th>C++</th>\n",
       "      <td>11</td>\n",
       "      <td>0.071429</td>\n",
       "    </tr>\n",
       "  </tbody>\n",
       "</table>\n",
       "</div>"
      ],
      "text/plain": [
       "             n   percent\n",
       "other       60  0.389610\n",
       "JavaScript  45  0.292208\n",
       "Python      21  0.136364\n",
       "Java        17  0.110390\n",
       "C++         11  0.071429"
      ]
     },
     "execution_count": 14,
     "metadata": {},
     "output_type": "execute_result"
    }
   ],
   "source": [
    "# Quick dataframe to view the distribution of our top languages\n",
    "pd.concat(\n",
    "    [df.is_top_language.value_counts(), df.is_top_language.value_counts(normalize=True)], axis=1\n",
    "    ).set_axis(['n', 'percent'], axis=1, inplace=False)"
   ]
  },
  {
   "cell_type": "code",
   "execution_count": 15,
   "metadata": {},
   "outputs": [
    {
     "data": {
      "image/png": "[encoded data removed]",
      "text/plain": [
       "<Figure size 936x720 with 1 Axes>"
      ]
     },
     "metadata": {
      "needs_background": "light"
     },
     "output_type": "display_data"
    }
   ],
   "source": [
    "#plot the distros for all languages\n",
    "explore.plot_distro_for_value_counts_all(df)"
   ]
  },
  {
   "cell_type": "code",
   "execution_count": 16,
   "metadata": {},
   "outputs": [
    {
     "data": {
      "image/png": "[encoded data removed]",
      "text/plain": [
       "<Figure size 936x720 with 1 Axes>"
      ]
     },
     "metadata": {
      "needs_background": "light"
     },
     "output_type": "display_data"
    }
   ],
   "source": [
    "#plot the distros for top languages\n",
    "explore.plot_distro_for_value_counts_top(df)"
   ]
  },
  {
   "cell_type": "markdown",
   "metadata": {},
   "source": [
    "### REAMDE lengths by language"
   ]
  },
  {
   "cell_type": "code",
   "execution_count": 19,
   "metadata": {},
   "outputs": [
    {
     "data": {
      "image/png": "[encoded data removed]",
      "text/plain": [
       "<Figure size 936x720 with 1 Axes>"
      ]
     },
     "metadata": {
      "needs_background": "light"
     },
     "output_type": "display_data"
    }
   ],
   "source": [
    "#scatterplot visual of the various readmes lengths hued language\n",
    "explore.scatterplot_for_readmes(df)"
   ]
  },
  {
   "cell_type": "markdown",
   "metadata": {},
   "source": [
    "**Takeaways so far** \n",
    "- It looks like most readmes have under 25k characters\n",
    "- Pyhton and Swift seem to have a few outliers\n",
    "- Overall the length of the readme's seem to be relatively similiar"
   ]
  },
  {
   "cell_type": "markdown",
   "metadata": {},
   "source": [
    "#### Lets take a look at the medians, min, and max"
   ]
  },
  {
   "cell_type": "markdown",
   "metadata": {},
   "source": [
    "**Question Asked:** Does the length of the README vary by programming language?\n",
    "\n",
    "**Answersr** \n",
    "- It looks like most readmes have under 25k characters\n",
    "- Pyhton and Swift seem to have a few outliers\n",
    "- Overall the length of the readme's seem to be relatively similiar"
   ]
  },
  {
   "cell_type": "code",
   "execution_count": null,
   "metadata": {},
   "outputs": [],
   "source": []
  }
 ],
 "metadata": {
  "kernelspec": {
   "display_name": "Python 3",
   "language": "python",
   "name": "python3"
  },
  "language_info": {
   "codemirror_mode": {
    "name": "ipython",
    "version": 3
   },
   "file_extension": ".py",
   "mimetype": "text/x-python",
   "name": "python",
   "nbconvert_exporter": "python",
   "pygments_lexer": "ipython3",
   "version": "3.7.4"
  }
 },
 "nbformat": 4,
 "nbformat_minor": 4
}
