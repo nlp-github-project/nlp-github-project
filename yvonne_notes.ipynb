{
 "cells": [
  {
   "cell_type": "markdown",
   "metadata": {},
   "source": [
    "# Predicting the programming language of repos on Github\n",
    "by Yvonne King and Daniel Guerrero\n",
    "\n",
    "## Goal\n",
    "Build a model that can predict what programming language a repository is, based on the text of the README file"
   ]
  },
  {
   "cell_type": "code",
   "execution_count": 122,
   "metadata": {},
   "outputs": [],
   "source": [
    "from requests import get\n",
    "from bs4 import BeautifulSoup\n",
    "import os\n",
    "import pandas as pd\n",
    "\n",
    "import acquire\n",
    "import prepare\n",
    "\n",
    "import seaborn as sns\n",
    "\n",
    "import matplotlib.pyplot as plt\n",
    "\n",
    "import re\n",
    "import nltk\n",
    "import nltk.sentiment"
   ]
  },
  {
   "cell_type": "markdown",
   "metadata": {},
   "source": [
    "## Acquire\n",
    "Fetch data  from the acquire.py module."
   ]
  },
  {
   "cell_type": "code",
   "execution_count": 2,
   "metadata": {},
   "outputs": [],
   "source": [
    "df = pd.read_json(\"data.json\")"
   ]
  },
  {
   "cell_type": "code",
   "execution_count": 3,
   "metadata": {},
   "outputs": [
    {
     "data": {
      "text/plain": [
       "(248, 3)"
      ]
     },
     "execution_count": 3,
     "metadata": {},
     "output_type": "execute_result"
    }
   ],
   "source": [
    "df.shape"
   ]
  },
  {
   "cell_type": "code",
   "execution_count": 4,
   "metadata": {},
   "outputs": [
    {
     "name": "stdout",
     "output_type": "stream",
     "text": [
      "<class 'pandas.core.frame.DataFrame'>\n",
      "RangeIndex: 248 entries, 0 to 247\n",
      "Data columns (total 3 columns):\n",
      "repo               248 non-null object\n",
      "language           215 non-null object\n",
      "readme_contents    248 non-null object\n",
      "dtypes: object(3)\n",
      "memory usage: 5.9+ KB\n"
     ]
    }
   ],
   "source": [
    "df.info()"
   ]
  },
  {
   "cell_type": "code",
   "execution_count": 5,
   "metadata": {},
   "outputs": [
    {
     "data": {
      "text/html": [
       "<div>\n",
       "<style scoped>\n",
       "    .dataframe tbody tr th:only-of-type {\n",
       "        vertical-align: middle;\n",
       "    }\n",
       "\n",
       "    .dataframe tbody tr th {\n",
       "        vertical-align: top;\n",
       "    }\n",
       "\n",
       "    .dataframe thead th {\n",
       "        text-align: right;\n",
       "    }\n",
       "</style>\n",
       "<table border=\"1\" class=\"dataframe\">\n",
       "  <thead>\n",
       "    <tr style=\"text-align: right;\">\n",
       "      <th></th>\n",
       "      <th>repo</th>\n",
       "      <th>language</th>\n",
       "      <th>readme_contents</th>\n",
       "    </tr>\n",
       "  </thead>\n",
       "  <tbody>\n",
       "    <tr>\n",
       "      <th>0</th>\n",
       "      <td>vuejs/vue</td>\n",
       "      <td>JavaScript</td>\n",
       "      <td>&lt;p align=\"center\"&gt;&lt;a href=\"https://vuejs.org\" ...</td>\n",
       "    </tr>\n",
       "    <tr>\n",
       "      <th>1</th>\n",
       "      <td>EbookFoundation/free-programming-books</td>\n",
       "      <td>None</td>\n",
       "      <td>This page is available as an easy-to-read webs...</td>\n",
       "    </tr>\n",
       "    <tr>\n",
       "      <th>2</th>\n",
       "      <td>tensorflow/tensorflow</td>\n",
       "      <td>C++</td>\n",
       "      <td>&lt;div align=\"center\"&gt;\\n  &lt;img src=\"https://www....</td>\n",
       "    </tr>\n",
       "    <tr>\n",
       "      <th>3</th>\n",
       "      <td>twbs/bootstrap</td>\n",
       "      <td>JavaScript</td>\n",
       "      <td>&lt;p align=\"center\"&gt;\\n  &lt;a href=\"https://getboot...</td>\n",
       "    </tr>\n",
       "    <tr>\n",
       "      <th>4</th>\n",
       "      <td>sindresorhus/awesome</td>\n",
       "      <td>None</td>\n",
       "      <td>&lt;div align=\"center\"&gt;\\n\\t&lt;img width=\"500\" heigh...</td>\n",
       "    </tr>\n",
       "    <tr>\n",
       "      <th>...</th>\n",
       "      <td>...</td>\n",
       "      <td>...</td>\n",
       "      <td>...</td>\n",
       "    </tr>\n",
       "    <tr>\n",
       "      <th>243</th>\n",
       "      <td>lodash/lodash</td>\n",
       "      <td>JavaScript</td>\n",
       "      <td># lodash\\n\\n[Site](https://lodash.com/) |\\n[Do...</td>\n",
       "    </tr>\n",
       "    <tr>\n",
       "      <th>244</th>\n",
       "      <td>josephmisiti/awesome-machine-learning</td>\n",
       "      <td>Python</td>\n",
       "      <td># Awesome Machine Learning [![Awesome](https:/...</td>\n",
       "    </tr>\n",
       "    <tr>\n",
       "      <th>245</th>\n",
       "      <td>kdn251/interviews</td>\n",
       "      <td>Java</td>\n",
       "      <td>&gt; * 原文地址：[github.com/kdn251/interviews](https:...</td>\n",
       "    </tr>\n",
       "    <tr>\n",
       "      <th>246</th>\n",
       "      <td>h5bp/Front-end-Developer-Interview-Questions</td>\n",
       "      <td>HTML</td>\n",
       "      <td># Front-end Job Interview Questions\\n\\nThis re...</td>\n",
       "    </tr>\n",
       "    <tr>\n",
       "      <th>247</th>\n",
       "      <td>resume/resume.github.com</td>\n",
       "      <td>JavaScript</td>\n",
       "      <td># [GitHub Résumé](https://resume.github.io/)\\n...</td>\n",
       "    </tr>\n",
       "  </tbody>\n",
       "</table>\n",
       "<p>248 rows × 3 columns</p>\n",
       "</div>"
      ],
      "text/plain": [
       "                                             repo    language  \\\n",
       "0                                       vuejs/vue  JavaScript   \n",
       "1          EbookFoundation/free-programming-books        None   \n",
       "2                           tensorflow/tensorflow         C++   \n",
       "3                                  twbs/bootstrap  JavaScript   \n",
       "4                            sindresorhus/awesome        None   \n",
       "..                                            ...         ...   \n",
       "243                                 lodash/lodash  JavaScript   \n",
       "244         josephmisiti/awesome-machine-learning      Python   \n",
       "245                             kdn251/interviews        Java   \n",
       "246  h5bp/Front-end-Developer-Interview-Questions        HTML   \n",
       "247                      resume/resume.github.com  JavaScript   \n",
       "\n",
       "                                       readme_contents  \n",
       "0    <p align=\"center\"><a href=\"https://vuejs.org\" ...  \n",
       "1    This page is available as an easy-to-read webs...  \n",
       "2    <div align=\"center\">\\n  <img src=\"https://www....  \n",
       "3    <p align=\"center\">\\n  <a href=\"https://getboot...  \n",
       "4    <div align=\"center\">\\n\\t<img width=\"500\" heigh...  \n",
       "..                                                 ...  \n",
       "243  # lodash\\n\\n[Site](https://lodash.com/) |\\n[Do...  \n",
       "244  # Awesome Machine Learning [![Awesome](https:/...  \n",
       "245  > * 原文地址：[github.com/kdn251/interviews](https:...  \n",
       "246  # Front-end Job Interview Questions\\n\\nThis re...  \n",
       "247  # [GitHub Résumé](https://resume.github.io/)\\n...  \n",
       "\n",
       "[248 rows x 3 columns]"
      ]
     },
     "execution_count": 5,
     "metadata": {},
     "output_type": "execute_result"
    }
   ],
   "source": [
    "df"
   ]
  },
  {
   "cell_type": "markdown",
   "metadata": {},
   "source": [
    "## Prep\n",
    "Using the prep_readme_function we will:\n",
    "- normalize data by removing non ASCII characters\n",
    "- tokenize words\n",
    "- stem and lemmatize words\n",
    "- remove stop words"
   ]
  },
  {
   "cell_type": "code",
   "execution_count": 6,
   "metadata": {},
   "outputs": [],
   "source": [
    "def prep_readme_data(df):\n",
    "    '''\n",
    "    This function takes in the github readme df and\n",
    "    returns the df with original columns plus cleaned\n",
    "    and lemmatized content without stopwords.\n",
    "    '''\n",
    "    # Do basic clean on article content\n",
    "    df = prepare.basic_clean(df, 'readme_contents')\n",
    "    \n",
    "    # Tokenize clean article content\n",
    "    df = prepare.tokenize(df, 'basic_clean')\n",
    "    \n",
    "    # Lemmatize cleaned and tokenized article content\n",
    "    df = prepare.lemmatize(df, 'clean_tokes')\n",
    "    \n",
    "    # Remove stopwords from Lemmatized article content\n",
    "    df = prepare.remove_stopwords(df, 'lemmatized')\n",
    "    \n",
    "    return df[['repo', 'language', 'readme_contents', 'clean_tokes', 'clean_lemmatized']]"
   ]
  },
  {
   "cell_type": "code",
   "execution_count": 7,
   "metadata": {},
   "outputs": [
    {
     "data": {
      "text/html": [
       "<div>\n",
       "<style scoped>\n",
       "    .dataframe tbody tr th:only-of-type {\n",
       "        vertical-align: middle;\n",
       "    }\n",
       "\n",
       "    .dataframe tbody tr th {\n",
       "        vertical-align: top;\n",
       "    }\n",
       "\n",
       "    .dataframe thead th {\n",
       "        text-align: right;\n",
       "    }\n",
       "</style>\n",
       "<table border=\"1\" class=\"dataframe\">\n",
       "  <thead>\n",
       "    <tr style=\"text-align: right;\">\n",
       "      <th></th>\n",
       "      <th>repo</th>\n",
       "      <th>language</th>\n",
       "      <th>readme_contents</th>\n",
       "      <th>clean_tokes</th>\n",
       "      <th>clean_lemmatized</th>\n",
       "    </tr>\n",
       "  </thead>\n",
       "  <tbody>\n",
       "    <tr>\n",
       "      <th>0</th>\n",
       "      <td>vuejs/vue</td>\n",
       "      <td>JavaScript</td>\n",
       "      <td>&lt;p align=\"center\"&gt;&lt;a href=\"https://vuejs.org\" ...</td>\n",
       "      <td>[p, aligncentera, hrefhttpsvuejsorg, target_bl...</td>\n",
       "      <td>p aligncentera hrefhttpsvuejsorg target_blank ...</td>\n",
       "    </tr>\n",
       "    <tr>\n",
       "      <th>1</th>\n",
       "      <td>EbookFoundation/free-programming-books</td>\n",
       "      <td>None</td>\n",
       "      <td>This page is available as an easy-to-read webs...</td>\n",
       "      <td>[this, page, is, available, as, an, easytoread...</td>\n",
       "      <td>page available easytoread website httpsebookfo...</td>\n",
       "    </tr>\n",
       "    <tr>\n",
       "      <th>2</th>\n",
       "      <td>tensorflow/tensorflow</td>\n",
       "      <td>C++</td>\n",
       "      <td>&lt;div align=\"center\"&gt;\\n  &lt;img src=\"https://www....</td>\n",
       "      <td>[div, aligncenter, img, srchttpswwwtensorflowo...</td>\n",
       "      <td>div aligncenter img srchttpswwwtensorfloworgim...</td>\n",
       "    </tr>\n",
       "    <tr>\n",
       "      <th>3</th>\n",
       "      <td>twbs/bootstrap</td>\n",
       "      <td>JavaScript</td>\n",
       "      <td>&lt;p align=\"center\"&gt;\\n  &lt;a href=\"https://getboot...</td>\n",
       "      <td>[p, aligncenter, a, hrefhttpsgetbootstrapcom, ...</td>\n",
       "      <td>p aligncenter hrefhttpsgetbootstrapcom img src...</td>\n",
       "    </tr>\n",
       "    <tr>\n",
       "      <th>4</th>\n",
       "      <td>sindresorhus/awesome</td>\n",
       "      <td>None</td>\n",
       "      <td>&lt;div align=\"center\"&gt;\\n\\t&lt;img width=\"500\" heigh...</td>\n",
       "      <td>[div, aligncenter, &amp;#9;, img, width500, height...</td>\n",
       "      <td>div aligncenter &amp;#9; img width500 height350 sr...</td>\n",
       "    </tr>\n",
       "    <tr>\n",
       "      <th>...</th>\n",
       "      <td>...</td>\n",
       "      <td>...</td>\n",
       "      <td>...</td>\n",
       "      <td>...</td>\n",
       "      <td>...</td>\n",
       "    </tr>\n",
       "    <tr>\n",
       "      <th>243</th>\n",
       "      <td>lodash/lodash</td>\n",
       "      <td>JavaScript</td>\n",
       "      <td># lodash\\n\\n[Site](https://lodash.com/) |\\n[Do...</td>\n",
       "      <td>[lodash, sitehttpslodashcom, docshttpslodashco...</td>\n",
       "      <td>lodash sitehttpslodashcom docshttpslodashcomdo...</td>\n",
       "    </tr>\n",
       "    <tr>\n",
       "      <th>244</th>\n",
       "      <td>josephmisiti/awesome-machine-learning</td>\n",
       "      <td>Python</td>\n",
       "      <td># Awesome Machine Learning [![Awesome](https:/...</td>\n",
       "      <td>[awesome, machine, learning, awesomehttpscdnra...</td>\n",
       "      <td>awesome machine learning awesomehttpscdnrawgit...</td>\n",
       "    </tr>\n",
       "    <tr>\n",
       "      <th>245</th>\n",
       "      <td>kdn251/interviews</td>\n",
       "      <td>Java</td>\n",
       "      <td>&gt; * 原文地址：[github.com/kdn251/interviews](https:...</td>\n",
       "      <td>[githubcomkdn251interviewshttpsgithubcomkdn251...</td>\n",
       "      <td>githubcomkdn251interviewshttpsgithubcomkdn251i...</td>\n",
       "    </tr>\n",
       "    <tr>\n",
       "      <th>246</th>\n",
       "      <td>h5bp/Front-end-Developer-Interview-Questions</td>\n",
       "      <td>HTML</td>\n",
       "      <td># Front-end Job Interview Questions\\n\\nThis re...</td>\n",
       "      <td>[frontend, job, interview, questions, this, re...</td>\n",
       "      <td>frontend job interview question repository con...</td>\n",
       "    </tr>\n",
       "    <tr>\n",
       "      <th>247</th>\n",
       "      <td>resume/resume.github.com</td>\n",
       "      <td>JavaScript</td>\n",
       "      <td># [GitHub Résumé](https://resume.github.io/)\\n...</td>\n",
       "      <td>[github, rsumhttpsresumegithubio, a, service, ...</td>\n",
       "      <td>github rsumhttpsresumegithubio service creates...</td>\n",
       "    </tr>\n",
       "  </tbody>\n",
       "</table>\n",
       "<p>248 rows × 5 columns</p>\n",
       "</div>"
      ],
      "text/plain": [
       "                                             repo    language  \\\n",
       "0                                       vuejs/vue  JavaScript   \n",
       "1          EbookFoundation/free-programming-books        None   \n",
       "2                           tensorflow/tensorflow         C++   \n",
       "3                                  twbs/bootstrap  JavaScript   \n",
       "4                            sindresorhus/awesome        None   \n",
       "..                                            ...         ...   \n",
       "243                                 lodash/lodash  JavaScript   \n",
       "244         josephmisiti/awesome-machine-learning      Python   \n",
       "245                             kdn251/interviews        Java   \n",
       "246  h5bp/Front-end-Developer-Interview-Questions        HTML   \n",
       "247                      resume/resume.github.com  JavaScript   \n",
       "\n",
       "                                       readme_contents  \\\n",
       "0    <p align=\"center\"><a href=\"https://vuejs.org\" ...   \n",
       "1    This page is available as an easy-to-read webs...   \n",
       "2    <div align=\"center\">\\n  <img src=\"https://www....   \n",
       "3    <p align=\"center\">\\n  <a href=\"https://getboot...   \n",
       "4    <div align=\"center\">\\n\\t<img width=\"500\" heigh...   \n",
       "..                                                 ...   \n",
       "243  # lodash\\n\\n[Site](https://lodash.com/) |\\n[Do...   \n",
       "244  # Awesome Machine Learning [![Awesome](https:/...   \n",
       "245  > * 原文地址：[github.com/kdn251/interviews](https:...   \n",
       "246  # Front-end Job Interview Questions\\n\\nThis re...   \n",
       "247  # [GitHub Résumé](https://resume.github.io/)\\n...   \n",
       "\n",
       "                                           clean_tokes  \\\n",
       "0    [p, aligncentera, hrefhttpsvuejsorg, target_bl...   \n",
       "1    [this, page, is, available, as, an, easytoread...   \n",
       "2    [div, aligncenter, img, srchttpswwwtensorflowo...   \n",
       "3    [p, aligncenter, a, hrefhttpsgetbootstrapcom, ...   \n",
       "4    [div, aligncenter, &#9;, img, width500, height...   \n",
       "..                                                 ...   \n",
       "243  [lodash, sitehttpslodashcom, docshttpslodashco...   \n",
       "244  [awesome, machine, learning, awesomehttpscdnra...   \n",
       "245  [githubcomkdn251interviewshttpsgithubcomkdn251...   \n",
       "246  [frontend, job, interview, questions, this, re...   \n",
       "247  [github, rsumhttpsresumegithubio, a, service, ...   \n",
       "\n",
       "                                      clean_lemmatized  \n",
       "0    p aligncentera hrefhttpsvuejsorg target_blank ...  \n",
       "1    page available easytoread website httpsebookfo...  \n",
       "2    div aligncenter img srchttpswwwtensorfloworgim...  \n",
       "3    p aligncenter hrefhttpsgetbootstrapcom img src...  \n",
       "4    div aligncenter &#9; img width500 height350 sr...  \n",
       "..                                                 ...  \n",
       "243  lodash sitehttpslodashcom docshttpslodashcomdo...  \n",
       "244  awesome machine learning awesomehttpscdnrawgit...  \n",
       "245  githubcomkdn251interviewshttpsgithubcomkdn251i...  \n",
       "246  frontend job interview question repository con...  \n",
       "247  github rsumhttpsresumegithubio service creates...  \n",
       "\n",
       "[248 rows x 5 columns]"
      ]
     },
     "execution_count": 7,
     "metadata": {},
     "output_type": "execute_result"
    }
   ],
   "source": [
    "prep_readme_data(df)"
   ]
  },
  {
   "cell_type": "code",
   "execution_count": 8,
   "metadata": {},
   "outputs": [],
   "source": [
    "df = prepare.prep_readme_data(df)"
   ]
  },
  {
   "cell_type": "code",
   "execution_count": 9,
   "metadata": {},
   "outputs": [
    {
     "data": {
      "text/html": [
       "<div>\n",
       "<style scoped>\n",
       "    .dataframe tbody tr th:only-of-type {\n",
       "        vertical-align: middle;\n",
       "    }\n",
       "\n",
       "    .dataframe tbody tr th {\n",
       "        vertical-align: top;\n",
       "    }\n",
       "\n",
       "    .dataframe thead th {\n",
       "        text-align: right;\n",
       "    }\n",
       "</style>\n",
       "<table border=\"1\" class=\"dataframe\">\n",
       "  <thead>\n",
       "    <tr style=\"text-align: right;\">\n",
       "      <th></th>\n",
       "      <th>repo</th>\n",
       "      <th>language</th>\n",
       "      <th>readme_contents</th>\n",
       "      <th>clean_tokes</th>\n",
       "      <th>clean_lemmatized</th>\n",
       "    </tr>\n",
       "  </thead>\n",
       "  <tbody>\n",
       "    <tr>\n",
       "      <th>0</th>\n",
       "      <td>vuejs/vue</td>\n",
       "      <td>JavaScript</td>\n",
       "      <td>&lt;p align=\"center\"&gt;&lt;a href=\"https://vuejs.org\" ...</td>\n",
       "      <td>[p, aligncentera, hrefhttpsvuejsorg, target_bl...</td>\n",
       "      <td>p aligncentera hrefhttpsvuejsorg target_blank ...</td>\n",
       "    </tr>\n",
       "    <tr>\n",
       "      <th>1</th>\n",
       "      <td>EbookFoundation/free-programming-books</td>\n",
       "      <td>None</td>\n",
       "      <td>This page is available as an easy-to-read webs...</td>\n",
       "      <td>[this, page, is, available, as, an, easytoread...</td>\n",
       "      <td>page available easytoread website httpsebookfo...</td>\n",
       "    </tr>\n",
       "    <tr>\n",
       "      <th>2</th>\n",
       "      <td>tensorflow/tensorflow</td>\n",
       "      <td>C++</td>\n",
       "      <td>&lt;div align=\"center\"&gt;\\n  &lt;img src=\"https://www....</td>\n",
       "      <td>[div, aligncenter, img, srchttpswwwtensorflowo...</td>\n",
       "      <td>div aligncenter img srchttpswwwtensorfloworgim...</td>\n",
       "    </tr>\n",
       "    <tr>\n",
       "      <th>3</th>\n",
       "      <td>twbs/bootstrap</td>\n",
       "      <td>JavaScript</td>\n",
       "      <td>&lt;p align=\"center\"&gt;\\n  &lt;a href=\"https://getboot...</td>\n",
       "      <td>[p, aligncenter, a, hrefhttpsgetbootstrapcom, ...</td>\n",
       "      <td>p aligncenter hrefhttpsgetbootstrapcom img src...</td>\n",
       "    </tr>\n",
       "    <tr>\n",
       "      <th>4</th>\n",
       "      <td>sindresorhus/awesome</td>\n",
       "      <td>None</td>\n",
       "      <td>&lt;div align=\"center\"&gt;\\n\\t&lt;img width=\"500\" heigh...</td>\n",
       "      <td>[div, aligncenter, &amp;#9;, img, width500, height...</td>\n",
       "      <td>div aligncenter &amp;#9; img width500 height350 sr...</td>\n",
       "    </tr>\n",
       "    <tr>\n",
       "      <th>...</th>\n",
       "      <td>...</td>\n",
       "      <td>...</td>\n",
       "      <td>...</td>\n",
       "      <td>...</td>\n",
       "      <td>...</td>\n",
       "    </tr>\n",
       "    <tr>\n",
       "      <th>243</th>\n",
       "      <td>lodash/lodash</td>\n",
       "      <td>JavaScript</td>\n",
       "      <td># lodash\\n\\n[Site](https://lodash.com/) |\\n[Do...</td>\n",
       "      <td>[lodash, sitehttpslodashcom, docshttpslodashco...</td>\n",
       "      <td>lodash sitehttpslodashcom docshttpslodashcomdo...</td>\n",
       "    </tr>\n",
       "    <tr>\n",
       "      <th>244</th>\n",
       "      <td>josephmisiti/awesome-machine-learning</td>\n",
       "      <td>Python</td>\n",
       "      <td># Awesome Machine Learning [![Awesome](https:/...</td>\n",
       "      <td>[awesome, machine, learning, awesomehttpscdnra...</td>\n",
       "      <td>awesome machine learning awesomehttpscdnrawgit...</td>\n",
       "    </tr>\n",
       "    <tr>\n",
       "      <th>245</th>\n",
       "      <td>kdn251/interviews</td>\n",
       "      <td>Java</td>\n",
       "      <td>&gt; * 原文地址：[github.com/kdn251/interviews](https:...</td>\n",
       "      <td>[githubcomkdn251interviewshttpsgithubcomkdn251...</td>\n",
       "      <td>githubcomkdn251interviewshttpsgithubcomkdn251i...</td>\n",
       "    </tr>\n",
       "    <tr>\n",
       "      <th>246</th>\n",
       "      <td>h5bp/Front-end-Developer-Interview-Questions</td>\n",
       "      <td>HTML</td>\n",
       "      <td># Front-end Job Interview Questions\\n\\nThis re...</td>\n",
       "      <td>[frontend, job, interview, questions, this, re...</td>\n",
       "      <td>frontend job interview question repository con...</td>\n",
       "    </tr>\n",
       "    <tr>\n",
       "      <th>247</th>\n",
       "      <td>resume/resume.github.com</td>\n",
       "      <td>JavaScript</td>\n",
       "      <td># [GitHub Résumé](https://resume.github.io/)\\n...</td>\n",
       "      <td>[github, rsumhttpsresumegithubio, a, service, ...</td>\n",
       "      <td>github rsumhttpsresumegithubio service creates...</td>\n",
       "    </tr>\n",
       "  </tbody>\n",
       "</table>\n",
       "<p>248 rows × 5 columns</p>\n",
       "</div>"
      ],
      "text/plain": [
       "                                             repo    language  \\\n",
       "0                                       vuejs/vue  JavaScript   \n",
       "1          EbookFoundation/free-programming-books        None   \n",
       "2                           tensorflow/tensorflow         C++   \n",
       "3                                  twbs/bootstrap  JavaScript   \n",
       "4                            sindresorhus/awesome        None   \n",
       "..                                            ...         ...   \n",
       "243                                 lodash/lodash  JavaScript   \n",
       "244         josephmisiti/awesome-machine-learning      Python   \n",
       "245                             kdn251/interviews        Java   \n",
       "246  h5bp/Front-end-Developer-Interview-Questions        HTML   \n",
       "247                      resume/resume.github.com  JavaScript   \n",
       "\n",
       "                                       readme_contents  \\\n",
       "0    <p align=\"center\"><a href=\"https://vuejs.org\" ...   \n",
       "1    This page is available as an easy-to-read webs...   \n",
       "2    <div align=\"center\">\\n  <img src=\"https://www....   \n",
       "3    <p align=\"center\">\\n  <a href=\"https://getboot...   \n",
       "4    <div align=\"center\">\\n\\t<img width=\"500\" heigh...   \n",
       "..                                                 ...   \n",
       "243  # lodash\\n\\n[Site](https://lodash.com/) |\\n[Do...   \n",
       "244  # Awesome Machine Learning [![Awesome](https:/...   \n",
       "245  > * 原文地址：[github.com/kdn251/interviews](https:...   \n",
       "246  # Front-end Job Interview Questions\\n\\nThis re...   \n",
       "247  # [GitHub Résumé](https://resume.github.io/)\\n...   \n",
       "\n",
       "                                           clean_tokes  \\\n",
       "0    [p, aligncentera, hrefhttpsvuejsorg, target_bl...   \n",
       "1    [this, page, is, available, as, an, easytoread...   \n",
       "2    [div, aligncenter, img, srchttpswwwtensorflowo...   \n",
       "3    [p, aligncenter, a, hrefhttpsgetbootstrapcom, ...   \n",
       "4    [div, aligncenter, &#9;, img, width500, height...   \n",
       "..                                                 ...   \n",
       "243  [lodash, sitehttpslodashcom, docshttpslodashco...   \n",
       "244  [awesome, machine, learning, awesomehttpscdnra...   \n",
       "245  [githubcomkdn251interviewshttpsgithubcomkdn251...   \n",
       "246  [frontend, job, interview, questions, this, re...   \n",
       "247  [github, rsumhttpsresumegithubio, a, service, ...   \n",
       "\n",
       "                                      clean_lemmatized  \n",
       "0    p aligncentera hrefhttpsvuejsorg target_blank ...  \n",
       "1    page available easytoread website httpsebookfo...  \n",
       "2    div aligncenter img srchttpswwwtensorfloworgim...  \n",
       "3    p aligncenter hrefhttpsgetbootstrapcom img src...  \n",
       "4    div aligncenter &#9; img width500 height350 sr...  \n",
       "..                                                 ...  \n",
       "243  lodash sitehttpslodashcom docshttpslodashcomdo...  \n",
       "244  awesome machine learning awesomehttpscdnrawgit...  \n",
       "245  githubcomkdn251interviewshttpsgithubcomkdn251i...  \n",
       "246  frontend job interview question repository con...  \n",
       "247  github rsumhttpsresumegithubio service creates...  \n",
       "\n",
       "[248 rows x 5 columns]"
      ]
     },
     "execution_count": 9,
     "metadata": {},
     "output_type": "execute_result"
    }
   ],
   "source": [
    "df"
   ]
  },
  {
   "cell_type": "code",
   "execution_count": 10,
   "metadata": {},
   "outputs": [
    {
     "data": {
      "text/plain": [
       "4769"
      ]
     },
     "execution_count": 10,
     "metadata": {},
     "output_type": "execute_result"
    }
   ],
   "source": [
    "len(df.readme_contents[1])"
   ]
  },
  {
   "cell_type": "code",
   "execution_count": 11,
   "metadata": {},
   "outputs": [
    {
     "data": {
      "text/plain": [
       "(JavaScript          73\n",
       " Python              27\n",
       " Java                20\n",
       " TypeScript          17\n",
       " C++                 12\n",
       " Go                  12\n",
       " C                    6\n",
       " Swift                5\n",
       " HTML                 4\n",
       " Shell                4\n",
       " PHP                  4\n",
       " Vue                  4\n",
       " Rust                 4\n",
       " Ruby                 3\n",
       " Kotlin               3\n",
       " CSS                  3\n",
       " Jupyter Notebook     2\n",
       " Clojure              2\n",
       " Objective-C          2\n",
       " Dart                 2\n",
       " Emacs Lisp           1\n",
       " Haskell              1\n",
       " TeX                  1\n",
       " C#                   1\n",
       " OCaml                1\n",
       " Assembly             1\n",
       " Name: language, dtype: int64, JavaScript          0.339535\n",
       " Python              0.125581\n",
       " Java                0.093023\n",
       " TypeScript          0.079070\n",
       " C++                 0.055814\n",
       " Go                  0.055814\n",
       " C                   0.027907\n",
       " Swift               0.023256\n",
       " HTML                0.018605\n",
       " Shell               0.018605\n",
       " PHP                 0.018605\n",
       " Vue                 0.018605\n",
       " Rust                0.018605\n",
       " Ruby                0.013953\n",
       " Kotlin              0.013953\n",
       " CSS                 0.013953\n",
       " Jupyter Notebook    0.009302\n",
       " Clojure             0.009302\n",
       " Objective-C         0.009302\n",
       " Dart                0.009302\n",
       " Emacs Lisp          0.004651\n",
       " Haskell             0.004651\n",
       " TeX                 0.004651\n",
       " C#                  0.004651\n",
       " OCaml               0.004651\n",
       " Assembly            0.004651\n",
       " Name: language, dtype: float64)"
      ]
     },
     "execution_count": 11,
     "metadata": {},
     "output_type": "execute_result"
    }
   ],
   "source": [
    "df.language.value_counts(), df.language.value_counts(normalize=True)"
   ]
  },
  {
   "cell_type": "code",
   "execution_count": null,
   "metadata": {},
   "outputs": [],
   "source": []
  },
  {
   "cell_type": "code",
   "execution_count": 21,
   "metadata": {},
   "outputs": [],
   "source": [
    "#drop the none data frames\n",
    "df = df[(~df.readme_contents.str.contains(\"<p \")) & (~df.readme_contents.str.contains(\"<div \"))].dropna()"
   ]
  },
  {
   "cell_type": "markdown",
   "metadata": {},
   "source": [
    "## Distro of Data"
   ]
  },
  {
   "cell_type": "code",
   "execution_count": 22,
   "metadata": {},
   "outputs": [
    {
     "data": {
      "text/html": [
       "<div>\n",
       "<style scoped>\n",
       "    .dataframe tbody tr th:only-of-type {\n",
       "        vertical-align: middle;\n",
       "    }\n",
       "\n",
       "    .dataframe tbody tr th {\n",
       "        vertical-align: top;\n",
       "    }\n",
       "\n",
       "    .dataframe thead th {\n",
       "        text-align: right;\n",
       "    }\n",
       "</style>\n",
       "<table border=\"1\" class=\"dataframe\">\n",
       "  <thead>\n",
       "    <tr style=\"text-align: right;\">\n",
       "      <th></th>\n",
       "      <th>n</th>\n",
       "      <th>percent</th>\n",
       "    </tr>\n",
       "  </thead>\n",
       "  <tbody>\n",
       "    <tr>\n",
       "      <th>JavaScript</th>\n",
       "      <td>45</td>\n",
       "      <td>0.292208</td>\n",
       "    </tr>\n",
       "    <tr>\n",
       "      <th>Python</th>\n",
       "      <td>21</td>\n",
       "      <td>0.136364</td>\n",
       "    </tr>\n",
       "    <tr>\n",
       "      <th>Java</th>\n",
       "      <td>17</td>\n",
       "      <td>0.110390</td>\n",
       "    </tr>\n",
       "    <tr>\n",
       "      <th>Go</th>\n",
       "      <td>11</td>\n",
       "      <td>0.071429</td>\n",
       "    </tr>\n",
       "    <tr>\n",
       "      <th>C++</th>\n",
       "      <td>11</td>\n",
       "      <td>0.071429</td>\n",
       "    </tr>\n",
       "    <tr>\n",
       "      <th>TypeScript</th>\n",
       "      <td>10</td>\n",
       "      <td>0.064935</td>\n",
       "    </tr>\n",
       "    <tr>\n",
       "      <th>C</th>\n",
       "      <td>6</td>\n",
       "      <td>0.038961</td>\n",
       "    </tr>\n",
       "    <tr>\n",
       "      <th>HTML</th>\n",
       "      <td>4</td>\n",
       "      <td>0.025974</td>\n",
       "    </tr>\n",
       "    <tr>\n",
       "      <th>Ruby</th>\n",
       "      <td>3</td>\n",
       "      <td>0.019481</td>\n",
       "    </tr>\n",
       "    <tr>\n",
       "      <th>Rust</th>\n",
       "      <td>3</td>\n",
       "      <td>0.019481</td>\n",
       "    </tr>\n",
       "    <tr>\n",
       "      <th>Kotlin</th>\n",
       "      <td>3</td>\n",
       "      <td>0.019481</td>\n",
       "    </tr>\n",
       "    <tr>\n",
       "      <th>CSS</th>\n",
       "      <td>3</td>\n",
       "      <td>0.019481</td>\n",
       "    </tr>\n",
       "    <tr>\n",
       "      <th>Jupyter Notebook</th>\n",
       "      <td>2</td>\n",
       "      <td>0.012987</td>\n",
       "    </tr>\n",
       "    <tr>\n",
       "      <th>PHP</th>\n",
       "      <td>2</td>\n",
       "      <td>0.012987</td>\n",
       "    </tr>\n",
       "    <tr>\n",
       "      <th>Clojure</th>\n",
       "      <td>2</td>\n",
       "      <td>0.012987</td>\n",
       "    </tr>\n",
       "    <tr>\n",
       "      <th>Swift</th>\n",
       "      <td>2</td>\n",
       "      <td>0.012987</td>\n",
       "    </tr>\n",
       "    <tr>\n",
       "      <th>Shell</th>\n",
       "      <td>2</td>\n",
       "      <td>0.012987</td>\n",
       "    </tr>\n",
       "    <tr>\n",
       "      <th>Haskell</th>\n",
       "      <td>1</td>\n",
       "      <td>0.006494</td>\n",
       "    </tr>\n",
       "    <tr>\n",
       "      <th>TeX</th>\n",
       "      <td>1</td>\n",
       "      <td>0.006494</td>\n",
       "    </tr>\n",
       "    <tr>\n",
       "      <th>Objective-C</th>\n",
       "      <td>1</td>\n",
       "      <td>0.006494</td>\n",
       "    </tr>\n",
       "    <tr>\n",
       "      <th>C#</th>\n",
       "      <td>1</td>\n",
       "      <td>0.006494</td>\n",
       "    </tr>\n",
       "    <tr>\n",
       "      <th>Dart</th>\n",
       "      <td>1</td>\n",
       "      <td>0.006494</td>\n",
       "    </tr>\n",
       "    <tr>\n",
       "      <th>OCaml</th>\n",
       "      <td>1</td>\n",
       "      <td>0.006494</td>\n",
       "    </tr>\n",
       "    <tr>\n",
       "      <th>Vue</th>\n",
       "      <td>1</td>\n",
       "      <td>0.006494</td>\n",
       "    </tr>\n",
       "  </tbody>\n",
       "</table>\n",
       "</div>"
      ],
      "text/plain": [
       "                   n   percent\n",
       "JavaScript        45  0.292208\n",
       "Python            21  0.136364\n",
       "Java              17  0.110390\n",
       "Go                11  0.071429\n",
       "C++               11  0.071429\n",
       "TypeScript        10  0.064935\n",
       "C                  6  0.038961\n",
       "HTML               4  0.025974\n",
       "Ruby               3  0.019481\n",
       "Rust               3  0.019481\n",
       "Kotlin             3  0.019481\n",
       "CSS                3  0.019481\n",
       "Jupyter Notebook   2  0.012987\n",
       "PHP                2  0.012987\n",
       "Clojure            2  0.012987\n",
       "Swift              2  0.012987\n",
       "Shell              2  0.012987\n",
       "Haskell            1  0.006494\n",
       "TeX                1  0.006494\n",
       "Objective-C        1  0.006494\n",
       "C#                 1  0.006494\n",
       "Dart               1  0.006494\n",
       "OCaml              1  0.006494\n",
       "Vue                1  0.006494"
      ]
     },
     "execution_count": 22,
     "metadata": {},
     "output_type": "execute_result"
    }
   ],
   "source": [
    "# Quick dataframe to view the distribution of languages\n",
    "pd.concat(\n",
    "    [df.language.value_counts(), df.language.value_counts(normalize=True)], axis=1\n",
    "    ).set_axis(['n', 'percent'], axis=1, inplace=False)"
   ]
  },
  {
   "cell_type": "code",
   "execution_count": 83,
   "metadata": {},
   "outputs": [
    {
     "data": {
      "text/html": [
       "<div>\n",
       "<style scoped>\n",
       "    .dataframe tbody tr th:only-of-type {\n",
       "        vertical-align: middle;\n",
       "    }\n",
       "\n",
       "    .dataframe tbody tr th {\n",
       "        vertical-align: top;\n",
       "    }\n",
       "\n",
       "    .dataframe thead th {\n",
       "        text-align: right;\n",
       "    }\n",
       "</style>\n",
       "<table border=\"1\" class=\"dataframe\">\n",
       "  <thead>\n",
       "    <tr style=\"text-align: right;\">\n",
       "      <th></th>\n",
       "      <th>language</th>\n",
       "    </tr>\n",
       "  </thead>\n",
       "  <tbody>\n",
       "    <tr>\n",
       "      <th>JavaScript</th>\n",
       "      <td>45</td>\n",
       "    </tr>\n",
       "    <tr>\n",
       "      <th>Python</th>\n",
       "      <td>21</td>\n",
       "    </tr>\n",
       "    <tr>\n",
       "      <th>Java</th>\n",
       "      <td>17</td>\n",
       "    </tr>\n",
       "    <tr>\n",
       "      <th>Go</th>\n",
       "      <td>11</td>\n",
       "    </tr>\n",
       "    <tr>\n",
       "      <th>C++</th>\n",
       "      <td>11</td>\n",
       "    </tr>\n",
       "  </tbody>\n",
       "</table>\n",
       "</div>"
      ],
      "text/plain": [
       "            language\n",
       "JavaScript        45\n",
       "Python            21\n",
       "Java              17\n",
       "Go                11\n",
       "C++               11"
      ]
     },
     "execution_count": 83,
     "metadata": {},
     "output_type": "execute_result"
    }
   ],
   "source": [
    "value_counts = pd.DataFrame(df.language.value_counts(ascending=False))\n",
    "value_counts[:5]"
   ]
  },
  {
   "cell_type": "code",
   "execution_count": 26,
   "metadata": {},
   "outputs": [
    {
     "data": {
      "image/png": "[encoded data removed]",
      "text/plain": [
       "<Figure size 720x504 with 1 Axes>"
      ]
     },
     "metadata": {
      "needs_background": "light"
     },
     "output_type": "display_data"
    }
   ],
   "source": [
    "plt.figure(figsize=(10,7))\n",
    "bar = sns.barplot(x=value_counts.index, y=\"language\", data=value_counts)\n",
    "bar.set_xticklabels(bar.get_xticklabels(),rotation=65)\n",
    "bar.set_ylabel(\"counts\")\n",
    "\n",
    "plt.title(\"How is the data distributed per document?\")\n",
    "plt.show()"
   ]
  },
  {
   "cell_type": "markdown",
   "metadata": {},
   "source": [
    "Question 1: Does the length of the README vary by programming language?"
   ]
  },
  {
   "cell_type": "code",
   "execution_count": 29,
   "metadata": {},
   "outputs": [],
   "source": [
    "#look at the lengths per readme so we can compare by language\n",
    "df_length = df.assign(length = df.clean_lemmatized.apply(len))"
   ]
  },
  {
   "cell_type": "code",
   "execution_count": 33,
   "metadata": {},
   "outputs": [
    {
     "data": {
      "image/png": "[encoded data removed]",
      "text/plain": [
       "<Figure size 936x720 with 1 Axes>"
      ]
     },
     "metadata": {
      "needs_background": "light"
     },
     "output_type": "display_data"
    }
   ],
   "source": [
    "plt.figure(figsize=(13,10))\n",
    "ax = plt.subplot(111)\n",
    "\n",
    "plt.title(\"What are the lengths of readme files per programming language?\")\n",
    "sns.scatterplot(y=df_length.length, x=df_length.index,hue=df_length.language)\n",
    "\n",
    "ax.legend(loc='upper center', bbox_to_anchor=(0.5, -0.1), shadow=True, ncol=2)\n",
    "plt.show()"
   ]
  },
  {
   "cell_type": "markdown",
   "metadata": {},
   "source": [
    "Takeaways\n",
    "- It looks like most readmes have under 25k characters\n",
    "- Pyhton and Swift seem to have a few outliers"
   ]
  },
  {
   "cell_type": "markdown",
   "metadata": {},
   "source": [
    "### Lets take a look at the medians, min, and max"
   ]
  },
  {
   "cell_type": "code",
   "execution_count": 74,
   "metadata": {},
   "outputs": [],
   "source": [
    "median_lengths = df_length.groupby(\"language\").median().sort_values(by=\"length\", ascending= False)\n",
    "max_length = pd.DataFrame(df_length.groupby(\"language\").length.max().sort_values(ascending= False))\n",
    "min_length = pd.DataFrame(df_length.groupby(\"language\").length.min().sort_values(ascending= False))"
   ]
  },
  {
   "cell_type": "code",
   "execution_count": 72,
   "metadata": {},
   "outputs": [
    {
     "data": {
      "image/png": "[encoded data removed]",
      "text/plain": [
       "<Figure size 936x720 with 1 Axes>"
      ]
     },
     "metadata": {
      "needs_background": "light"
     },
     "output_type": "display_data"
    }
   ],
   "source": [
    "plt.figure(figsize=(13,10))\n",
    "plt.title(\"What is the median length of readme files per language?\")\n",
    "bar = sns.barplot(y=median_lengths.length,x=median_lengths.index)\n",
    "\n",
    "bar.set_xticklabels(bar.get_xticklabels(),rotation=65)\n",
    "plt.show()"
   ]
  },
  {
   "cell_type": "markdown",
   "metadata": {},
   "source": [
    "Takeaways:\n",
    "- Swift has the highest median but this is most likely because of the outlier we found in the scatterplot"
   ]
  },
  {
   "cell_type": "code",
   "execution_count": 77,
   "metadata": {},
   "outputs": [
    {
     "data": {
      "image/png": "[encoded data removed]",
      "text/plain": [
       "<Figure size 936x720 with 1 Axes>"
      ]
     },
     "metadata": {
      "needs_background": "light"
     },
     "output_type": "display_data"
    }
   ],
   "source": [
    "plt.figure(figsize=(13,10))\n",
    "plt.title(\"What is the minimum length of readme files per language?\")\n",
    "bar = sns.barplot(y=min_length.length,x=min_length.index)\n",
    "\n",
    "bar.set_xticklabels(bar.get_xticklabels(),rotation=65)\n",
    "plt.show()"
   ]
  },
  {
   "cell_type": "markdown",
   "metadata": {},
   "source": [
    "Takeaways:\n",
    "- Haskell has the highest min lenght of readmes and Pyhton, JavaScript and C++ have the lowest."
   ]
  },
  {
   "cell_type": "code",
   "execution_count": 78,
   "metadata": {},
   "outputs": [
    {
     "data": {
      "image/png": "[encoded data removed]",
      "text/plain": [
       "<Figure size 936x720 with 1 Axes>"
      ]
     },
     "metadata": {
      "needs_background": "light"
     },
     "output_type": "display_data"
    }
   ],
   "source": [
    "plt.figure(figsize=(13,10))\n",
    "plt.title(\"What is the maximum length of readme files per language?\")\n",
    "bar = sns.barplot(y=max_length.length,x=max_length.index)\n",
    "\n",
    "bar.set_xticklabels(bar.get_xticklabels(),rotation=65)\n",
    "plt.show()"
   ]
  },
  {
   "cell_type": "markdown",
   "metadata": {},
   "source": [
    "Takeaways:\n",
    "- Again here we see that swift is leading the pack with the max length"
   ]
  },
  {
   "cell_type": "markdown",
   "metadata": {},
   "source": [
    "Question: Do different programming languages use a different number of unique words?"
   ]
  },
  {
   "cell_type": "code",
   "execution_count": 86,
   "metadata": {},
   "outputs": [
    {
     "data": {
      "text/html": [
       "<div>\n",
       "<style scoped>\n",
       "    .dataframe tbody tr th:only-of-type {\n",
       "        vertical-align: middle;\n",
       "    }\n",
       "\n",
       "    .dataframe tbody tr th {\n",
       "        vertical-align: top;\n",
       "    }\n",
       "\n",
       "    .dataframe thead th {\n",
       "        text-align: right;\n",
       "    }\n",
       "</style>\n",
       "<table border=\"1\" class=\"dataframe\">\n",
       "  <thead>\n",
       "    <tr style=\"text-align: right;\">\n",
       "      <th></th>\n",
       "      <th>language</th>\n",
       "    </tr>\n",
       "  </thead>\n",
       "  <tbody>\n",
       "    <tr>\n",
       "      <th>JavaScript</th>\n",
       "      <td>45</td>\n",
       "    </tr>\n",
       "    <tr>\n",
       "      <th>Python</th>\n",
       "      <td>21</td>\n",
       "    </tr>\n",
       "    <tr>\n",
       "      <th>Java</th>\n",
       "      <td>17</td>\n",
       "    </tr>\n",
       "    <tr>\n",
       "      <th>Go</th>\n",
       "      <td>11</td>\n",
       "    </tr>\n",
       "    <tr>\n",
       "      <th>C++</th>\n",
       "      <td>11</td>\n",
       "    </tr>\n",
       "  </tbody>\n",
       "</table>\n",
       "</div>"
      ],
      "text/plain": [
       "            language\n",
       "JavaScript        45\n",
       "Python            21\n",
       "Java              17\n",
       "Go                11\n",
       "C++               11"
      ]
     },
     "execution_count": 86,
     "metadata": {},
     "output_type": "execute_result"
    }
   ],
   "source": [
    "#Our top five languages\n",
    "value_counts[:5]"
   ]
  },
  {
   "cell_type": "code",
   "execution_count": 120,
   "metadata": {},
   "outputs": [],
   "source": [
    "small_df = df[[\"language\", \"readme_contents\"]]"
   ]
  },
  {
   "cell_type": "code",
   "execution_count": 123,
   "metadata": {},
   "outputs": [],
   "source": [
    "def clean(text):\n",
    "    'A simple function to cleanup text data'\n",
    "    wnl = nltk.stem.WordNetLemmatizer()\n",
    "    stopwords = nltk.corpus.stopwords.words('english')\n",
    "    text = (text.encode('ascii', 'ignore')\n",
    "             .decode('utf-8', 'ignore')\n",
    "             .lower())\n",
    "    words = re.sub(r'[^\\w\\s]', '', text).split() # tokenization\n",
    "    return [wnl.lemmatize(word) for word in words if word not in stopwords]"
   ]
  },
  {
   "cell_type": "code",
   "execution_count": 125,
   "metadata": {},
   "outputs": [],
   "source": [
    "all_words = clean(\" \".join(small_df.readme_contents))\n",
    "javascript_words = clean(\" \".join(small_df[small_df.language == \"JavaScript\"].readme_contents))\n",
    "pyhton_words = clean(\" \".join(small_df[small_df.language == \"Python\"].readme_contents))\n",
    "java_words = clean(\" \".join(small_df[small_df.language == \"Java\"].readme_contents))\n",
    "go_words = clean(\" \".join(small_df[small_df.language == \"Go\"].readme_contents))\n",
    "cplus_words = clean(\" \".join(small_df[small_df.language == \"C++\"].readme_contents))"
   ]
  },
  {
   "cell_type": "code",
   "execution_count": 128,
   "metadata": {},
   "outputs": [],
   "source": [
    "plt.rc('figure', figsize=(13, 7))\n",
    "plt.rc('font', size=14)"
   ]
  },
  {
   "cell_type": "code",
   "execution_count": 155,
   "metadata": {},
   "outputs": [
    {
     "data": {
      "text/plain": [
       "9835"
      ]
     },
     "execution_count": 155,
     "metadata": {},
     "output_type": "execute_result"
    }
   ],
   "source": [
    "pd.Series(javascript_words).nunique()"
   ]
  },
  {
   "cell_type": "code",
   "execution_count": 157,
   "metadata": {},
   "outputs": [
    {
     "data": {
      "text/plain": [
       "10870"
      ]
     },
     "execution_count": 157,
     "metadata": {},
     "output_type": "execute_result"
    }
   ],
   "source": [
    "pd.Series(pyhton_words).nunique()"
   ]
  },
  {
   "cell_type": "code",
   "execution_count": 158,
   "metadata": {},
   "outputs": [
    {
     "data": {
      "text/plain": [
       "6657"
      ]
     },
     "execution_count": 158,
     "metadata": {},
     "output_type": "execute_result"
    }
   ],
   "source": [
    "pd.Series(java_words).nunique()"
   ]
  },
  {
   "cell_type": "code",
   "execution_count": 159,
   "metadata": {},
   "outputs": [
    {
     "data": {
      "text/plain": [
       "6546"
      ]
     },
     "execution_count": 159,
     "metadata": {},
     "output_type": "execute_result"
    }
   ],
   "source": [
    "pd.Series(go_words).nunique()"
   ]
  },
  {
   "cell_type": "code",
   "execution_count": 161,
   "metadata": {},
   "outputs": [
    {
     "data": {
      "text/plain": [
       "2130"
      ]
     },
     "execution_count": 161,
     "metadata": {},
     "output_type": "execute_result"
    }
   ],
   "source": [
    "pd.Series(cplus_words).nunique()"
   ]
  },
  {
   "cell_type": "markdown",
   "metadata": {},
   "source": [
    "Takeaways:\n",
    "- looks like Pyhton uses the most number of unique words"
   ]
  },
  {
   "cell_type": "code",
   "execution_count": null,
   "metadata": {},
   "outputs": [],
   "source": []
  }
 ],
 "metadata": {
  "kernelspec": {
   "display_name": "Python 3",
   "language": "python",
   "name": "python3"
  },
  "language_info": {
   "codemirror_mode": {
    "name": "ipython",
    "version": 3
   },
   "file_extension": ".py",
   "mimetype": "text/x-python",
   "name": "python",
   "nbconvert_exporter": "python",
   "pygments_lexer": "ipython3",
   "version": "3.7.4"
  }
 },
 "nbformat": 4,
 "nbformat_minor": 4
}
