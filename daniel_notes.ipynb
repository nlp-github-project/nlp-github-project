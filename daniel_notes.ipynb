{
 "cells": [
  {
   "cell_type": "markdown",
   "metadata": {},
   "source": [
    "# NLP Project"
   ]
  },
  {
   "cell_type": "markdown",
   "metadata": {},
   "source": [
    "# Objective\n",
    "\n",
    "To predict the language that the "
   ]
  },
  {
   "cell_type": "code",
   "execution_count": 1,
   "metadata": {},
   "outputs": [],
   "source": [
    "import pandas as pd\n",
    "import numpy as np\n",
    "\n",
    "from requests import get\n",
    "from bs4 import BeautifulSoup\n",
    "import os\n",
    "\n",
    "import seaborn as sns\n",
    "import matplotlib.pyplot as plt\n",
    "\n",
    "import prepare\n",
    "\n",
    "import matplotlib.pyplot as plt\n",
    "import seaborn as sns\n",
    "import pandas as pd\n",
    "import nltk\n",
    "import nltk.sentiment\n",
    "import re\n",
    "\n",
    "import time\n",
    "\n"
   ]
  },
  {
   "cell_type": "code",
   "execution_count": 2,
   "metadata": {},
   "outputs": [],
   "source": [
    "df = pd.read_json(\"data.json\")"
   ]
  },
  {
   "cell_type": "code",
   "execution_count": 3,
   "metadata": {
    "scrolled": false
   },
   "outputs": [
    {
     "data": {
      "text/plain": [
       "JavaScript          103\n",
       "Python               43\n",
       "Go                   26\n",
       "Java                 25\n",
       "C++                  20\n",
       "TypeScript           19\n",
       "Shell                12\n",
       "Ruby                 11\n",
       "CSS                  11\n",
       "Swift                 9\n",
       "HTML                  9\n",
       "C                     8\n",
       "PHP                   7\n",
       "Jupyter Notebook      5\n",
       "Dart                  3\n",
       "Rust                  3\n",
       "Vue                   3\n",
       "Objective-C           2\n",
       "Kotlin                2\n",
       "TeX                   2\n",
       "OCaml                 1\n",
       "Julia                 1\n",
       "Haskell               1\n",
       "Scala                 1\n",
       "Vim script            1\n",
       "Emacs Lisp            1\n",
       "Dockerfile            1\n",
       "C#                    1\n",
       "Clojure               1\n",
       "Lua                   1\n",
       "Name: language, dtype: int64"
      ]
     },
     "execution_count": 3,
     "metadata": {},
     "output_type": "execute_result"
    }
   ],
   "source": [
    "df.language.value_counts()"
   ]
  },
  {
   "cell_type": "code",
   "execution_count": 4,
   "metadata": {},
   "outputs": [
    {
     "data": {
      "text/plain": [
       "51"
      ]
     },
     "execution_count": 4,
     "metadata": {},
     "output_type": "execute_result"
    }
   ],
   "source": [
    "(df.language.isnull()).sum()"
   ]
  },
  {
   "cell_type": "markdown",
   "metadata": {},
   "source": [
    "# Acquire\n",
    "\n",
    "Thanks to Zach, we already have the main function to acquire the data. The script runs through a list of repo's, and creates a new json file with the name of the repo, the programing language used, and the readme_contents."
   ]
  },
  {
   "cell_type": "code",
   "execution_count": 5,
   "metadata": {},
   "outputs": [
    {
     "data": {
      "text/html": [
       "<div>\n",
       "<style scoped>\n",
       "    .dataframe tbody tr th:only-of-type {\n",
       "        vertical-align: middle;\n",
       "    }\n",
       "\n",
       "    .dataframe tbody tr th {\n",
       "        vertical-align: top;\n",
       "    }\n",
       "\n",
       "    .dataframe thead th {\n",
       "        text-align: right;\n",
       "    }\n",
       "</style>\n",
       "<table border=\"1\" class=\"dataframe\">\n",
       "  <thead>\n",
       "    <tr style=\"text-align: right;\">\n",
       "      <th></th>\n",
       "      <th>repo</th>\n",
       "      <th>language</th>\n",
       "      <th>readme_contents</th>\n",
       "    </tr>\n",
       "  </thead>\n",
       "  <tbody>\n",
       "    <tr>\n",
       "      <th>0</th>\n",
       "      <td>freeCodeCamp/freeCodeCamp</td>\n",
       "      <td>JavaScript</td>\n",
       "      <td>![freeCodeCamp.org Social Banner](https://s3.a...</td>\n",
       "    </tr>\n",
       "    <tr>\n",
       "      <th>1</th>\n",
       "      <td>996icu/996.ICU</td>\n",
       "      <td>Rust</td>\n",
       "      <td>[996.ICU](https://996.icu/#/en_US)\\n=======\\n*...</td>\n",
       "    </tr>\n",
       "    <tr>\n",
       "      <th>2</th>\n",
       "      <td>vuejs/vue</td>\n",
       "      <td>JavaScript</td>\n",
       "      <td>&lt;p align=\"center\"&gt;&lt;a href=\"https://vuejs.org\" ...</td>\n",
       "    </tr>\n",
       "    <tr>\n",
       "      <th>3</th>\n",
       "      <td>EbookFoundation/free-programming-books</td>\n",
       "      <td>None</td>\n",
       "      <td>This page is available as an easy-to-read webs...</td>\n",
       "    </tr>\n",
       "    <tr>\n",
       "      <th>4</th>\n",
       "      <td>facebook/react</td>\n",
       "      <td>JavaScript</td>\n",
       "      <td># [React](https://reactjs.org/) &amp;middot; [![Gi...</td>\n",
       "    </tr>\n",
       "  </tbody>\n",
       "</table>\n",
       "</div>"
      ],
      "text/plain": [
       "                                     repo    language  \\\n",
       "0               freeCodeCamp/freeCodeCamp  JavaScript   \n",
       "1                          996icu/996.ICU        Rust   \n",
       "2                               vuejs/vue  JavaScript   \n",
       "3  EbookFoundation/free-programming-books        None   \n",
       "4                          facebook/react  JavaScript   \n",
       "\n",
       "                                     readme_contents  \n",
       "0  ![freeCodeCamp.org Social Banner](https://s3.a...  \n",
       "1  [996.ICU](https://996.icu/#/en_US)\\n=======\\n*...  \n",
       "2  <p align=\"center\"><a href=\"https://vuejs.org\" ...  \n",
       "3  This page is available as an easy-to-read webs...  \n",
       "4  # [React](https://reactjs.org/) &middot; [![Gi...  "
      ]
     },
     "execution_count": 5,
     "metadata": {},
     "output_type": "execute_result"
    }
   ],
   "source": [
    "df.head()"
   ]
  },
  {
   "cell_type": "markdown",
   "metadata": {},
   "source": [
    "Now, we need to build a webscrapping function that can help us get more repo names, so we can run the script, and get their information. Our goal is to get 300 README's."
   ]
  },
  {
   "cell_type": "code",
   "execution_count": 6,
   "metadata": {},
   "outputs": [],
   "source": [
    "url = 'https://github.com/search?q=stars%3A%3E0&s=stars&type=Repositories'\n",
    "headers = {'User-Agent': 'Codeup Bayes Data Science'} # codeup.com doesn't like our default user-agent\n",
    "response = get(url, headers=headers)"
   ]
  },
  {
   "cell_type": "code",
   "execution_count": 7,
   "metadata": {},
   "outputs": [],
   "source": [
    "soup = BeautifulSoup(response.content, 'html.parser')"
   ]
  },
  {
   "cell_type": "code",
   "execution_count": 8,
   "metadata": {},
   "outputs": [],
   "source": [
    "article = soup.find_all('a', class_='v-align-middle')"
   ]
  },
  {
   "cell_type": "code",
   "execution_count": 9,
   "metadata": {
    "scrolled": true
   },
   "outputs": [],
   "source": [
    "# article"
   ]
  },
  {
   "cell_type": "code",
   "execution_count": 10,
   "metadata": {
    "scrolled": false
   },
   "outputs": [
    {
     "data": {
      "text/plain": [
       "'freeCodeCamp/freeCodeCamp'"
      ]
     },
     "execution_count": 10,
     "metadata": {},
     "output_type": "execute_result"
    }
   ],
   "source": [
    "article[0][\"href\"].replace(\"/\", '', 1)"
   ]
  },
  {
   "cell_type": "markdown",
   "metadata": {},
   "source": [
    "## Web Scrapping Function"
   ]
  },
  {
   "cell_type": "code",
   "execution_count": 11,
   "metadata": {},
   "outputs": [],
   "source": [
    "# repo_names = []\n",
    "\n",
    "# # Loop to get repo names\n",
    "# for page_number in range(1,80):\n",
    "#     url = f\"https://github.com/search?p={page_number}&q=stars%3A%3E0&s=stars&type=Repositories\"\n",
    "#     headers = {'User-Agent': 'Codeup Bayes Data Science'}\n",
    "#     response = get(url, headers=headers)\n",
    "#     soup = BeautifulSoup(response.content, 'html.parser')\n",
    "#     repos = soup.find_all('a', class_='v-align-middle')\n",
    "#     time.sleep(20)\n",
    "\n",
    "    \n",
    "#     for repo_number in range(len(repos)):\n",
    "#         repo_name = repos[repo_number][\"href\"].replace(\"/\", '', 1)\n",
    "#         repo_names.append(repo_name)\n"
   ]
  },
  {
   "cell_type": "code",
   "execution_count": 12,
   "metadata": {},
   "outputs": [],
   "source": [
    "# s = pd.DataFrame(repo_names, columns=[\"repo_name\"])\n",
    "\n",
    "# s.to_csv(\"repo_names.csv\")\n",
    "\n",
    "# # Update existing csv file with most up to date list\n",
    "# s = pd.DataFrame(repo_names, columns=[\"repo_name\"])\n",
    "# s.to_csv(\"repo_names.csv\", mode='a', header=True)\n",
    "# repo_test = pd.read_csv(\"repo_names.csv\")\n",
    "# repo_list = repo_test.repo_name.fillna(repo_test[\"0\"])\n",
    "# repo_list.to_csv(\"repo_names.csv\")"
   ]
  },
  {
   "cell_type": "code",
   "execution_count": 13,
   "metadata": {},
   "outputs": [],
   "source": [
    "# repo = s.to_csv(\"repo_names.csv\")"
   ]
  },
  {
   "cell_type": "code",
   "execution_count": 14,
   "metadata": {},
   "outputs": [],
   "source": [
    "# repo = pd.read_csv(\"repo_names.csv\")"
   ]
  },
  {
   "cell_type": "code",
   "execution_count": 15,
   "metadata": {},
   "outputs": [],
   "source": [
    "# REPOS = repo.repo_name.to_list()\n",
    "# REPOS"
   ]
  },
  {
   "cell_type": "markdown",
   "metadata": {},
   "source": [
    "# Prepare"
   ]
  },
  {
   "cell_type": "code",
   "execution_count": 16,
   "metadata": {},
   "outputs": [],
   "source": [
    "df = prepare.prep_readme_data(df)"
   ]
  },
  {
   "cell_type": "code",
   "execution_count": 17,
   "metadata": {},
   "outputs": [],
   "source": [
    "df = prepare.prepare_data(df)"
   ]
  },
  {
   "cell_type": "markdown",
   "metadata": {},
   "source": [
    "# Explore"
   ]
  },
  {
   "cell_type": "code",
   "execution_count": 18,
   "metadata": {
    "scrolled": false
   },
   "outputs": [
    {
     "data": {
      "text/plain": [
       "Text(0, 0.5, 'Programming Language')"
      ]
     },
     "execution_count": 18,
     "metadata": {},
     "output_type": "execute_result"
    },
    {
     "data": {
      "image/png": "[encoded data removed]",
      "text/plain": [
       "<Figure size 1368x720 with 1 Axes>"
      ]
     },
     "metadata": {
      "needs_background": "light"
     },
     "output_type": "display_data"
    }
   ],
   "source": [
    "df.language.value_counts().sort_values(ascending=True).plot.barh(figsize=(19,10))\n",
    "plt.title(\"Number of languages in the dataframe\")\n",
    "plt.xlabel(\"Frequency\")\n",
    "plt.ylabel(\"Programming Language\")"
   ]
  },
  {
   "cell_type": "markdown",
   "metadata": {},
   "source": [
    "## What are the most common words in READMEs?"
   ]
  },
  {
   "cell_type": "code",
   "execution_count": 19,
   "metadata": {},
   "outputs": [],
   "source": [
    "def most_frequent_word(s: pd.Series) -> str:\n",
    "    # your code might be more or less complicated here, depending on how much\n",
    "    # text prep you've already done or more you want to do in this function\n",
    "    words = clean(' '.join(s))\n",
    "    most_common_word = pd.Series(words).value_counts().head(1).index\n",
    "    return most_common_word"
   ]
  },
  {
   "cell_type": "code",
   "execution_count": 20,
   "metadata": {},
   "outputs": [],
   "source": [
    "ADDITIONAL_STOPWORDS = ['r', 'u', '2', 'ltgt']\n",
    "\n",
    "def clean(text: str) -> list:\n",
    "    'A simple function to cleanup text data'\n",
    "    wnl = nltk.stem.WordNetLemmatizer()\n",
    "    stopwords = nltk.corpus.stopwords.words('english') + ADDITIONAL_STOPWORDS\n",
    "    text = (text.encode('ascii', 'ignore')\n",
    "             .decode('utf-8', 'ignore')\n",
    "             .lower())\n",
    "    words = re.sub(r'[^\\w\\s]', '', text).split() # tokenization\n",
    "    return [wnl.lemmatize(word) for word in words if word not in stopwords]"
   ]
  },
  {
   "cell_type": "code",
   "execution_count": 21,
   "metadata": {},
   "outputs": [
    {
     "data": {
      "text/html": [
       "<div>\n",
       "<style scoped>\n",
       "    .dataframe tbody tr th:only-of-type {\n",
       "        vertical-align: middle;\n",
       "    }\n",
       "\n",
       "    .dataframe tbody tr th {\n",
       "        vertical-align: top;\n",
       "    }\n",
       "\n",
       "    .dataframe thead th {\n",
       "        text-align: right;\n",
       "    }\n",
       "</style>\n",
       "<table border=\"1\" class=\"dataframe\">\n",
       "  <thead>\n",
       "    <tr style=\"text-align: right;\">\n",
       "      <th></th>\n",
       "      <th>count</th>\n",
       "      <th>most_frequent_word</th>\n",
       "    </tr>\n",
       "    <tr>\n",
       "      <th>is_top_language</th>\n",
       "      <th></th>\n",
       "      <th></th>\n",
       "    </tr>\n",
       "  </thead>\n",
       "  <tbody>\n",
       "    <tr>\n",
       "      <th>C++</th>\n",
       "      <td>17</td>\n",
       "      <td>json</td>\n",
       "    </tr>\n",
       "    <tr>\n",
       "      <th>Java</th>\n",
       "      <td>22</td>\n",
       "      <td>java</td>\n",
       "    </tr>\n",
       "    <tr>\n",
       "      <th>JavaScript</th>\n",
       "      <td>59</td>\n",
       "      <td>source</td>\n",
       "    </tr>\n",
       "    <tr>\n",
       "      <th>Python</th>\n",
       "      <td>28</td>\n",
       "      <td>python</td>\n",
       "    </tr>\n",
       "    <tr>\n",
       "      <th>other</th>\n",
       "      <td>110</td>\n",
       "      <td>9</td>\n",
       "    </tr>\n",
       "  </tbody>\n",
       "</table>\n",
       "</div>"
      ],
      "text/plain": [
       "                 count most_frequent_word\n",
       "is_top_language                          \n",
       "C++                 17               json\n",
       "Java                22               java\n",
       "JavaScript          59             source\n",
       "Python              28             python\n",
       "other              110                  9"
      ]
     },
     "execution_count": 21,
     "metadata": {},
     "output_type": "execute_result"
    }
   ],
   "source": [
    "df.groupby(\"is_top_language\").clean_lemmatized.agg([\"count\", most_frequent_word])"
   ]
  },
  {
   "cell_type": "code",
   "execution_count": 22,
   "metadata": {
    "scrolled": true
   },
   "outputs": [],
   "source": [
    "all_words = clean(' '.join(df.clean_lemmatized))\n",
    "python_words = clean(' '.join(df[df.language == 'Python'].clean_lemmatized))\n",
    "javascript_words = clean(' '.join(df[df.language == 'JavaScript'].clean_lemmatized))\n",
    "java_words = clean(' '.join(df[df.language == 'Java'].clean_lemmatized))\n",
    "c_plus_plus_words = clean(' '.join(df[df.language == 'C++'].clean_lemmatized))"
   ]
  },
  {
   "cell_type": "code",
   "execution_count": 23,
   "metadata": {},
   "outputs": [
    {
     "data": {
      "text/plain": [
       "<matplotlib.axes._subplots.AxesSubplot at 0x1314ee150>"
      ]
     },
     "execution_count": 23,
     "metadata": {},
     "output_type": "execute_result"
    },
    {
     "data": {
      "image/png": "[encoded data removed]",
      "text/plain": [
       "<Figure size 432x288 with 1 Axes>"
      ]
     },
     "metadata": {
      "needs_background": "light"
     },
     "output_type": "display_data"
    }
   ],
   "source": [
    "pd.Series(all_words).value_counts().head(12).plot.barh(title='12 most common words in all README')"
   ]
  },
  {
   "cell_type": "code",
   "execution_count": 24,
   "metadata": {},
   "outputs": [],
   "source": [
    "import explore"
   ]
  },
  {
   "cell_type": "code",
   "execution_count": 25,
   "metadata": {},
   "outputs": [
    {
     "data": {
      "image/png": "[encoded data removed]",
      "text/plain": [
       "<Figure size 1368x720 with 6 Axes>"
      ]
     },
     "metadata": {
      "needs_background": "light"
     },
     "output_type": "display_data"
    }
   ],
   "source": [
    "explore.most_common_words(df)"
   ]
  },
  {
   "cell_type": "markdown",
   "metadata": {},
   "source": [
    "## What does the distribution of IDFs look like for the most common words?"
   ]
  },
  {
   "cell_type": "code",
   "execution_count": 26,
   "metadata": {},
   "outputs": [],
   "source": [
    "def idf(word):\n",
    "    return  df.shape[0] / (1 + (df.clean_lemmatized.str.contains(word)).sum())"
   ]
  },
  {
   "cell_type": "code",
   "execution_count": 27,
   "metadata": {
    "scrolled": true
   },
   "outputs": [
    {
     "data": {
      "text/plain": [
       "1.0535714285714286"
      ]
     },
     "execution_count": 27,
     "metadata": {},
     "output_type": "execute_result"
    }
   ],
   "source": [
    "idf(\"github\")"
   ]
  },
  {
   "cell_type": "code",
   "execution_count": 28,
   "metadata": {},
   "outputs": [],
   "source": [
    "test = df.clean_lemmatized.to_dict()"
   ]
  },
  {
   "cell_type": "code",
   "execution_count": 29,
   "metadata": {},
   "outputs": [],
   "source": [
    "new_words = []\n",
    "for word in python_words:\n",
    "    if len(word) < 10:\n",
    "        new_words.append(word)"
   ]
  },
  {
   "cell_type": "code",
   "execution_count": 30,
   "metadata": {},
   "outputs": [
    {
     "data": {
      "text/plain": [
       "True"
      ]
     },
     "execution_count": 30,
     "metadata": {},
     "output_type": "execute_result"
    }
   ],
   "source": [
    "len(python_words[0]) < 10"
   ]
  },
  {
   "cell_type": "code",
   "execution_count": 31,
   "metadata": {
    "scrolled": true
   },
   "outputs": [],
   "source": [
    "# # put the unique words into a data frame\n",
    "# idf_df = (pd.DataFrame(dict(word=python_words))\n",
    "#  # calculate the idf for each word \n",
    "# .assign(idf=lambda df: df.word.apply(idf))\n",
    "#  # sort the data for presentation purposes\n",
    "# .set_index('word')\n",
    "# .sort_values(by='idf', ascending=False)\n",
    "# .head(5))"
   ]
  },
  {
   "cell_type": "code",
   "execution_count": 32,
   "metadata": {},
   "outputs": [],
   "source": [
    "# idf_df.plot.barh()"
   ]
  },
  {
   "cell_type": "code",
   "execution_count": 33,
   "metadata": {},
   "outputs": [],
   "source": [
    "# languages = df.language.value_counts().head(5).index\n",
    "# idf_scores = pd.DataFrame()\n",
    "\n",
    "# for language in languages:\n",
    "#     words = clean(' '.join(df[df.language == language].clean_lemmatized))\n",
    "#     # put the unique words into a data frame\n",
    "#     idf_df = (pd.DataFrame(dict(word=words))\n",
    "#      # calculate the idf for each word \n",
    "#     .assign(idf=lambda df: df.word.apply(idf))\n",
    "#      # sort the data for presentation purposes\n",
    "#     .set_index('word')\n",
    "#     .sort_values(by='idf', ascending=False)\n",
    "#     .head(5))\n",
    "#     idf_df[\"language\"] = language\n",
    "             \n",
    "#     idf_scores = pd.concat([idf_df, idf_scores])\n",
    "             "
   ]
  },
  {
   "cell_type": "code",
   "execution_count": 34,
   "metadata": {},
   "outputs": [],
   "source": [
    "# idf_scores"
   ]
  },
  {
   "cell_type": "code",
   "execution_count": 35,
   "metadata": {
    "scrolled": true
   },
   "outputs": [],
   "source": [
    "# f = plt.figure(figsize=(25,20))\n",
    "\n",
    "# for count, language in enumerate(languages):\n",
    "\n",
    "#     f.add_subplot(5,5, count+1)\n",
    "#     sns.barplot(data=idf_scores[idf_scores.language == language], y=idf_scores[idf_scores.language == language].index, x=\"idf\")\n",
    "#     plt.title(f\"IDF for {language}\")\n",
    "# plt.tight_layout()\n",
    "# plt.show()"
   ]
  },
  {
   "cell_type": "markdown",
   "metadata": {},
   "source": [
    "We can see that there might be some problems with the tokenizer, which is leading to some words not being spaced out, as a result, characters are being clump together to create extra longs words, or words with no meaning. I sugest we perhaps don't use this for modeling."
   ]
  },
  {
   "cell_type": "markdown",
   "metadata": {},
   "source": [
    "# Is there a difference in the mean number of words by language?\n",
    "\n",
    "* $H_0$: There is no significant difference between the mean word count of each language when compared with the mean word count of the group.\n",
    "* $H_a$: There is a significant difference between the mean word count of each language when compared with the mean word count of the group.\n",
    "\n",
    "$\\alpha$ = 0.05"
   ]
  },
  {
   "cell_type": "code",
   "execution_count": 36,
   "metadata": {},
   "outputs": [],
   "source": [
    "from scipy import stats"
   ]
  },
  {
   "cell_type": "code",
   "execution_count": 37,
   "metadata": {},
   "outputs": [
    {
     "data": {
      "image/png": "[encoded data removed]",
      "text/plain": [
       "<Figure size 864x576 with 1 Axes>"
      ]
     },
     "metadata": {
      "needs_background": "light"
     },
     "output_type": "display_data"
    }
   ],
   "source": [
    "explore.plot_word_count_distribution(df)"
   ]
  },
  {
   "cell_type": "markdown",
   "metadata": {},
   "source": [
    "It is clear that the word count is not normally distributed. The count is actually right skewed, meaning that most of the word counts by readme are below the average. There seems that there are several outliers that are skewing the data. As such, we likely won't be able to do an accurate t-test, as that requires that the data is normally distributed. "
   ]
  },
  {
   "cell_type": "code",
   "execution_count": 38,
   "metadata": {
    "scrolled": false
   },
   "outputs": [
    {
     "data": {
      "text/plain": [
       "is_top_language\n",
       "C++            724.823529\n",
       "Java           416.181818\n",
       "JavaScript    1058.542373\n",
       "Python        1884.892857\n",
       "other         1280.227273\n",
       "Name: word_count, dtype: float64"
      ]
     },
     "execution_count": 38,
     "metadata": {},
     "output_type": "execute_result"
    }
   ],
   "source": [
    "mean_word_count = df.groupby(\"is_top_language\").word_count.mean()\n",
    "mean_word_count"
   ]
  },
  {
   "cell_type": "code",
   "execution_count": 39,
   "metadata": {},
   "outputs": [
    {
     "name": "stdout",
     "output_type": "stream",
     "text": [
      " The p value for JavaScript is 0.6940759618043619\n",
      " The p value for other is 0.7687545026299047\n",
      " The p value for Python is 0.14858115511172698\n",
      " The p value for C++ is 0.21670796143582058\n",
      " The p value for Java is 2.036309612553599e-07\n"
     ]
    }
   ],
   "source": [
    "languages = df.is_top_language.unique()\n",
    "for language in languages:\n",
    "    subgroup = df[df.is_top_language == language].word_count\n",
    "    tsat, p = stats.ttest_1samp(subgroup, df.word_count.mean())\n",
    "    print(f\" The p value for {language} is {p}\")"
   ]
  },
  {
   "cell_type": "markdown",
   "metadata": {},
   "source": [
    "As we can see, the only language that has a word count that is significantly different is `C++`. We can see that, on average, `C++` does have a smaller number of word per readme than the rest. However, given that the data is not normally distributed, we can't trust the results too much."
   ]
  },
  {
   "cell_type": "markdown",
   "metadata": {},
   "source": [
    "## Modeling"
   ]
  },
  {
   "cell_type": "code",
   "execution_count": 40,
   "metadata": {},
   "outputs": [],
   "source": [
    "import model\n",
    "\n",
    "from sklearn.feature_extraction.text import CountVectorizer \n",
    "\n",
    "from sklearn.model_selection import train_test_split \n",
    "from sklearn.tree import DecisionTreeClassifier\n",
    "from sklearn.ensemble import RandomForestClassifier"
   ]
  },
  {
   "cell_type": "code",
   "execution_count": 41,
   "metadata": {},
   "outputs": [],
   "source": [
    "X_train, X_validate, X_test, y_train, y_validate, y_test = model.preprocessing(df, \"tf_idf\", \"is_top_language\")\n",
    "predictions = pd.DataFrame({\"actual\": y_train, \"baseline\": y_train.mode()[0]})"
   ]
  },
  {
   "cell_type": "markdown",
   "metadata": {},
   "source": [
    "### Decision Tree"
   ]
  },
  {
   "cell_type": "code",
   "execution_count": 42,
   "metadata": {},
   "outputs": [
    {
     "name": "stdout",
     "output_type": "stream",
     "text": [
      "bag_of_words, score = 0.864406779661017\n",
      "tf_idf, score = 0.847457627118644\n",
      "bag_of_ngrams, score = 0.864406779661017\n"
     ]
    }
   ],
   "source": [
    "data_rep = [\"bag_of_words\", \"tf_idf\", \"bag_of_ngrams\"]\n",
    "\n",
    "for i in data_rep:\n",
    "    if i == \"bag_of_ngrams\":\n",
    "        X_train, X_validate, X_test, y_train, y_validate, y_test = model.preprocessing(df, \"bag_of_ngrams\", \"is_top_language\", ngram_range = (1,2))\n",
    "        clf, y_pred = model.run_clf(X_train, y_train, 5)\n",
    "        score = clf.score(X_train, y_train)\n",
    "        print(f\"{i}, score = {score}\")\n",
    "    else: \n",
    "        \n",
    "        X_train, X_validate, X_test, y_train, y_validate, y_test = model.preprocessing(df, i, \"is_top_language\")\n",
    "        clf, y_pred = model.run_clf(X_train, y_train, 5)\n",
    "        score = clf.score(X_train, y_train)\n",
    "        print(f\"{i}, score = {score}\")\n",
    "    "
   ]
  },
  {
   "cell_type": "code",
   "execution_count": 43,
   "metadata": {
    "scrolled": true
   },
   "outputs": [
    {
     "name": "stdout",
     "output_type": "stream",
     "text": [
      "Max_depth = 1, accuracy_score = 0.56. Diff = 0.13\n",
      "Max_depth = 2, accuracy_score = 0.64. Diff = 0.15\n",
      "Max_depth = 3, accuracy_score = 0.69. Diff = 0.24\n",
      "Max_depth = 4, accuracy_score = 0.79. Diff = 0.24\n",
      "Max_depth = 5, accuracy_score = 0.85. Diff = 0.30\n",
      "Max_depth = 6, accuracy_score = 0.90. Diff = 0.32\n",
      "Max_depth = 7, accuracy_score = 0.94. Diff = 0.35\n",
      "Max_depth = 8, accuracy_score = 0.97. Diff = 0.39\n",
      "Max_depth = 9, accuracy_score = 0.97. Diff = 0.37\n",
      "Max_depth = 10, accuracy_score = 0.98. Diff = 0.39\n",
      "Max_depth = 11, accuracy_score = 0.98. Diff = 0.45\n",
      "Max_depth = 12, accuracy_score = 0.99. Diff = 0.42\n",
      "Max_depth = 13, accuracy_score = 0.99. Diff = 0.39\n",
      "Max_depth = 14, accuracy_score = 1.00. Diff = 0.47\n",
      "Max_depth = 15, accuracy_score = 1.00. Diff = 0.47\n",
      "Max_depth = 16, accuracy_score = 1.00. Diff = 0.47\n",
      "Max_depth = 17, accuracy_score = 1.00. Diff = 0.47\n",
      "Max_depth = 18, accuracy_score = 1.00. Diff = 0.47\n",
      "Max_depth = 19, accuracy_score = 1.00. Diff = 0.47\n"
     ]
    }
   ],
   "source": [
    "X_train, X_validate, X_test, y_train, y_validate, y_test = model.preprocessing(df, \"tf_idf\", \"is_top_language\")\n",
    "for i in range(1, 20):\n",
    "    clf, y_pred = model.run_clf(X_train, y_train, i)\n",
    "    score = clf.score(X_train, y_train)\n",
    "    validate_score = clf.score(X_validate, y_validate)\n",
    "    print(f\"Max_depth = {i}, accuracy_score = {score:.2f}. Diff = {(score - validate_score) / score:.2f}\")"
   ]
  },
  {
   "cell_type": "code",
   "execution_count": 44,
   "metadata": {},
   "outputs": [],
   "source": [
    "X_train, X_validate, X_test, y_train, y_validate, y_test = model.preprocessing(df, \"tf_idf\", \"is_top_language\")\n",
    "clf, y_pred = model.run_clf(X_train, y_train, 5)\n",
    "predictions[\"decision_tree\"] = y_pred"
   ]
  },
  {
   "cell_type": "code",
   "execution_count": 45,
   "metadata": {
    "scrolled": true
   },
   "outputs": [
    {
     "name": "stdout",
     "output_type": "stream",
     "text": [
      "Accuracy on dataset: 0.85\n",
      "            C++  Java  JavaScript  Python  other\n",
      "C++           4     0           0       0      7\n",
      "Java          0    10           0       0      4\n",
      "JavaScript    0     0          45       0      3\n",
      "Python        0     0           0      15      9\n",
      "other         0     0           3       1     76\n"
     ]
    },
    {
     "data": {
      "text/html": [
       "<div>\n",
       "<style scoped>\n",
       "    .dataframe tbody tr th:only-of-type {\n",
       "        vertical-align: middle;\n",
       "    }\n",
       "\n",
       "    .dataframe tbody tr th {\n",
       "        vertical-align: top;\n",
       "    }\n",
       "\n",
       "    .dataframe thead th {\n",
       "        text-align: right;\n",
       "    }\n",
       "</style>\n",
       "<table border=\"1\" class=\"dataframe\">\n",
       "  <thead>\n",
       "    <tr style=\"text-align: right;\">\n",
       "      <th></th>\n",
       "      <th>C++</th>\n",
       "      <th>Java</th>\n",
       "      <th>JavaScript</th>\n",
       "      <th>Python</th>\n",
       "      <th>other</th>\n",
       "      <th>accuracy</th>\n",
       "      <th>macro avg</th>\n",
       "      <th>weighted avg</th>\n",
       "    </tr>\n",
       "  </thead>\n",
       "  <tbody>\n",
       "    <tr>\n",
       "      <th>precision</th>\n",
       "      <td>1.000000</td>\n",
       "      <td>1.000000</td>\n",
       "      <td>0.9375</td>\n",
       "      <td>0.9375</td>\n",
       "      <td>0.767677</td>\n",
       "      <td>0.847458</td>\n",
       "      <td>0.928535</td>\n",
       "      <td>0.869571</td>\n",
       "    </tr>\n",
       "    <tr>\n",
       "      <th>recall</th>\n",
       "      <td>0.363636</td>\n",
       "      <td>0.714286</td>\n",
       "      <td>0.9375</td>\n",
       "      <td>0.6250</td>\n",
       "      <td>0.950000</td>\n",
       "      <td>0.847458</td>\n",
       "      <td>0.718084</td>\n",
       "      <td>0.847458</td>\n",
       "    </tr>\n",
       "    <tr>\n",
       "      <th>f1-score</th>\n",
       "      <td>0.533333</td>\n",
       "      <td>0.833333</td>\n",
       "      <td>0.9375</td>\n",
       "      <td>0.7500</td>\n",
       "      <td>0.849162</td>\n",
       "      <td>0.847458</td>\n",
       "      <td>0.780666</td>\n",
       "      <td>0.838793</td>\n",
       "    </tr>\n",
       "    <tr>\n",
       "      <th>support</th>\n",
       "      <td>11.000000</td>\n",
       "      <td>14.000000</td>\n",
       "      <td>48.0000</td>\n",
       "      <td>24.0000</td>\n",
       "      <td>80.000000</td>\n",
       "      <td>0.847458</td>\n",
       "      <td>177.000000</td>\n",
       "      <td>177.000000</td>\n",
       "    </tr>\n",
       "  </tbody>\n",
       "</table>\n",
       "</div>"
      ],
      "text/plain": [
       "                 C++       Java  JavaScript   Python      other  accuracy  \\\n",
       "precision   1.000000   1.000000      0.9375   0.9375   0.767677  0.847458   \n",
       "recall      0.363636   0.714286      0.9375   0.6250   0.950000  0.847458   \n",
       "f1-score    0.533333   0.833333      0.9375   0.7500   0.849162  0.847458   \n",
       "support    11.000000  14.000000     48.0000  24.0000  80.000000  0.847458   \n",
       "\n",
       "            macro avg  weighted avg  \n",
       "precision    0.928535      0.869571  \n",
       "recall       0.718084      0.847458  \n",
       "f1-score     0.780666      0.838793  \n",
       "support    177.000000    177.000000  "
      ]
     },
     "execution_count": 45,
     "metadata": {},
     "output_type": "execute_result"
    }
   ],
   "source": [
    "accuracy_score, matrix, report = model.accuracy_report(clf, y_pred, y_train)\n",
    "print(accuracy_score)\n",
    "print(matrix)\n",
    "report"
   ]
  },
  {
   "cell_type": "code",
   "execution_count": 54,
   "metadata": {},
   "outputs": [
    {
     "data": {
      "image/png": "[encoded data removed]",
      "text/plain": [
       "<Figure size 720x576 with 1 Axes>"
      ]
     },
     "metadata": {
      "needs_background": "light"
     },
     "output_type": "display_data"
    }
   ],
   "source": [
    "model.preprocessing_features(clf)"
   ]
  },
  {
   "cell_type": "markdown",
   "metadata": {},
   "source": [
    "### Random Forest"
   ]
  },
  {
   "cell_type": "code",
   "execution_count": 48,
   "metadata": {},
   "outputs": [
    {
     "name": "stdout",
     "output_type": "stream",
     "text": [
      "bag_of_words, score = 0.5649717514124294\n",
      "tf_idf, score = 0.6497175141242938\n",
      "bag_of_ngrams, score = 0.4689265536723164\n"
     ]
    }
   ],
   "source": [
    "data_rep = [\"bag_of_words\", \"tf_idf\", \"bag_of_ngrams\"]\n",
    "\n",
    "for i in data_rep:\n",
    "    X_train, X_validate, X_test, y_train, y_validate, y_test = model.preprocessing(df, i, \"is_top_language\")\n",
    "    rf = RandomForestClassifier(random_state= 123, min_samples_leaf = 1, max_depth = 5).fit(X_train, y_train)\n",
    "    score = rf.score(X_train, y_train)\n",
    "    print(f\"{i}, score = {score}\")\n",
    "    "
   ]
  },
  {
   "cell_type": "markdown",
   "metadata": {},
   "source": [
    "We can see that the best alternative is to use tf_idf for this model"
   ]
  },
  {
   "cell_type": "code",
   "execution_count": 49,
   "metadata": {},
   "outputs": [],
   "source": [
    "X_train, X_validate, X_test, y_train, y_validate, y_test = model.preprocessing(df, \"tf_idf\", \"is_top_language\")"
   ]
  },
  {
   "cell_type": "code",
   "execution_count": 50,
   "metadata": {
    "scrolled": true
   },
   "outputs": [
    {
     "name": "stdout",
     "output_type": "stream",
     "text": [
      "Max_depth = 1, accuracy_score = 0.45. Diff = -0.12\n",
      "Max_depth = 2, accuracy_score = 0.46. Diff = -0.11\n",
      "Max_depth = 3, accuracy_score = 0.48. Diff = -0.06\n",
      "Max_depth = 4, accuracy_score = 0.54. Diff = 0.06\n",
      "Max_depth = 5, accuracy_score = 0.65. Diff = 0.22\n",
      "Max_depth = 6, accuracy_score = 0.71. Diff = 0.26\n",
      "Max_depth = 7, accuracy_score = 0.76. Diff = 0.31\n",
      "Max_depth = 8, accuracy_score = 0.77. Diff = 0.32\n",
      "Max_depth = 9, accuracy_score = 0.81. Diff = 0.35\n",
      "Max_depth = 10, accuracy_score = 0.83. Diff = 0.39\n",
      "Max_depth = 11, accuracy_score = 0.86. Diff = 0.41\n",
      "Max_depth = 12, accuracy_score = 0.86. Diff = 0.41\n",
      "Max_depth = 13, accuracy_score = 0.88. Diff = 0.44\n",
      "Max_depth = 14, accuracy_score = 0.89. Diff = 0.43\n",
      "Max_depth = 15, accuracy_score = 0.93. Diff = 0.45\n",
      "Max_depth = 16, accuracy_score = 0.94. Diff = 0.48\n",
      "Max_depth = 17, accuracy_score = 0.95. Diff = 0.47\n",
      "Max_depth = 18, accuracy_score = 0.98. Diff = 0.50\n",
      "Max_depth = 19, accuracy_score = 0.98. Diff = 0.48\n"
     ]
    }
   ],
   "source": [
    "for i in range(1, 20):\n",
    "    rf, y_pred = model.run_rf(X_train, y_train, 1, i)\n",
    "    score = rf.score(X_train, y_train)\n",
    "    validate_score = rf.score(X_validate, y_validate)\n",
    "    print(f\"Max_depth = {i}, accuracy_score = {score:.2f}. Diff = {(score - validate_score) / score:.2f}\")"
   ]
  },
  {
   "cell_type": "markdown",
   "metadata": {},
   "source": [
    "The best score, that doesn't overfit, is a max_depth of 2"
   ]
  },
  {
   "cell_type": "code",
   "execution_count": 51,
   "metadata": {},
   "outputs": [],
   "source": [
    "rf, y_pred = model.run_rf(X_train, y_train, 1, 2)\n",
    "predictions[\"random_forest\"] = y_pred"
   ]
  },
  {
   "cell_type": "code",
   "execution_count": 52,
   "metadata": {},
   "outputs": [
    {
     "name": "stdout",
     "output_type": "stream",
     "text": [
      "Accuracy on dataset: 0.46\n",
      "            C++  Java  JavaScript  Python  other\n",
      "C++           0     0           0       0     11\n",
      "Java          0     0           0       0     14\n",
      "JavaScript    0     0           1       0     47\n",
      "Python        0     0           0       0     24\n",
      "other         0     0           0       0     80\n"
     ]
    },
    {
     "name": "stderr",
     "output_type": "stream",
     "text": [
      "/usr/local/anaconda3/lib/python3.7/site-packages/sklearn/metrics/_classification.py:1272: UndefinedMetricWarning: Precision and F-score are ill-defined and being set to 0.0 in labels with no predicted samples. Use `zero_division` parameter to control this behavior.\n",
      "  _warn_prf(average, modifier, msg_start, len(result))\n"
     ]
    },
    {
     "data": {
      "text/html": [
       "<div>\n",
       "<style scoped>\n",
       "    .dataframe tbody tr th:only-of-type {\n",
       "        vertical-align: middle;\n",
       "    }\n",
       "\n",
       "    .dataframe tbody tr th {\n",
       "        vertical-align: top;\n",
       "    }\n",
       "\n",
       "    .dataframe thead th {\n",
       "        text-align: right;\n",
       "    }\n",
       "</style>\n",
       "<table border=\"1\" class=\"dataframe\">\n",
       "  <thead>\n",
       "    <tr style=\"text-align: right;\">\n",
       "      <th></th>\n",
       "      <th>C++</th>\n",
       "      <th>Java</th>\n",
       "      <th>JavaScript</th>\n",
       "      <th>Python</th>\n",
       "      <th>other</th>\n",
       "      <th>accuracy</th>\n",
       "      <th>macro avg</th>\n",
       "      <th>weighted avg</th>\n",
       "    </tr>\n",
       "  </thead>\n",
       "  <tbody>\n",
       "    <tr>\n",
       "      <th>precision</th>\n",
       "      <td>0.0</td>\n",
       "      <td>0.0</td>\n",
       "      <td>1.000000</td>\n",
       "      <td>0.0</td>\n",
       "      <td>0.454545</td>\n",
       "      <td>0.457627</td>\n",
       "      <td>0.290909</td>\n",
       "      <td>0.476631</td>\n",
       "    </tr>\n",
       "    <tr>\n",
       "      <th>recall</th>\n",
       "      <td>0.0</td>\n",
       "      <td>0.0</td>\n",
       "      <td>0.020833</td>\n",
       "      <td>0.0</td>\n",
       "      <td>1.000000</td>\n",
       "      <td>0.457627</td>\n",
       "      <td>0.204167</td>\n",
       "      <td>0.457627</td>\n",
       "    </tr>\n",
       "    <tr>\n",
       "      <th>f1-score</th>\n",
       "      <td>0.0</td>\n",
       "      <td>0.0</td>\n",
       "      <td>0.040816</td>\n",
       "      <td>0.0</td>\n",
       "      <td>0.625000</td>\n",
       "      <td>0.457627</td>\n",
       "      <td>0.133163</td>\n",
       "      <td>0.293555</td>\n",
       "    </tr>\n",
       "    <tr>\n",
       "      <th>support</th>\n",
       "      <td>11.0</td>\n",
       "      <td>14.0</td>\n",
       "      <td>48.000000</td>\n",
       "      <td>24.0</td>\n",
       "      <td>80.000000</td>\n",
       "      <td>0.457627</td>\n",
       "      <td>177.000000</td>\n",
       "      <td>177.000000</td>\n",
       "    </tr>\n",
       "  </tbody>\n",
       "</table>\n",
       "</div>"
      ],
      "text/plain": [
       "            C++  Java  JavaScript  Python      other  accuracy   macro avg  \\\n",
       "precision   0.0   0.0    1.000000     0.0   0.454545  0.457627    0.290909   \n",
       "recall      0.0   0.0    0.020833     0.0   1.000000  0.457627    0.204167   \n",
       "f1-score    0.0   0.0    0.040816     0.0   0.625000  0.457627    0.133163   \n",
       "support    11.0  14.0   48.000000    24.0  80.000000  0.457627  177.000000   \n",
       "\n",
       "           weighted avg  \n",
       "precision      0.476631  \n",
       "recall         0.457627  \n",
       "f1-score       0.293555  \n",
       "support      177.000000  "
      ]
     },
     "execution_count": 52,
     "metadata": {},
     "output_type": "execute_result"
    }
   ],
   "source": [
    "accuracy_score, matrix, report = model.accuracy_report(rf, y_pred, y_train)\n",
    "print(accuracy_score)\n",
    "print(matrix)\n",
    "report"
   ]
  },
  {
   "cell_type": "code",
   "execution_count": 55,
   "metadata": {
    "scrolled": false
   },
   "outputs": [
    {
     "data": {
      "image/png": "[encoded data removed]",
      "text/plain": [
       "<Figure size 720x576 with 1 Axes>"
      ]
     },
     "metadata": {
      "needs_background": "light"
     },
     "output_type": "display_data"
    }
   ],
   "source": [
    "model.preprocessing_features(rf)"
   ]
  },
  {
   "cell_type": "markdown",
   "metadata": {},
   "source": [
    "### KNN"
   ]
  },
  {
   "cell_type": "code",
   "execution_count": 56,
   "metadata": {},
   "outputs": [
    {
     "name": "stdout",
     "output_type": "stream",
     "text": [
      "bag_of_words, score = 0.615819209039548\n",
      "tf_idf, score = 0.7288135593220338\n",
      "bag_of_ngrams, score = 0.3728813559322034\n"
     ]
    }
   ],
   "source": [
    "data_rep = [\"bag_of_words\", \"tf_idf\", \"bag_of_ngrams\"]\n",
    "\n",
    "for i in data_rep:\n",
    "    X_train, X_validate, X_test, y_train, y_validate, y_test = model.preprocessing(df, i, \"is_top_language\")\n",
    "    knn, y_pred = model.run_knn(X_train, y_train, 5)\n",
    "    score = knn.score(X_train, y_train)\n",
    "    print(f\"{i}, score = {score}\")\n",
    "    "
   ]
  },
  {
   "cell_type": "code",
   "execution_count": 57,
   "metadata": {},
   "outputs": [
    {
     "name": "stdout",
     "output_type": "stream",
     "text": [
      "Max_depth = 1, accuracy_score = 0.99. Diff = 0.91\n",
      "Max_depth = 2, accuracy_score = 0.54. Diff = 0.62\n",
      "Max_depth = 3, accuracy_score = 0.55. Diff = 0.78\n",
      "Max_depth = 4, accuracy_score = 0.47. Diff = 0.57\n",
      "Max_depth = 5, accuracy_score = 0.37. Diff = 0.41\n",
      "Max_depth = 6, accuracy_score = 0.37. Diff = 0.45\n",
      "Max_depth = 7, accuracy_score = 0.78. Diff = 0.37\n",
      "Max_depth = 8, accuracy_score = 0.75. Diff = 0.32\n",
      "Max_depth = 9, accuracy_score = 0.71. Diff = 0.28\n",
      "Max_depth = 10, accuracy_score = 0.50. Diff = -0.04\n",
      "Max_depth = 11, accuracy_score = 0.46. Diff = -0.11\n",
      "Max_depth = 12, accuracy_score = 0.46. Diff = -0.11\n",
      "Max_depth = 13, accuracy_score = 0.46. Diff = -0.11\n",
      "Max_depth = 14, accuracy_score = 0.46. Diff = -0.11\n",
      "Max_depth = 15, accuracy_score = 0.45. Diff = -0.12\n",
      "Max_depth = 16, accuracy_score = 0.45. Diff = -0.12\n",
      "Max_depth = 17, accuracy_score = 0.45. Diff = -0.12\n",
      "Max_depth = 18, accuracy_score = 0.45. Diff = -0.12\n",
      "Max_depth = 19, accuracy_score = 0.45. Diff = -0.12\n"
     ]
    }
   ],
   "source": [
    "for i in range(1, 20):\n",
    "    knn, y_pred = model.run_knn(X_train, y_train, i)\n",
    "    score = knn.score(X_train, y_train)\n",
    "    validate_score = knn.score(X_validate, y_validate)\n",
    "    print(f\"Max_depth = {i}, accuracy_score = {score:.2f}. Diff = {(score - validate_score) / score:.2f}\")"
   ]
  },
  {
   "cell_type": "code",
   "execution_count": 58,
   "metadata": {},
   "outputs": [],
   "source": [
    "knn, y_pred = model.run_knn(X_train, y_train, 2)\n",
    "predictions[\"knn\"] = y_pred"
   ]
  },
  {
   "cell_type": "code",
   "execution_count": 59,
   "metadata": {},
   "outputs": [
    {
     "name": "stdout",
     "output_type": "stream",
     "text": [
      "Accuracy on dataset: 0.54\n",
      "            C++  Java  JavaScript  Python  other\n",
      "C++          11     0           0       0      0\n",
      "Java          0    14           0       0      0\n",
      "JavaScript    0     0          48       0      0\n",
      "Python        1     0           1      22      0\n",
      "other         1     0           0      78      1\n"
     ]
    },
    {
     "data": {
      "text/html": [
       "<div>\n",
       "<style scoped>\n",
       "    .dataframe tbody tr th:only-of-type {\n",
       "        vertical-align: middle;\n",
       "    }\n",
       "\n",
       "    .dataframe tbody tr th {\n",
       "        vertical-align: top;\n",
       "    }\n",
       "\n",
       "    .dataframe thead th {\n",
       "        text-align: right;\n",
       "    }\n",
       "</style>\n",
       "<table border=\"1\" class=\"dataframe\">\n",
       "  <thead>\n",
       "    <tr style=\"text-align: right;\">\n",
       "      <th></th>\n",
       "      <th>C++</th>\n",
       "      <th>Java</th>\n",
       "      <th>JavaScript</th>\n",
       "      <th>Python</th>\n",
       "      <th>other</th>\n",
       "      <th>accuracy</th>\n",
       "      <th>macro avg</th>\n",
       "      <th>weighted avg</th>\n",
       "    </tr>\n",
       "  </thead>\n",
       "  <tbody>\n",
       "    <tr>\n",
       "      <th>precision</th>\n",
       "      <td>0.846154</td>\n",
       "      <td>1.0</td>\n",
       "      <td>0.979592</td>\n",
       "      <td>0.220000</td>\n",
       "      <td>1.000000</td>\n",
       "      <td>0.542373</td>\n",
       "      <td>0.809149</td>\n",
       "      <td>0.879142</td>\n",
       "    </tr>\n",
       "    <tr>\n",
       "      <th>recall</th>\n",
       "      <td>1.000000</td>\n",
       "      <td>1.0</td>\n",
       "      <td>1.000000</td>\n",
       "      <td>0.916667</td>\n",
       "      <td>0.012500</td>\n",
       "      <td>0.542373</td>\n",
       "      <td>0.785833</td>\n",
       "      <td>0.542373</td>\n",
       "    </tr>\n",
       "    <tr>\n",
       "      <th>f1-score</th>\n",
       "      <td>0.916667</td>\n",
       "      <td>1.0</td>\n",
       "      <td>0.989691</td>\n",
       "      <td>0.354839</td>\n",
       "      <td>0.024691</td>\n",
       "      <td>0.542373</td>\n",
       "      <td>0.657177</td>\n",
       "      <td>0.463728</td>\n",
       "    </tr>\n",
       "    <tr>\n",
       "      <th>support</th>\n",
       "      <td>11.000000</td>\n",
       "      <td>14.0</td>\n",
       "      <td>48.000000</td>\n",
       "      <td>24.000000</td>\n",
       "      <td>80.000000</td>\n",
       "      <td>0.542373</td>\n",
       "      <td>177.000000</td>\n",
       "      <td>177.000000</td>\n",
       "    </tr>\n",
       "  </tbody>\n",
       "</table>\n",
       "</div>"
      ],
      "text/plain": [
       "                 C++  Java  JavaScript     Python      other  accuracy  \\\n",
       "precision   0.846154   1.0    0.979592   0.220000   1.000000  0.542373   \n",
       "recall      1.000000   1.0    1.000000   0.916667   0.012500  0.542373   \n",
       "f1-score    0.916667   1.0    0.989691   0.354839   0.024691  0.542373   \n",
       "support    11.000000  14.0   48.000000  24.000000  80.000000  0.542373   \n",
       "\n",
       "            macro avg  weighted avg  \n",
       "precision    0.809149      0.879142  \n",
       "recall       0.785833      0.542373  \n",
       "f1-score     0.657177      0.463728  \n",
       "support    177.000000    177.000000  "
      ]
     },
     "execution_count": 59,
     "metadata": {},
     "output_type": "execute_result"
    }
   ],
   "source": [
    "accuracy_score, matrix, report = model.accuracy_report(knn, y_pred, y_train)\n",
    "print(accuracy_score)\n",
    "print(matrix)\n",
    "report"
   ]
  },
  {
   "cell_type": "code",
   "execution_count": 60,
   "metadata": {},
   "outputs": [],
   "source": [
    "report = model.create_report(predictions.actual, predictions.decision_tree)"
   ]
  },
  {
   "cell_type": "code",
   "execution_count": 61,
   "metadata": {
    "scrolled": false
   },
   "outputs": [
    {
     "name": "stdout",
     "output_type": "stream",
     "text": [
      "Accuracy Scores\n",
      "---------------\n",
      "Actual = 1.00\n",
      "Baseline = 0.45\n",
      "Decision_Tree = 0.85\n",
      "Random_Forest = 0.46\n",
      "Knn = 0.54\n"
     ]
    },
    {
     "name": "stderr",
     "output_type": "stream",
     "text": [
      "/usr/local/anaconda3/lib/python3.7/site-packages/sklearn/metrics/_classification.py:1272: UndefinedMetricWarning: Precision and F-score are ill-defined and being set to 0.0 in labels with no predicted samples. Use `zero_division` parameter to control this behavior.\n",
      "  _warn_prf(average, modifier, msg_start, len(result))\n"
     ]
    }
   ],
   "source": [
    "# How do the different models compare on accuracy?\n",
    "print(\"Accuracy Scores\")\n",
    "print(\"---------------\")\n",
    "for i in range(predictions.shape[1]):\n",
    "    report = model.create_report(predictions.actual, predictions.iloc[:,i])\n",
    "    print(f'{predictions.columns[i].title()} = {report.accuracy[0]:.2f}')"
   ]
  },
  {
   "cell_type": "markdown",
   "metadata": {},
   "source": [
    "Key take-aways:\n",
    "* All models perform better than the baseline, which means implementation of machine learning algorithms for this particular project is an improvement.\n",
    "* The best performing model is the `Decision Tree` classifier, with an accuracy of 80%\n",
    "* Given that there is no way to quantify cost, and in this particular case neither recall nor precision are more or less important, we will focus on the general accuracy of the models (given that both metrics are used to calcualte accuracy)."
   ]
  },
  {
   "cell_type": "markdown",
   "metadata": {},
   "source": [
    "# Evaluation"
   ]
  },
  {
   "cell_type": "code",
   "execution_count": 62,
   "metadata": {},
   "outputs": [],
   "source": [
    "# Now we will see if the model is overfit\n",
    "\n",
    "X_train, X_validate, X_test, y_train, y_validate, y_test = model.preprocessing(df, \"tf_idf\", \"is_top_language\")\n",
    "clf, y_pred = model.run_clf(X_train, y_train, 5)"
   ]
  },
  {
   "cell_type": "code",
   "execution_count": 63,
   "metadata": {},
   "outputs": [
    {
     "data": {
      "text/plain": [
       "0.5932203389830508"
      ]
     },
     "execution_count": 63,
     "metadata": {},
     "output_type": "execute_result"
    }
   ],
   "source": [
    "clf.score(X_test, y_test)"
   ]
  },
  {
   "cell_type": "markdown",
   "metadata": {},
   "source": [
    "### Build a function that will take in a text of a README file, and tries to predict the programming language"
   ]
  },
  {
   "cell_type": "code",
   "execution_count": 64,
   "metadata": {},
   "outputs": [],
   "source": [
    "def predict_readme_language(readme):\n",
    "    df = model.acquire_data()\n",
    "    df = model.prepare_data(df)\n",
    "\n",
    "    tfidf = TfidfVectorizer()\n",
    "    X = tfidf.fit_transform(df.readme_contents.apply(clean).apply(' '.join)) \n",
    "    y = df[\"is_top_language\"]\n",
    "\n",
    "    X_train, X_validate, X_test, y_train, y_validate, y_test = model.split_data(X, y)\n",
    "    \n",
    "    clf, y_pred = model.run_clf(X_train, y_train, 5)\n",
    "    \n",
    "    text = model.prepare_data(readme)\n",
    "    \n",
    "    X = tfidf.transform(text.readme_contents.apply(clean).apply(' '.join))\n",
    "    \n",
    "    prediction = clf.predict(X)\n",
    "    \n",
    "    return prediction"
   ]
  },
  {
   "cell_type": "code",
   "execution_count": 65,
   "metadata": {},
   "outputs": [],
   "source": [
    "text = df.tail(5).head(1)"
   ]
  },
  {
   "cell_type": "code",
   "execution_count": 66,
   "metadata": {},
   "outputs": [
    {
     "data": {
      "text/html": [
       "<div>\n",
       "<style scoped>\n",
       "    .dataframe tbody tr th:only-of-type {\n",
       "        vertical-align: middle;\n",
       "    }\n",
       "\n",
       "    .dataframe tbody tr th {\n",
       "        vertical-align: top;\n",
       "    }\n",
       "\n",
       "    .dataframe thead th {\n",
       "        text-align: right;\n",
       "    }\n",
       "</style>\n",
       "<table border=\"1\" class=\"dataframe\">\n",
       "  <thead>\n",
       "    <tr style=\"text-align: right;\">\n",
       "      <th></th>\n",
       "      <th>repo</th>\n",
       "      <th>language</th>\n",
       "      <th>readme_contents</th>\n",
       "      <th>clean_tokes</th>\n",
       "      <th>clean_lemmatized</th>\n",
       "      <th>is_top_language</th>\n",
       "      <th>word_count</th>\n",
       "    </tr>\n",
       "  </thead>\n",
       "  <tbody>\n",
       "    <tr>\n",
       "      <th>376</th>\n",
       "      <td>nlohmann/json</td>\n",
       "      <td>C++</td>\n",
       "      <td>[![JSON for Modern C++](https://raw.githubuser...</td>\n",
       "      <td>[json, for, modern, chttpsrawgithubusercontent...</td>\n",
       "      <td>json modern chttpsrawgithubusercontentcomnlohm...</td>\n",
       "      <td>C++</td>\n",
       "      <td>6141</td>\n",
       "    </tr>\n",
       "  </tbody>\n",
       "</table>\n",
       "</div>"
      ],
      "text/plain": [
       "              repo language  \\\n",
       "376  nlohmann/json      C++   \n",
       "\n",
       "                                       readme_contents  \\\n",
       "376  [![JSON for Modern C++](https://raw.githubuser...   \n",
       "\n",
       "                                           clean_tokes  \\\n",
       "376  [json, for, modern, chttpsrawgithubusercontent...   \n",
       "\n",
       "                                      clean_lemmatized is_top_language  \\\n",
       "376  json modern chttpsrawgithubusercontentcomnlohm...             C++   \n",
       "\n",
       "     word_count  \n",
       "376        6141  "
      ]
     },
     "execution_count": 66,
     "metadata": {},
     "output_type": "execute_result"
    }
   ],
   "source": [
    "text"
   ]
  },
  {
   "cell_type": "code",
   "execution_count": 68,
   "metadata": {
    "scrolled": true
   },
   "outputs": [
    {
     "name": "stdout",
     "output_type": "stream",
     "text": [
      "This language was likely written in other\n"
     ]
    }
   ],
   "source": [
    "prediction = model.predict_readme_language(text)\n",
    "print(f\"This language was likely written in {prediction[0]}\")"
   ]
  }
 ],
 "metadata": {
  "kernelspec": {
   "display_name": "Python 3",
   "language": "python",
   "name": "python3"
  },
  "language_info": {
   "codemirror_mode": {
    "name": "ipython",
    "version": 3
   },
   "file_extension": ".py",
   "mimetype": "text/x-python",
   "name": "python",
   "nbconvert_exporter": "python",
   "pygments_lexer": "ipython3",
   "version": "3.7.4"
  }
 },
 "nbformat": 4,
 "nbformat_minor": 2
}
