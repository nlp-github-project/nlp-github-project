{
 "cells": [
  {
   "cell_type": "markdown",
   "metadata": {},
   "source": [
    "# NLP Project"
   ]
  },
  {
   "cell_type": "code",
   "execution_count": 201,
   "metadata": {},
   "outputs": [],
   "source": [
    "import pandas as pd\n",
    "import numpy as np\n",
    "\n",
    "from requests import get\n",
    "from bs4 import BeautifulSoup\n",
    "import os\n",
    "\n",
    "import seaborn as sns\n",
    "import matplotlib.pyplot as plt\n",
    "\n",
    "import prepare\n",
    "\n",
    "import matplotlib.pyplot as plt\n",
    "import seaborn as sns\n",
    "import pandas as pd\n",
    "import nltk\n",
    "import nltk.sentiment\n",
    "import re\n",
    "\n",
    "import time\n",
    "\n"
   ]
  },
  {
   "cell_type": "code",
   "execution_count": 56,
   "metadata": {},
   "outputs": [],
   "source": [
    "df = pd.read_json(\"data.json\")"
   ]
  },
  {
   "cell_type": "code",
   "execution_count": 59,
   "metadata": {
    "scrolled": false
   },
   "outputs": [
    {
     "data": {
      "text/plain": [
       "JavaScript          73\n",
       "Python              27\n",
       "Java                20\n",
       "TypeScript          17\n",
       "Go                  12\n",
       "C++                 12\n",
       "C                    6\n",
       "Swift                5\n",
       "Shell                4\n",
       "HTML                 4\n",
       "Vue                  4\n",
       "Rust                 4\n",
       "PHP                  4\n",
       "CSS                  3\n",
       "Kotlin               3\n",
       "Ruby                 3\n",
       "Objective-C          2\n",
       "Clojure              2\n",
       "Dart                 2\n",
       "Jupyter Notebook     2\n",
       "Assembly             1\n",
       "OCaml                1\n",
       "TeX                  1\n",
       "Emacs Lisp           1\n",
       "Haskell              1\n",
       "C#                   1\n",
       "Name: language, dtype: int64"
      ]
     },
     "execution_count": 59,
     "metadata": {},
     "output_type": "execute_result"
    }
   ],
   "source": [
    "df.language.value_counts()"
   ]
  },
  {
   "cell_type": "code",
   "execution_count": 76,
   "metadata": {},
   "outputs": [
    {
     "data": {
      "text/plain": [
       "33"
      ]
     },
     "execution_count": 76,
     "metadata": {},
     "output_type": "execute_result"
    }
   ],
   "source": [
    "(df.language.isnull()).sum()"
   ]
  },
  {
   "cell_type": "code",
   "execution_count": 85,
   "metadata": {},
   "outputs": [
    {
     "data": {
      "text/html": [
       "<div>\n",
       "<style scoped>\n",
       "    .dataframe tbody tr th:only-of-type {\n",
       "        vertical-align: middle;\n",
       "    }\n",
       "\n",
       "    .dataframe tbody tr th {\n",
       "        vertical-align: top;\n",
       "    }\n",
       "\n",
       "    .dataframe thead th {\n",
       "        text-align: right;\n",
       "    }\n",
       "</style>\n",
       "<table border=\"1\" class=\"dataframe\">\n",
       "  <thead>\n",
       "    <tr style=\"text-align: right;\">\n",
       "      <th></th>\n",
       "      <th>repo</th>\n",
       "      <th>language</th>\n",
       "      <th>readme_contents</th>\n",
       "    </tr>\n",
       "  </thead>\n",
       "  <tbody>\n",
       "    <tr>\n",
       "      <th>0</th>\n",
       "      <td>vuejs/vue</td>\n",
       "      <td>JavaScript</td>\n",
       "      <td>&lt;p align=\"center\"&gt;&lt;a href=\"https://vuejs.org\" ...</td>\n",
       "    </tr>\n",
       "    <tr>\n",
       "      <th>3</th>\n",
       "      <td>twbs/bootstrap</td>\n",
       "      <td>JavaScript</td>\n",
       "      <td>&lt;p align=\"center\"&gt;\\n  &lt;a href=\"https://getboot...</td>\n",
       "    </tr>\n",
       "    <tr>\n",
       "      <th>4</th>\n",
       "      <td>sindresorhus/awesome</td>\n",
       "      <td>None</td>\n",
       "      <td>&lt;div align=\"center\"&gt;\\n\\t&lt;img width=\"500\" heigh...</td>\n",
       "    </tr>\n",
       "    <tr>\n",
       "      <th>7</th>\n",
       "      <td>ohmyzsh/ohmyzsh</td>\n",
       "      <td>Shell</td>\n",
       "      <td>&lt;p align=\"center\"&gt;\\n  &lt;img src=\"https://s3.ama...</td>\n",
       "    </tr>\n",
       "    <tr>\n",
       "      <th>8</th>\n",
       "      <td>kamranahmedse/developer-roadmap</td>\n",
       "      <td>None</td>\n",
       "      <td>\\n![Web Developer Roadmap - 2020](https://i.im...</td>\n",
       "    </tr>\n",
       "    <tr>\n",
       "      <th>...</th>\n",
       "      <td>...</td>\n",
       "      <td>...</td>\n",
       "      <td>...</td>\n",
       "    </tr>\n",
       "    <tr>\n",
       "      <th>211</th>\n",
       "      <td>ZuzooVn/machine-learning-for-software-engineers</td>\n",
       "      <td>None</td>\n",
       "      <td># Parcours d'Apprentissage de A à Z: Le Machin...</td>\n",
       "    </tr>\n",
       "    <tr>\n",
       "      <th>216</th>\n",
       "      <td>tailwindcss/tailwindcss</td>\n",
       "      <td>CSS</td>\n",
       "      <td>&lt;p&gt;\\n    &lt;a href=\"https://tailwindcss.com/\" ta...</td>\n",
       "    </tr>\n",
       "    <tr>\n",
       "      <th>223</th>\n",
       "      <td>markedjs/marked</td>\n",
       "      <td>JavaScript</td>\n",
       "      <td>&lt;a href=\"https://marked.js.org\"&gt;\\n  &lt;img width...</td>\n",
       "    </tr>\n",
       "    <tr>\n",
       "      <th>230</th>\n",
       "      <td>nsqio/nsq</td>\n",
       "      <td>Go</td>\n",
       "      <td>&lt;p align=\"center\"&gt;\\n&lt;img align=\"left\" width=\"1...</td>\n",
       "    </tr>\n",
       "    <tr>\n",
       "      <th>232</th>\n",
       "      <td>JohnCoates/Aerial</td>\n",
       "      <td>Swift</td>\n",
       "      <td>&lt;p align=\"center\"&gt;\\n  &lt;img src=\"https://cloud....</td>\n",
       "    </tr>\n",
       "  </tbody>\n",
       "</table>\n",
       "<p>77 rows × 3 columns</p>\n",
       "</div>"
      ],
      "text/plain": [
       "                                                repo    language  \\\n",
       "0                                          vuejs/vue  JavaScript   \n",
       "3                                     twbs/bootstrap  JavaScript   \n",
       "4                               sindresorhus/awesome        None   \n",
       "7                                    ohmyzsh/ohmyzsh       Shell   \n",
       "8                    kamranahmedse/developer-roadmap        None   \n",
       "..                                               ...         ...   \n",
       "211  ZuzooVn/machine-learning-for-software-engineers        None   \n",
       "216                          tailwindcss/tailwindcss         CSS   \n",
       "223                                  markedjs/marked  JavaScript   \n",
       "230                                        nsqio/nsq          Go   \n",
       "232                                JohnCoates/Aerial       Swift   \n",
       "\n",
       "                                       readme_contents  \n",
       "0    <p align=\"center\"><a href=\"https://vuejs.org\" ...  \n",
       "3    <p align=\"center\">\\n  <a href=\"https://getboot...  \n",
       "4    <div align=\"center\">\\n\\t<img width=\"500\" heigh...  \n",
       "7    <p align=\"center\">\\n  <img src=\"https://s3.ama...  \n",
       "8    \\n![Web Developer Roadmap - 2020](https://i.im...  \n",
       "..                                                 ...  \n",
       "211  # Parcours d'Apprentissage de A à Z: Le Machin...  \n",
       "216  <p>\\n    <a href=\"https://tailwindcss.com/\" ta...  \n",
       "223  <a href=\"https://marked.js.org\">\\n  <img width...  \n",
       "230  <p align=\"center\">\\n<img align=\"left\" width=\"1...  \n",
       "232  <p align=\"center\">\\n  <img src=\"https://cloud....  \n",
       "\n",
       "[77 rows x 3 columns]"
      ]
     },
     "execution_count": 85,
     "metadata": {},
     "output_type": "execute_result"
    }
   ],
   "source": [
    "df[df.readme_contents.str.contains(\"<p\")]"
   ]
  },
  {
   "cell_type": "markdown",
   "metadata": {},
   "source": [
    "# Acquire\n",
    "\n",
    "Thanks to Zach, we already have the main function to acquire the data. The script runs through a list of repo's, and creates a new json file with the name of the repo, the programing language used, and the readme_contents."
   ]
  },
  {
   "cell_type": "code",
   "execution_count": 87,
   "metadata": {},
   "outputs": [
    {
     "data": {
      "text/html": [
       "<div>\n",
       "<style scoped>\n",
       "    .dataframe tbody tr th:only-of-type {\n",
       "        vertical-align: middle;\n",
       "    }\n",
       "\n",
       "    .dataframe tbody tr th {\n",
       "        vertical-align: top;\n",
       "    }\n",
       "\n",
       "    .dataframe thead th {\n",
       "        text-align: right;\n",
       "    }\n",
       "</style>\n",
       "<table border=\"1\" class=\"dataframe\">\n",
       "  <thead>\n",
       "    <tr style=\"text-align: right;\">\n",
       "      <th></th>\n",
       "      <th>repo</th>\n",
       "      <th>language</th>\n",
       "      <th>readme_contents</th>\n",
       "    </tr>\n",
       "  </thead>\n",
       "  <tbody>\n",
       "    <tr>\n",
       "      <th>0</th>\n",
       "      <td>vuejs/vue</td>\n",
       "      <td>JavaScript</td>\n",
       "      <td>&lt;p align=\"center\"&gt;&lt;a href=\"https://vuejs.org\" ...</td>\n",
       "    </tr>\n",
       "    <tr>\n",
       "      <th>1</th>\n",
       "      <td>EbookFoundation/free-programming-books</td>\n",
       "      <td>None</td>\n",
       "      <td>This page is available as an easy-to-read webs...</td>\n",
       "    </tr>\n",
       "    <tr>\n",
       "      <th>2</th>\n",
       "      <td>tensorflow/tensorflow</td>\n",
       "      <td>C++</td>\n",
       "      <td>&lt;div align=\"center\"&gt;\\n  &lt;img src=\"https://www....</td>\n",
       "    </tr>\n",
       "    <tr>\n",
       "      <th>3</th>\n",
       "      <td>twbs/bootstrap</td>\n",
       "      <td>JavaScript</td>\n",
       "      <td>&lt;p align=\"center\"&gt;\\n  &lt;a href=\"https://getboot...</td>\n",
       "    </tr>\n",
       "    <tr>\n",
       "      <th>4</th>\n",
       "      <td>sindresorhus/awesome</td>\n",
       "      <td>None</td>\n",
       "      <td>&lt;div align=\"center\"&gt;\\n\\t&lt;img width=\"500\" heigh...</td>\n",
       "    </tr>\n",
       "  </tbody>\n",
       "</table>\n",
       "</div>"
      ],
      "text/plain": [
       "                                     repo    language  \\\n",
       "0                               vuejs/vue  JavaScript   \n",
       "1  EbookFoundation/free-programming-books        None   \n",
       "2                   tensorflow/tensorflow         C++   \n",
       "3                          twbs/bootstrap  JavaScript   \n",
       "4                    sindresorhus/awesome        None   \n",
       "\n",
       "                                     readme_contents  \n",
       "0  <p align=\"center\"><a href=\"https://vuejs.org\" ...  \n",
       "1  This page is available as an easy-to-read webs...  \n",
       "2  <div align=\"center\">\\n  <img src=\"https://www....  \n",
       "3  <p align=\"center\">\\n  <a href=\"https://getboot...  \n",
       "4  <div align=\"center\">\\n\\t<img width=\"500\" heigh...  "
      ]
     },
     "execution_count": 87,
     "metadata": {},
     "output_type": "execute_result"
    }
   ],
   "source": [
    "df.head()"
   ]
  },
  {
   "cell_type": "markdown",
   "metadata": {},
   "source": [
    "Now, we need to build a webscrapping function that can help us get more repo names, so we can run the script, and get their information. Our goal is to get 300 README's."
   ]
  },
  {
   "cell_type": "code",
   "execution_count": 88,
   "metadata": {},
   "outputs": [],
   "source": [
    "url = 'https://github.com/search?q=stars%3A%3E0&s=stars&type=Repositories'\n",
    "headers = {'User-Agent': 'Codeup Bayes Data Science'} # codeup.com doesn't like our default user-agent\n",
    "response = get(url, headers=headers)"
   ]
  },
  {
   "cell_type": "code",
   "execution_count": 89,
   "metadata": {},
   "outputs": [],
   "source": [
    "soup = BeautifulSoup(response.content, 'html.parser')"
   ]
  },
  {
   "cell_type": "code",
   "execution_count": 90,
   "metadata": {},
   "outputs": [],
   "source": [
    "article = soup.find_all('a', class_='v-align-middle')"
   ]
  },
  {
   "cell_type": "code",
   "execution_count": 91,
   "metadata": {},
   "outputs": [
    {
     "data": {
      "text/plain": [
       "[<a class=\"v-align-middle\" data-hydro-click='{\"event_type\":\"search_result.click\",\"payload\":{\"page_number\":1,\"per_page\":10,\"query\":\"stars:&gt;0\",\"result_position\":1,\"click_id\":28457823,\"result\":{\"id\":28457823,\"global_relay_id\":\"MDEwOlJlcG9zaXRvcnkyODQ1NzgyMw==\",\"model_name\":\"Repository\",\"url\":\"https://github.com/freeCodeCamp/freeCodeCamp\"},\"originating_url\":\"https://github.com/search?q=stars%3A%3E0&amp;s=stars&amp;type=Repositories\",\"user_id\":null}}' data-hydro-click-hmac=\"51803afd8693bb4b6109e8c6609869daf7189a6d9129bec0b1fc46cb79eac778\" href=\"/freeCodeCamp/freeCodeCamp\">freeCodeCamp/freeCodeCamp</a>,\n",
       " <a class=\"v-align-middle\" data-hydro-click='{\"event_type\":\"search_result.click\",\"payload\":{\"page_number\":1,\"per_page\":10,\"query\":\"stars:&gt;0\",\"result_position\":2,\"click_id\":177736533,\"result\":{\"id\":177736533,\"global_relay_id\":\"MDEwOlJlcG9zaXRvcnkxNzc3MzY1MzM=\",\"model_name\":\"Repository\",\"url\":\"https://github.com/996icu/996.ICU\"},\"originating_url\":\"https://github.com/search?q=stars%3A%3E0&amp;s=stars&amp;type=Repositories\",\"user_id\":null}}' data-hydro-click-hmac=\"f23c69f92c27fd24c1f60f55f8629f22cbe4bcd9e3fc0856d2548ca646a796df\" href=\"/996icu/996.ICU\">996icu/996.ICU</a>,\n",
       " <a class=\"v-align-middle\" data-hydro-click='{\"event_type\":\"search_result.click\",\"payload\":{\"page_number\":1,\"per_page\":10,\"query\":\"stars:&gt;0\",\"result_position\":3,\"click_id\":11730342,\"result\":{\"id\":11730342,\"global_relay_id\":\"MDEwOlJlcG9zaXRvcnkxMTczMDM0Mg==\",\"model_name\":\"Repository\",\"url\":\"https://github.com/vuejs/vue\"},\"originating_url\":\"https://github.com/search?q=stars%3A%3E0&amp;s=stars&amp;type=Repositories\",\"user_id\":null}}' data-hydro-click-hmac=\"e26db6ba74e3de388fb8cfde54e3bafcb5dd216071138dbf586af0db6e0f093f\" href=\"/vuejs/vue\">vuejs/vue</a>,\n",
       " <a class=\"v-align-middle\" data-hydro-click='{\"event_type\":\"search_result.click\",\"payload\":{\"page_number\":1,\"per_page\":10,\"query\":\"stars:&gt;0\",\"result_position\":4,\"click_id\":13491895,\"result\":{\"id\":13491895,\"global_relay_id\":\"MDEwOlJlcG9zaXRvcnkxMzQ5MTg5NQ==\",\"model_name\":\"Repository\",\"url\":\"https://github.com/EbookFoundation/free-programming-books\"},\"originating_url\":\"https://github.com/search?q=stars%3A%3E0&amp;s=stars&amp;type=Repositories\",\"user_id\":null}}' data-hydro-click-hmac=\"ea01c39eb35685a4e6a02ebfabcc4da55995bdfcedd6f53c7b0408725c411020\" href=\"/EbookFoundation/free-programming-books\">EbookFoundation/free-programming-books</a>,\n",
       " <a class=\"v-align-middle\" data-hydro-click='{\"event_type\":\"search_result.click\",\"payload\":{\"page_number\":1,\"per_page\":10,\"query\":\"stars:&gt;0\",\"result_position\":5,\"click_id\":10270250,\"result\":{\"id\":10270250,\"global_relay_id\":\"MDEwOlJlcG9zaXRvcnkxMDI3MDI1MA==\",\"model_name\":\"Repository\",\"url\":\"https://github.com/facebook/react\"},\"originating_url\":\"https://github.com/search?q=stars%3A%3E0&amp;s=stars&amp;type=Repositories\",\"user_id\":null}}' data-hydro-click-hmac=\"694c518079f1da492e1f9409125f59f32aee0e173b6c11e3df3b3ee09f6bee76\" href=\"/facebook/react\">facebook/react</a>,\n",
       " <a class=\"v-align-middle\" data-hydro-click='{\"event_type\":\"search_result.click\",\"payload\":{\"page_number\":1,\"per_page\":10,\"query\":\"stars:&gt;0\",\"result_position\":6,\"click_id\":45717250,\"result\":{\"id\":45717250,\"global_relay_id\":\"MDEwOlJlcG9zaXRvcnk0NTcxNzI1MA==\",\"model_name\":\"Repository\",\"url\":\"https://github.com/tensorflow/tensorflow\"},\"originating_url\":\"https://github.com/search?q=stars%3A%3E0&amp;s=stars&amp;type=Repositories\",\"user_id\":null}}' data-hydro-click-hmac=\"e46e5aaf2a070e9c611ca886e4cb12895127d1e88841c7f4449b36cc92a0254b\" href=\"/tensorflow/tensorflow\">tensorflow/tensorflow</a>,\n",
       " <a class=\"v-align-middle\" data-hydro-click='{\"event_type\":\"search_result.click\",\"payload\":{\"page_number\":1,\"per_page\":10,\"query\":\"stars:&gt;0\",\"result_position\":7,\"click_id\":2126244,\"result\":{\"id\":2126244,\"global_relay_id\":\"MDEwOlJlcG9zaXRvcnkyMTI2MjQ0\",\"model_name\":\"Repository\",\"url\":\"https://github.com/twbs/bootstrap\"},\"originating_url\":\"https://github.com/search?q=stars%3A%3E0&amp;s=stars&amp;type=Repositories\",\"user_id\":null}}' data-hydro-click-hmac=\"7fb166bb6bd43486278bbb9cf6be9e031ccf77879e15670e8d45e27f9f22f6f3\" href=\"/twbs/bootstrap\">twbs/bootstrap</a>,\n",
       " <a class=\"v-align-middle\" data-hydro-click='{\"event_type\":\"search_result.click\",\"payload\":{\"page_number\":1,\"per_page\":10,\"query\":\"stars:&gt;0\",\"result_position\":8,\"click_id\":21737465,\"result\":{\"id\":21737465,\"global_relay_id\":\"MDEwOlJlcG9zaXRvcnkyMTczNzQ2NQ==\",\"model_name\":\"Repository\",\"url\":\"https://github.com/sindresorhus/awesome\"},\"originating_url\":\"https://github.com/search?q=stars%3A%3E0&amp;s=stars&amp;type=Repositories\",\"user_id\":null}}' data-hydro-click-hmac=\"90b0e32d05c4182bd6a3b79056b9835f9f7048fe28784e8b6125468dffebd045\" href=\"/sindresorhus/awesome\">sindresorhus/awesome</a>,\n",
       " <a class=\"v-align-middle\" data-hydro-click='{\"event_type\":\"search_result.click\",\"payload\":{\"page_number\":1,\"per_page\":10,\"query\":\"stars:&gt;0\",\"result_position\":9,\"click_id\":14440270,\"result\":{\"id\":14440270,\"global_relay_id\":\"MDEwOlJlcG9zaXRvcnkxNDQ0MDI3MA==\",\"model_name\":\"Repository\",\"url\":\"https://github.com/getify/You-Dont-Know-JS\"},\"originating_url\":\"https://github.com/search?q=stars%3A%3E0&amp;s=stars&amp;type=Repositories\",\"user_id\":null}}' data-hydro-click-hmac=\"e6e47b836f3c11b1303fd18a4e300fa695ad220c24eeeb7460a29da070d86303\" href=\"/getify/You-Dont-Know-JS\">getify/You-Dont-Know-JS</a>,\n",
       " <a class=\"v-align-middle\" data-hydro-click='{\"event_type\":\"search_result.click\",\"payload\":{\"page_number\":1,\"per_page\":10,\"query\":\"stars:&gt;0\",\"result_position\":10,\"click_id\":60493101,\"result\":{\"id\":60493101,\"global_relay_id\":\"MDEwOlJlcG9zaXRvcnk2MDQ5MzEwMQ==\",\"model_name\":\"Repository\",\"url\":\"https://github.com/jwasham/coding-interview-university\"},\"originating_url\":\"https://github.com/search?q=stars%3A%3E0&amp;s=stars&amp;type=Repositories\",\"user_id\":null}}' data-hydro-click-hmac=\"93784043a9458d853cdcb7fb892162b16cb88c4af5fea16346fa9722071caab2\" href=\"/jwasham/coding-interview-university\">jwasham/coding-interview-university</a>]"
      ]
     },
     "execution_count": 91,
     "metadata": {},
     "output_type": "execute_result"
    }
   ],
   "source": [
    "article"
   ]
  },
  {
   "cell_type": "code",
   "execution_count": 92,
   "metadata": {
    "scrolled": false
   },
   "outputs": [
    {
     "data": {
      "text/plain": [
       "'freeCodeCamp/freeCodeCamp'"
      ]
     },
     "execution_count": 92,
     "metadata": {},
     "output_type": "execute_result"
    }
   ],
   "source": [
    "article[0][\"href\"].replace(\"/\", '', 1)"
   ]
  },
  {
   "cell_type": "markdown",
   "metadata": {},
   "source": [
    "## Web Scrapping Function"
   ]
  },
  {
   "cell_type": "code",
   "execution_count": 202,
   "metadata": {},
   "outputs": [],
   "source": [
    "repo_names = []\n",
    "\n",
    "# Loop to get repo names\n",
    "for page_number in range(1,50):\n",
    "    url = f\"https://github.com/search?p={page_number}&q=stars%3A%3E0&s=stars&type=Repositories\"\n",
    "    headers = {'User-Agent': 'Codeup Bayes Data Science'}\n",
    "    response = get(url, headers=headers)\n",
    "    soup = BeautifulSoup(response.content, 'html.parser')\n",
    "    repos = soup.find_all('a', class_='v-align-middle')\n",
    "    time.sleep(10)\n",
    "\n",
    "    \n",
    "    for repo_number in range(len(repos)):\n",
    "        repo_name = repos[repo_number][\"href\"].replace(\"/\", '', 1)\n",
    "        repo_names.append(repo_name)"
   ]
  },
  {
   "cell_type": "code",
   "execution_count": 205,
   "metadata": {},
   "outputs": [],
   "source": [
    "s = pd.DataFrame(repo_names, columns=[\"repo_name\"])"
   ]
  },
  {
   "cell_type": "code",
   "execution_count": 208,
   "metadata": {},
   "outputs": [],
   "source": [
    "s.to_csv(\"repo_names.csv\")"
   ]
  },
  {
   "cell_type": "code",
   "execution_count": 210,
   "metadata": {},
   "outputs": [
    {
     "data": {
      "text/plain": [
       "array(['freeCodeCamp/freeCodeCamp', '996icu/996.ICU', 'vuejs/vue',\n",
       "       'EbookFoundation/free-programming-books', 'facebook/react',\n",
       "       'tensorflow/tensorflow', 'twbs/bootstrap', 'sindresorhus/awesome',\n",
       "       'getify/You-Dont-Know-JS', 'jwasham/coding-interview-university',\n",
       "       'ohmyzsh/ohmyzsh', 'kamranahmedse/developer-roadmap',\n",
       "       'github/gitignore', 'CyC2018/CS-Notes',\n",
       "       'donnemartin/system-design-primer', 'microsoft/vscode',\n",
       "       'airbnb/javascript', 'flutter/flutter', 'd3/d3', 'torvalds/linux',\n",
       "       'facebook/react-native', 'jackfrued/Python-100-Days',\n",
       "       'public-apis/public-apis', 'electron/electron',\n",
       "       'vinta/awesome-python', 'Snailclimb/JavaGuide',\n",
       "       'facebook/create-react-app', 'jlevy/the-art-of-command-line',\n",
       "       'TheAlgorithms/Python', 'danistefanovic/build-your-own-x',\n",
       "       'axios/axios', 'golang/go', 'trekhleb/javascript-algorithms',\n",
       "       'nodejs/node', 'justjavac/free-programming-books-zh_CN',\n",
       "       'ytdl-org/youtube-dl', 'animate-css/animate.css',\n",
       "       'kubernetes/kubernetes', 'tensorflow/models', 'microsoft/terminal',\n",
       "       'iluwatar/java-design-patterns', 'mui-org/material-ui',\n",
       "       'moby/moby', '30-seconds/30-seconds-of-code',\n",
       "       'PanJiaChen/vue-element-admin', 'MisterBooo/LeetCodeAnimation',\n",
       "       'avelino/awesome-go', 'vuejs/awesome-vue', 'webpack/webpack',\n",
       "       'jquery/jquery', 'spring-projects/spring-boot',\n",
       "       'Semantic-Org/Semantic-UI', 'tonsky/FiraCode',\n",
       "       'typicode/json-server', 'netdata/netdata', 'jakubroztocil/httpie',\n",
       "       'rails/rails', 'xingshaocheng/architect-awesome',\n",
       "       'goldbergyoni/nodebestpractices', 'ElemeFE/element',\n",
       "       'h5bp/html5-boilerplate', 'opencv/opencv', 'lodash/lodash',\n",
       "       'awesome-selfhosted/awesome-selfhosted',\n",
       "       'josephmisiti/awesome-machine-learning', 'kdn251/interviews',\n",
       "       'gatsbyjs/gatsby', 'h5bp/Front-end-Developer-Interview-Questions',\n",
       "       'gohugoio/hugo', 'moment/moment', 'doocs/advanced-java',\n",
       "       'bitcoin/bitcoin', 'ansible/ansible', 'antirez/redis',\n",
       "       'yangshun/tech-interview-handbook', 'ReactiveX/RxJava',\n",
       "       'labuladong/fucking-algorithm', 'nvm-sh/nvm',\n",
       "       'resume/resume.github.com', 'ionic-team/ionic',\n",
       "       'scikit-learn/scikit-learn', 'papers-we-love/papers-we-love',\n",
       "       'ReactTraining/react-router', 'thedaviddias/Front-End-Checklist',\n",
       "       'jekyll/jekyll', 'google/material-design-icons', 'jgthms/bulma',\n",
       "       'awesomedata/awesome-public-datasets', 'pytorch/pytorch',\n",
       "       'psf/requests', 'gothinkster/realworld',\n",
       "       'protocolbuffers/protobuf', 'meteor/meteor',\n",
       "       'mtdvio/every-programmer-should-know', 'kelseyhightower/nocode',\n",
       "       'apache/incubator-echarts', 'necolas/normalize.css',\n",
       "       'gin-gonic/gin', 'yarnpkg/yarn',\n",
       "       'scutan90/DeepLearning-500-questions',\n",
       "       'wasabeef/awesome-android-ui', 'jaywcjlove/awesome-mac',\n",
       "       'NARKOZ/hacker-scripts', 'Dogfalo/materialize', 'google/guava',\n",
       "       'aymericdamien/TensorFlow-Examples',\n",
       "       'spring-projects/spring-framework',\n",
       "       'minimaxir/big-list-of-naughty-strings', 'scrapy/scrapy',\n",
       "       'Hack-with-Github/Awesome-Hacking', 'square/okhttp',\n",
       "       'enaqx/awesome-react', 'neovim/neovim', 'nwjs/nw.js',\n",
       "       'FreeCodeCampChina/freecodecamp.cn', 'babel/babel',\n",
       "       'prettier/prettier', 'android/architecture-samples',\n",
       "       'fatedier/frp', 'ryanmcdermott/clean-code-javascript',\n",
       "       'serverless/serverless', 'sindresorhus/awesome-nodejs',\n",
       "       'parcel-bundler/parcel', 'square/retrofit', 'impress/impress.js',\n",
       "       'juliangarnier/anime', 'ripienaar/free-for-dev', 'grafana/grafana',\n",
       "       'macrozheng/mall', 'nodejs/node-v0.x-archive', 'x64dbg/x64dbg',\n",
       "       'ziishaned/learn-regex', 'vsouza/awesome-ios',\n",
       "       'astaxie/build-web-application-with-golang', 'ColorlibHQ/AdminLTE',\n",
       "       'tesseract-ocr/tesseract', 'gogs/gogs',\n",
       "       'ageitgey/face_recognition',\n",
       "       'MaximAbramchuck/awesome-interview-questions', 'sveltejs/svelte',\n",
       "       'TryGhost/Ghost', 'k88hudson/git-flight-rules',\n",
       "       'Alamofire/Alamofire', 'home-assistant/core',\n",
       "       'prakhar1989/awesome-courses', 'vercel/hyper',\n",
       "       'bailicangdu/vue2-elm', 'soimort/you-get',\n",
       "       'tuvtran/project-based-learning', 'azl397985856/leetcode',\n",
       "       'AFNetworking/AFNetworking', 'git/git', 'syncthing/syncthing',\n",
       "       'adobe/brackets', 'Genymobile/scrcpy', 'etcd-io/etcd',\n",
       "       'facebook/jest', 'prometheus/prometheus', 'karan/Projects',\n",
       "       'mozilla/pdf.js', 'PhilJay/MPAndroidChart', 'discourse/discourse',\n",
       "       'google/material-design-lite', 'justjavac/awesome-wechat-weapp',\n",
       "       'python/cpython', 'godotengine/godot', '521xueweihan/HelloGitHub',\n",
       "       'blueimp/jQuery-File-Upload', 'deepfakes/faceswap', 'hexojs/hexo',\n",
       "       'BVLC/caffe', 'mermaid-js/mermaid', 'xitu/gold-miner',\n",
       "       'preactjs/preact', 'grpc/grpc', 'open-guides/og-aws',\n",
       "       'floodsung/Deep-Learning-Papers-Reading-Roadmap', 'apache/spark',\n",
       "       'alex/what-happens-when', 'binhnguyennus/awesome-scalability',\n",
       "       'ethereum/go-ethereum', 'Kong/kong',\n",
       "       'kamranahmedse/design-patterns-for-humans',\n",
       "       'DefinitelyTyped/DefinitelyTyped', 'Solido/awesome-flutter',\n",
       "       'huggingface/transformers', 'Leaflet/Leaflet',\n",
       "       'shadowsocks/ShadowsocksX-NG', 'Homebrew/legacy-homebrew',\n",
       "       'jashkenas/backbone', 'ariya/phantomjs', 'lukehoban/es6features',\n",
       "       'Avik-Jain/100-Days-Of-ML-Code',\n",
       "       'exacity/deeplearningbook-chinese', 'zenorocha/clipboard.js',\n",
       "       'foundation/foundation-sites', 'huginn/huginn', 'videojs/video.js',\n",
       "       'testerSunshine/12306', 'JuliaLang/julia', 'nuxt/nuxt.js',\n",
       "       'isocpp/CppCoreGuidelines', 'RocketChat/Rocket.Chat',\n",
       "       'certbot/certbot', 'codepath/android_guides', 'quilljs/quill',\n",
       "       'tastejs/todomvc', 'bilibili/ijkplayer', 'caolan/async',\n",
       "       'bayandin/awesome-awesomeness', 'vuetifyjs/vuetify',\n",
       "       'fffaraz/awesome-cpp', 'mathiasbynens/dotfiles', 'symfony/symfony',\n",
       "       'facebookresearch/Detectron', 'google-research/bert',\n",
       "       'pi-hole/pi-hole', 'freeCodeCamp/devdocs', 'fxsjy/jieba',\n",
       "       'istio/istio', 'raywenderlich/swift-algorithm-club',\n",
       "       'alacritty/alacritty', 'JakeWharton/butterknife',\n",
       "       'ant-design/ant-design-pro',\n",
       "       'shengxinjing/programmer-job-blacklist', 'apachecn/AiLearning',\n",
       "       'pandas-dev/pandas', 'danielmiessler/SecLists',\n",
       "       'aosabook/500lines', 'getsentry/sentry', 'faif/python-patterns',\n",
       "       'akullpp/awesome-java', 'square/leakcanary',\n",
       "       'crossoverJie/JCSprout', 'localstack/localstack', 'wg/wrk',\n",
       "       'request/request', 'Tencent/weui', 'dylanaraps/pure-bash-bible',\n",
       "       'nylas/nylas-mail', 'google/styleguide', 'select2/select2',\n",
       "       'Modernizr/Modernizr', 'carbon-app/carbon', 'FiloSottile/mkcert',\n",
       "       'madewithml/basics', 'yangshun/front-end-interview-handbook',\n",
       "       'ngosang/trackerslist', 'johnpapa/angular-styleguide',\n",
       "       'Alvin9999/new-pac', 'houshanren/hangzhou_house_knowledge',\n",
       "       'astaxie/beego', 'fzaninotto/Faker', 'nvie/gitflow', 'iina/iina',\n",
       "       'vuejs/vuex', 'nolimits4web/swiper', 'standard/standard',\n",
       "       'ZuzooVn/machine-learning-for-software-engineers',\n",
       "       'jakevdp/PythonDataScienceHandbook', 'Marak/faker.js',\n",
       "       'pingcap/tidb', 'netty/netty', 'ziadoz/awesome-php',\n",
       "       'rethinkdb/rethinkdb', 'github/fetch', 'tailwindcss/tailwindcss',\n",
       "       'dkhamsing/open-source-ios-apps',\n",
       "       'herrbischoff/awesome-macos-command-line', 'jiahaog/nativefier',\n",
       "       'angular/angular-cli', 'alibaba/fastjson', 'florinpop17/app-ideas',\n",
       "       'ajaxorg/ace', 'naptha/tesseract.js', 'emberjs/ember.js',\n",
       "       'kelseyhightower/kubernetes-the-hard-way', 'agalwood/Motrix',\n",
       "       'Polymer/polymer', 'alibaba/arthas', 'hammerjs/hammer.js',\n",
       "       'Automattic/mongoose', 'openai/gym', 'fighting41love/funNLP',\n",
       "       'pure-css/pure', 'heartcombo/devise', 'google/leveldb',\n",
       "       'fouber/blog', 'satwikkansal/wtfpython', 't4t5/sweetalert',\n",
       "       'facebook/flow', 'Homebrew/brew', 'unknwon/the-way-to-go_ZH_CN',\n",
       "       'gitlabhq/gitlabhq', 'hashicorp/terraform', 'harvesthq/chosen',\n",
       "       'minio/minio', 'ReactiveX/rxjs', 'cheeriojs/cheerio',\n",
       "       'sequelize/sequelize', 'dcloudio/uni-app', 'webtorrent/webtorrent',\n",
       "       'mobxjs/mobx', 'remy/nodemon', 'niklasvh/html2canvas',\n",
       "       'rapid7/metasploit-framework', 'akveo/ngx-admin',\n",
       "       'cypress-io/cypress', 'redux-saga/redux-saga', 'pypa/pipenv',\n",
       "       'littlecodersh/ItChat', 'balderdashy/sails',\n",
       "       'scwang90/SmartRefreshLayout',\n",
       "       'terryum/awesome-deep-learning-papers', 'tootsuite/mastodon',\n",
       "       'alibaba/flutter-go', 'drone/drone', 'StreisandEffect/streisand',\n",
       "       'eugenp/tutorials', 'ocornut/imgui',\n",
       "       'NationalSecurityAgency/ghidra', 'rstacruz/nprogress',\n",
       "       'ctripcorp/apollo', 'wagoodman/dive', 'microsoft/monaco-editor',\n",
       "       'SortableJS/Sortable', 'koalaman/shellcheck',\n",
       "       'FezVrasta/bootstrap-material-design', 'JedWatson/react-select',\n",
       "       'aria2/aria2', 'kriasoft/react-starter-kit', 'syl20bnr/spacemacs',\n",
       "       'CymChad/BaseRecyclerViewAdapterHelper', 'gorhill/uBlock',\n",
       "       'SwiftGGTeam/the-swift-programming-language-in-chinese',\n",
       "       'powerline/fonts', 'byoungd/English-level-up-tips-for-Chinese',\n",
       "       'mochajs/mocha', 'guzzle/guzzle', 'typeorm/typeorm',\n",
       "       'markerikson/react-redux-links', 'BradLarson/GPUImage',\n",
       "       'hashicorp/consul', 'usablica/intro.js', 'dhg/Skeleton',\n",
       "       'ruanyf/jstraining', 'parse-community/parse-server',\n",
       "       'Seldaek/monolog', 'jaredhanson/passport', 'd2l-ai/d2l-zh',\n",
       "       'CMU-Perceptual-Computing-Lab/openpose', 'vuejs/vue-devtools',\n",
       "       'keon/algorithms', 'jorgebucaran/hyperapp', 'docker/compose',\n",
       "       'github/hub', 'obsproject/obs-studio', 'airbnb/lottie-ios',\n",
       "       'SwiftyJSON/SwiftyJSON', 'railsware/upterm',\n",
       "       'PowerShell/PowerShell', 'pyenv/pyenv', 'hankcs/HanLP',\n",
       "       'reduxjs/react-redux', 'pcottle/learnGitBranching',\n",
       "       'bcit-ci/CodeIgniter', 'fastai/fastai', 'mongodb/mongo',\n",
       "       'tj/commander.js', 'avajs/ava', 'google/gson',\n",
       "       'veggiemonk/awesome-docker', 'xi-editor/xi-editor',\n",
       "       'balena-io/etcher', 'mqyqingfeng/Blog', 'doczjs/docz',\n",
       "       'nlohmann/json', 'inconshreveable/ngrok', 'jinzhu/gorm',\n",
       "       'NativeScript/NativeScript', 'google/web-starter-kit',\n",
       "       'donnemartin/data-science-ipython-notebooks', 'ReactiveX/RxSwift',\n",
       "       'postcss/autoprefixer'], dtype=object)"
      ]
     },
     "execution_count": 210,
     "metadata": {},
     "output_type": "execute_result"
    }
   ],
   "source": [
    "s.repo_name.unique()"
   ]
  },
  {
   "cell_type": "code",
   "execution_count": 86,
   "metadata": {},
   "outputs": [],
   "source": [
    "# Update existing csv file with most up to date list\n",
    "s = pd.DataFrame(repo_names, columns=[\"repo_name\"])\n",
    "s.to_csv(\"repo_names.csv\", mode='a', header=True)\n",
    "repo_test = pd.read_csv(\"repo_names.csv\")\n",
    "repo_list = repo_test.repo_name.fillna(repo_test[\"0\"])\n",
    "repo_list.to_csv(\"repo_names.csv\")"
   ]
  },
  {
   "cell_type": "code",
   "execution_count": 211,
   "metadata": {},
   "outputs": [],
   "source": [
    "REPO = ['freeCodeCamp/freeCodeCamp', '996icu/996.ICU', 'vuejs/vue',\n",
    "       'EbookFoundation/free-programming-books', 'facebook/react',\n",
    "       'tensorflow/tensorflow', 'twbs/bootstrap', 'sindresorhus/awesome',\n",
    "       'getify/You-Dont-Know-JS', 'jwasham/coding-interview-university',\n",
    "       'ohmyzsh/ohmyzsh', 'kamranahmedse/developer-roadmap',\n",
    "       'github/gitignore', 'CyC2018/CS-Notes',\n",
    "       'donnemartin/system-design-primer', 'microsoft/vscode',\n",
    "       'airbnb/javascript', 'flutter/flutter', 'd3/d3', 'torvalds/linux',\n",
    "       'facebook/react-native', 'jackfrued/Python-100-Days',\n",
    "       'public-apis/public-apis', 'electron/electron',\n",
    "       'vinta/awesome-python', 'Snailclimb/JavaGuide',\n",
    "       'facebook/create-react-app', 'jlevy/the-art-of-command-line',\n",
    "       'TheAlgorithms/Python', 'danistefanovic/build-your-own-x',\n",
    "       'axios/axios', 'golang/go', 'trekhleb/javascript-algorithms',\n",
    "       'nodejs/node', 'justjavac/free-programming-books-zh_CN',\n",
    "       'ytdl-org/youtube-dl', 'animate-css/animate.css',\n",
    "       'kubernetes/kubernetes', 'tensorflow/models', 'microsoft/terminal',\n",
    "       'iluwatar/java-design-patterns', 'mui-org/material-ui',\n",
    "       'moby/moby', '30-seconds/30-seconds-of-code',\n",
    "       'PanJiaChen/vue-element-admin', 'MisterBooo/LeetCodeAnimation',\n",
    "       'avelino/awesome-go', 'vuejs/awesome-vue', 'webpack/webpack',\n",
    "       'jquery/jquery', 'spring-projects/spring-boot',\n",
    "       'Semantic-Org/Semantic-UI', 'tonsky/FiraCode',\n",
    "       'typicode/json-server', 'netdata/netdata', 'jakubroztocil/httpie',\n",
    "       'rails/rails', 'xingshaocheng/architect-awesome',\n",
    "       'goldbergyoni/nodebestpractices', 'ElemeFE/element',\n",
    "       'h5bp/html5-boilerplate', 'opencv/opencv', 'lodash/lodash',\n",
    "       'awesome-selfhosted/awesome-selfhosted',\n",
    "       'josephmisiti/awesome-machine-learning', 'kdn251/interviews',\n",
    "       'gatsbyjs/gatsby', 'h5bp/Front-end-Developer-Interview-Questions',\n",
    "       'gohugoio/hugo', 'moment/moment', 'doocs/advanced-java',\n",
    "       'bitcoin/bitcoin', 'ansible/ansible', 'antirez/redis',\n",
    "       'yangshun/tech-interview-handbook', 'ReactiveX/RxJava',\n",
    "       'labuladong/fucking-algorithm', 'nvm-sh/nvm',\n",
    "       'resume/resume.github.com', 'ionic-team/ionic',\n",
    "       'scikit-learn/scikit-learn', 'papers-we-love/papers-we-love',\n",
    "       'ReactTraining/react-router', 'thedaviddias/Front-End-Checklist',\n",
    "       'jekyll/jekyll', 'google/material-design-icons', 'jgthms/bulma',\n",
    "       'awesomedata/awesome-public-datasets', 'pytorch/pytorch',\n",
    "       'psf/requests', 'gothinkster/realworld',\n",
    "       'protocolbuffers/protobuf', 'meteor/meteor',\n",
    "       'mtdvio/every-programmer-should-know', 'kelseyhightower/nocode',\n",
    "       'apache/incubator-echarts', 'necolas/normalize.css',\n",
    "       'gin-gonic/gin', 'yarnpkg/yarn',\n",
    "       'scutan90/DeepLearning-500-questions',\n",
    "       'wasabeef/awesome-android-ui', 'jaywcjlove/awesome-mac',\n",
    "       'NARKOZ/hacker-scripts', 'Dogfalo/materialize', 'google/guava',\n",
    "       'aymericdamien/TensorFlow-Examples',\n",
    "       'spring-projects/spring-framework',\n",
    "       'minimaxir/big-list-of-naughty-strings', 'scrapy/scrapy',\n",
    "       'Hack-with-Github/Awesome-Hacking', 'square/okhttp',\n",
    "       'enaqx/awesome-react', 'neovim/neovim', 'nwjs/nw.js',\n",
    "       'FreeCodeCampChina/freecodecamp.cn', 'babel/babel',\n",
    "       'prettier/prettier', 'android/architecture-samples',\n",
    "       'fatedier/frp', 'ryanmcdermott/clean-code-javascript',\n",
    "       'serverless/serverless', 'sindresorhus/awesome-nodejs',\n",
    "       'parcel-bundler/parcel', 'square/retrofit', 'impress/impress.js',\n",
    "       'juliangarnier/anime', 'ripienaar/free-for-dev', 'grafana/grafana',\n",
    "       'macrozheng/mall', 'nodejs/node-v0.x-archive', 'x64dbg/x64dbg',\n",
    "       'ziishaned/learn-regex', 'vsouza/awesome-ios',\n",
    "       'astaxie/build-web-application-with-golang', 'ColorlibHQ/AdminLTE',\n",
    "       'tesseract-ocr/tesseract', 'gogs/gogs',\n",
    "       'ageitgey/face_recognition',\n",
    "       'MaximAbramchuck/awesome-interview-questions', 'sveltejs/svelte',\n",
    "       'TryGhost/Ghost', 'k88hudson/git-flight-rules',\n",
    "       'Alamofire/Alamofire', 'home-assistant/core',\n",
    "       'prakhar1989/awesome-courses', 'vercel/hyper',\n",
    "       'bailicangdu/vue2-elm', 'soimort/you-get',\n",
    "       'tuvtran/project-based-learning', 'azl397985856/leetcode',\n",
    "       'AFNetworking/AFNetworking', 'git/git', 'syncthing/syncthing',\n",
    "       'adobe/brackets', 'Genymobile/scrcpy', 'etcd-io/etcd',\n",
    "       'facebook/jest', 'prometheus/prometheus', 'karan/Projects',\n",
    "       'mozilla/pdf.js', 'PhilJay/MPAndroidChart', 'discourse/discourse',\n",
    "       'google/material-design-lite', 'justjavac/awesome-wechat-weapp',\n",
    "       'python/cpython', 'godotengine/godot', '521xueweihan/HelloGitHub',\n",
    "       'blueimp/jQuery-File-Upload', 'deepfakes/faceswap', 'hexojs/hexo',\n",
    "       'BVLC/caffe', 'mermaid-js/mermaid', 'xitu/gold-miner',\n",
    "       'preactjs/preact', 'grpc/grpc', 'open-guides/og-aws',\n",
    "       'floodsung/Deep-Learning-Papers-Reading-Roadmap', 'apache/spark',\n",
    "       'alex/what-happens-when', 'binhnguyennus/awesome-scalability',\n",
    "       'ethereum/go-ethereum', 'Kong/kong',\n",
    "       'kamranahmedse/design-patterns-for-humans',\n",
    "       'DefinitelyTyped/DefinitelyTyped', 'Solido/awesome-flutter',\n",
    "       'huggingface/transformers', 'Leaflet/Leaflet',\n",
    "       'shadowsocks/ShadowsocksX-NG', 'Homebrew/legacy-homebrew',\n",
    "       'jashkenas/backbone', 'ariya/phantomjs', 'lukehoban/es6features',\n",
    "       'Avik-Jain/100-Days-Of-ML-Code',\n",
    "       'exacity/deeplearningbook-chinese', 'zenorocha/clipboard.js',\n",
    "       'foundation/foundation-sites', 'huginn/huginn', 'videojs/video.js',\n",
    "       'testerSunshine/12306', 'JuliaLang/julia', 'nuxt/nuxt.js',\n",
    "       'isocpp/CppCoreGuidelines', 'RocketChat/Rocket.Chat',\n",
    "       'certbot/certbot', 'codepath/android_guides', 'quilljs/quill',\n",
    "       'tastejs/todomvc', 'bilibili/ijkplayer', 'caolan/async',\n",
    "       'bayandin/awesome-awesomeness', 'vuetifyjs/vuetify',\n",
    "       'fffaraz/awesome-cpp', 'mathiasbynens/dotfiles', 'symfony/symfony',\n",
    "       'facebookresearch/Detectron', 'google-research/bert',\n",
    "       'pi-hole/pi-hole', 'freeCodeCamp/devdocs', 'fxsjy/jieba',\n",
    "       'istio/istio', 'raywenderlich/swift-algorithm-club',\n",
    "       'alacritty/alacritty', 'JakeWharton/butterknife',\n",
    "       'ant-design/ant-design-pro',\n",
    "       'shengxinjing/programmer-job-blacklist', 'apachecn/AiLearning',\n",
    "       'pandas-dev/pandas', 'danielmiessler/SecLists',\n",
    "       'aosabook/500lines', 'getsentry/sentry', 'faif/python-patterns',\n",
    "       'akullpp/awesome-java', 'square/leakcanary',\n",
    "       'crossoverJie/JCSprout', 'localstack/localstack', 'wg/wrk',\n",
    "       'request/request', 'Tencent/weui', 'dylanaraps/pure-bash-bible',\n",
    "       'nylas/nylas-mail', 'google/styleguide', 'select2/select2',\n",
    "       'Modernizr/Modernizr', 'carbon-app/carbon', 'FiloSottile/mkcert',\n",
    "       'madewithml/basics', 'yangshun/front-end-interview-handbook',\n",
    "       'ngosang/trackerslist', 'johnpapa/angular-styleguide',\n",
    "       'Alvin9999/new-pac', 'houshanren/hangzhou_house_knowledge',\n",
    "       'astaxie/beego', 'fzaninotto/Faker', 'nvie/gitflow', 'iina/iina',\n",
    "       'vuejs/vuex', 'nolimits4web/swiper', 'standard/standard',\n",
    "       'ZuzooVn/machine-learning-for-software-engineers',\n",
    "       'jakevdp/PythonDataScienceHandbook', 'Marak/faker.js',\n",
    "       'pingcap/tidb', 'netty/netty', 'ziadoz/awesome-php',\n",
    "       'rethinkdb/rethinkdb', 'github/fetch', 'tailwindcss/tailwindcss',\n",
    "       'dkhamsing/open-source-ios-apps',\n",
    "       'herrbischoff/awesome-macos-command-line', 'jiahaog/nativefier',\n",
    "       'angular/angular-cli', 'alibaba/fastjson', 'florinpop17/app-ideas',\n",
    "       'ajaxorg/ace', 'naptha/tesseract.js', 'emberjs/ember.js',\n",
    "       'kelseyhightower/kubernetes-the-hard-way', 'agalwood/Motrix',\n",
    "       'Polymer/polymer', 'alibaba/arthas', 'hammerjs/hammer.js',\n",
    "       'Automattic/mongoose', 'openai/gym', 'fighting41love/funNLP',\n",
    "       'pure-css/pure', 'heartcombo/devise', 'google/leveldb',\n",
    "       'fouber/blog', 'satwikkansal/wtfpython', 't4t5/sweetalert',\n",
    "       'facebook/flow', 'Homebrew/brew', 'unknwon/the-way-to-go_ZH_CN',\n",
    "       'gitlabhq/gitlabhq', 'hashicorp/terraform', 'harvesthq/chosen',\n",
    "       'minio/minio', 'ReactiveX/rxjs', 'cheeriojs/cheerio',\n",
    "       'sequelize/sequelize', 'dcloudio/uni-app', 'webtorrent/webtorrent',\n",
    "       'mobxjs/mobx', 'remy/nodemon', 'niklasvh/html2canvas',\n",
    "       'rapid7/metasploit-framework', 'akveo/ngx-admin',\n",
    "       'cypress-io/cypress', 'redux-saga/redux-saga', 'pypa/pipenv',\n",
    "       'littlecodersh/ItChat', 'balderdashy/sails',\n",
    "       'scwang90/SmartRefreshLayout',\n",
    "       'terryum/awesome-deep-learning-papers', 'tootsuite/mastodon',\n",
    "       'alibaba/flutter-go', 'drone/drone', 'StreisandEffect/streisand',\n",
    "       'eugenp/tutorials', 'ocornut/imgui',\n",
    "       'NationalSecurityAgency/ghidra', 'rstacruz/nprogress',\n",
    "       'ctripcorp/apollo', 'wagoodman/dive', 'microsoft/monaco-editor',\n",
    "       'SortableJS/Sortable', 'koalaman/shellcheck',\n",
    "       'FezVrasta/bootstrap-material-design', 'JedWatson/react-select',\n",
    "       'aria2/aria2', 'kriasoft/react-starter-kit', 'syl20bnr/spacemacs',\n",
    "       'CymChad/BaseRecyclerViewAdapterHelper', 'gorhill/uBlock',\n",
    "       'SwiftGGTeam/the-swift-programming-language-in-chinese',\n",
    "       'powerline/fonts', 'byoungd/English-level-up-tips-for-Chinese',\n",
    "       'mochajs/mocha', 'guzzle/guzzle', 'typeorm/typeorm',\n",
    "       'markerikson/react-redux-links', 'BradLarson/GPUImage',\n",
    "       'hashicorp/consul', 'usablica/intro.js', 'dhg/Skeleton',\n",
    "       'ruanyf/jstraining', 'parse-community/parse-server',\n",
    "       'Seldaek/monolog', 'jaredhanson/passport', 'd2l-ai/d2l-zh',\n",
    "       'CMU-Perceptual-Computing-Lab/openpose', 'vuejs/vue-devtools',\n",
    "       'keon/algorithms', 'jorgebucaran/hyperapp', 'docker/compose',\n",
    "       'github/hub', 'obsproject/obs-studio', 'airbnb/lottie-ios',\n",
    "       'SwiftyJSON/SwiftyJSON', 'railsware/upterm',\n",
    "       'PowerShell/PowerShell', 'pyenv/pyenv', 'hankcs/HanLP',\n",
    "       'reduxjs/react-redux', 'pcottle/learnGitBranching',\n",
    "       'bcit-ci/CodeIgniter', 'fastai/fastai', 'mongodb/mongo',\n",
    "       'tj/commander.js', 'avajs/ava', 'google/gson',\n",
    "       'veggiemonk/awesome-docker', 'xi-editor/xi-editor',\n",
    "       'balena-io/etcher', 'mqyqingfeng/Blog', 'doczjs/docz',\n",
    "       'nlohmann/json', 'inconshreveable/ngrok', 'jinzhu/gorm',\n",
    "       'NativeScript/NativeScript', 'google/web-starter-kit',\n",
    "       'donnemartin/data-science-ipython-notebooks', 'ReactiveX/RxSwift',\n",
    "       'postcss/autoprefixer']"
   ]
  },
  {
   "cell_type": "markdown",
   "metadata": {},
   "source": [
    "# Prepare"
   ]
  },
  {
   "cell_type": "code",
   "execution_count": 95,
   "metadata": {},
   "outputs": [],
   "source": [
    "df = prepare.prep_readme_data(df)"
   ]
  },
  {
   "cell_type": "code",
   "execution_count": 111,
   "metadata": {},
   "outputs": [],
   "source": [
    "df = df[(~df.readme_contents.str.contains(\"<p \")) & (~df.readme_contents.str.contains(\"<div \"))].dropna()"
   ]
  },
  {
   "cell_type": "markdown",
   "metadata": {},
   "source": [
    "# Explore"
   ]
  },
  {
   "cell_type": "code",
   "execution_count": 126,
   "metadata": {
    "scrolled": false
   },
   "outputs": [
    {
     "data": {
      "text/plain": [
       "Text(0, 0.5, 'Programming Language')"
      ]
     },
     "execution_count": 126,
     "metadata": {},
     "output_type": "execute_result"
    },
    {
     "data": {
      "image/png": "[encoded data removed]",
      "text/plain": [
       "<Figure size 1368x720 with 1 Axes>"
      ]
     },
     "metadata": {
      "needs_background": "light"
     },
     "output_type": "display_data"
    }
   ],
   "source": [
    "df.language.value_counts().sort_values(ascending=True).plot.barh(figsize=(19,10))\n",
    "plt.title(\"Number of languages in the dataframe\")\n",
    "plt.xlabel(\"Frequency\")\n",
    "plt.ylabel(\"Programming Language\")"
   ]
  },
  {
   "cell_type": "code",
   "execution_count": 133,
   "metadata": {},
   "outputs": [],
   "source": [
    "ADDITIONAL_STOPWORDS = ['r', 'u', '2', 'ltgt']\n",
    "\n",
    "def clean(text: str) -> list:\n",
    "    'A simple function to cleanup text data'\n",
    "    wnl = nltk.stem.WordNetLemmatizer()\n",
    "    stopwords = nltk.corpus.stopwords.words('english') + ADDITIONAL_STOPWORDS\n",
    "    text = (text.encode('ascii', 'ignore')\n",
    "             .decode('utf-8', 'ignore')\n",
    "             .lower())\n",
    "    words = re.sub(r'[^\\w\\s]', '', text).split() # tokenization\n",
    "    return [wnl.lemmatize(word) for word in words if word not in stopwords]"
   ]
  },
  {
   "cell_type": "code",
   "execution_count": 145,
   "metadata": {},
   "outputs": [],
   "source": [
    "all_words = clean(' '.join(df.clean_lemmatized))\n",
    "python_words = clean(' '.join(df[df.language == 'Python'].clean_lemmatized))\n",
    "javascript_words = clean(' '.join(df[df.language == 'JavaScript'].clean_lemmatized))\n",
    "java_words = clean(' '.join(df[df.language == 'Java'].clean_lemmatized))\n",
    "c_plus_plus_words = clean(' '.join(df[df.language == 'C++'].clean_lemmatized))"
   ]
  },
  {
   "cell_type": "code",
   "execution_count": 161,
   "metadata": {
    "scrolled": false
   },
   "outputs": [
    {
     "data": {
      "image/png": "[encoded data removed]",
      "text/plain": [
       "<Figure size 1368x720 with 5 Axes>"
      ]
     },
     "metadata": {
      "needs_background": "light"
     },
     "output_type": "display_data"
    }
   ],
   "source": [
    "figure, axes = plt.subplots(1, 5, figsize=(19,15))\n",
    "\n",
    "pd.Series(all_words).value_counts().head(12).plot.barh(width=.9, ec='black', title='12 most common words in all README', figsize=(19,10), ax=axes[0])\n",
    "pd.Series(python_words).value_counts().head(12).plot.barh(width=.9, ec='black', title='12 most common words in Python', figsize=(19,10), ax=axes[1])\n",
    "pd.Series(javascript_words).value_counts().head(12).plot.barh(width=.9, ec='black', title='12 most common words in JavaScript', figsize=(19,10), ax=axes[2])\n",
    "pd.Series(java_words).value_counts().head(12).plot.barh(width=.9, ec='black', title='12 most common words Java', figsize=(19,10), ax=axes[3])\n",
    "pd.Series(c_plus_plus_words).value_counts().head(12).plot.barh(width=.9, ec='black', title='12 most common words C++', figsize=(19,10), ax=axes[4])\n",
    "\n",
    "# plt.suptitle(\"Most Common Words in ReadME\")\n",
    "plt.tight_layout()"
   ]
  },
  {
   "cell_type": "code",
   "execution_count": 188,
   "metadata": {},
   "outputs": [],
   "source": [
    "def idf(word):\n",
    "    return df.shape[0] / (df.clean_lemmatized.str.contains(word)).sum()"
   ]
  },
  {
   "cell_type": "code",
   "execution_count": 220,
   "metadata": {
    "scrolled": true
   },
   "outputs": [
    {
     "data": {
      "text/plain": [
       "1.6559139784946237"
      ]
     },
     "execution_count": 220,
     "metadata": {},
     "output_type": "execute_result"
    }
   ],
   "source": [
    "idf(\"script\")"
   ]
  },
  {
   "cell_type": "code",
   "execution_count": 179,
   "metadata": {},
   "outputs": [],
   "source": [
    "test = df.clean_lemmatized.to_dict()"
   ]
  },
  {
   "cell_type": "code",
   "execution_count": 215,
   "metadata": {},
   "outputs": [],
   "source": [
    "new_words = []\n",
    "for word in all_words:\n",
    "    if len(word) < 10:\n",
    "        new_words.append(word)\n",
    "    "
   ]
  },
  {
   "cell_type": "code",
   "execution_count": 216,
   "metadata": {
    "scrolled": true
   },
   "outputs": [
    {
     "data": {
      "text/html": [
       "<div>\n",
       "<style scoped>\n",
       "    .dataframe tbody tr th:only-of-type {\n",
       "        vertical-align: middle;\n",
       "    }\n",
       "\n",
       "    .dataframe tbody tr th {\n",
       "        vertical-align: top;\n",
       "    }\n",
       "\n",
       "    .dataframe thead th {\n",
       "        text-align: right;\n",
       "    }\n",
       "</style>\n",
       "<table border=\"1\" class=\"dataframe\">\n",
       "  <thead>\n",
       "    <tr style=\"text-align: right;\">\n",
       "      <th></th>\n",
       "      <th>idf</th>\n",
       "    </tr>\n",
       "    <tr>\n",
       "      <th>word</th>\n",
       "      <th></th>\n",
       "    </tr>\n",
       "  </thead>\n",
       "  <tbody>\n",
       "    <tr>\n",
       "      <th>_ymp4</th>\n",
       "      <td>inf</td>\n",
       "    </tr>\n",
       "    <tr>\n",
       "      <th>captchas</th>\n",
       "      <td>154.0</td>\n",
       "    </tr>\n",
       "    <tr>\n",
       "      <th>unspaced</th>\n",
       "      <td>154.0</td>\n",
       "    </tr>\n",
       "    <tr>\n",
       "      <th>assumenda</th>\n",
       "      <td>154.0</td>\n",
       "    </tr>\n",
       "    <tr>\n",
       "      <th>doloribus</th>\n",
       "      <td>154.0</td>\n",
       "    </tr>\n",
       "  </tbody>\n",
       "</table>\n",
       "</div>"
      ],
      "text/plain": [
       "             idf\n",
       "word            \n",
       "_ymp4        inf\n",
       "captchas   154.0\n",
       "unspaced   154.0\n",
       "assumenda  154.0\n",
       "doloribus  154.0"
      ]
     },
     "execution_count": 216,
     "metadata": {},
     "output_type": "execute_result"
    }
   ],
   "source": [
    "# put the unique words into a data frame\n",
    "(pd.DataFrame(dict(word=new_words))\n",
    " # calculate the idf for each word\n",
    " .assign(idf=lambda df: df.word.apply(idf))\n",
    " # sort the data for presentation purposes\n",
    " .set_index('word')\n",
    " .sort_values(by='idf', ascending=False)\n",
    " .head(5))"
   ]
  },
  {
   "cell_type": "code",
   "execution_count": 218,
   "metadata": {},
   "outputs": [
    {
     "data": {
      "text/html": [
       "<div>\n",
       "<style scoped>\n",
       "    .dataframe tbody tr th:only-of-type {\n",
       "        vertical-align: middle;\n",
       "    }\n",
       "\n",
       "    .dataframe tbody tr th {\n",
       "        vertical-align: top;\n",
       "    }\n",
       "\n",
       "    .dataframe thead th {\n",
       "        text-align: right;\n",
       "    }\n",
       "</style>\n",
       "<table border=\"1\" class=\"dataframe\">\n",
       "  <thead>\n",
       "    <tr style=\"text-align: right;\">\n",
       "      <th></th>\n",
       "      <th>word</th>\n",
       "    </tr>\n",
       "  </thead>\n",
       "  <tbody>\n",
       "    <tr>\n",
       "      <th>0</th>\n",
       "      <td>airbnb</td>\n",
       "    </tr>\n",
       "    <tr>\n",
       "      <th>1</th>\n",
       "      <td>style</td>\n",
       "    </tr>\n",
       "    <tr>\n",
       "      <th>2</th>\n",
       "      <td>guide</td>\n",
       "    </tr>\n",
       "    <tr>\n",
       "      <th>3</th>\n",
       "      <td>mostly</td>\n",
       "    </tr>\n",
       "    <tr>\n",
       "      <th>4</th>\n",
       "      <td>approach</td>\n",
       "    </tr>\n",
       "    <tr>\n",
       "      <th>...</th>\n",
       "      <td>...</td>\n",
       "    </tr>\n",
       "    <tr>\n",
       "      <th>139162</th>\n",
       "      <td>must</td>\n",
       "    </tr>\n",
       "    <tr>\n",
       "      <th>139163</th>\n",
       "      <td>ruby</td>\n",
       "    </tr>\n",
       "    <tr>\n",
       "      <th>139164</th>\n",
       "      <td>rack</td>\n",
       "    </tr>\n",
       "    <tr>\n",
       "      <th>139165</th>\n",
       "      <td>gem</td>\n",
       "    </tr>\n",
       "    <tr>\n",
       "      <th>139166</th>\n",
       "      <td>installed</td>\n",
       "    </tr>\n",
       "  </tbody>\n",
       "</table>\n",
       "<p>139167 rows × 1 columns</p>\n",
       "</div>"
      ],
      "text/plain": [
       "             word\n",
       "0          airbnb\n",
       "1           style\n",
       "2           guide\n",
       "3          mostly\n",
       "4        approach\n",
       "...           ...\n",
       "139162       must\n",
       "139163       ruby\n",
       "139164       rack\n",
       "139165        gem\n",
       "139166  installed\n",
       "\n",
       "[139167 rows x 1 columns]"
      ]
     },
     "execution_count": 218,
     "metadata": {},
     "output_type": "execute_result"
    }
   ],
   "source": [
    "pd.DataFrame(dict(word=new_words))"
   ]
  },
  {
   "cell_type": "code",
   "execution_count": 199,
   "metadata": {},
   "outputs": [
    {
     "data": {
      "text/html": [
       "<div>\n",
       "<style scoped>\n",
       "    .dataframe tbody tr th:only-of-type {\n",
       "        vertical-align: middle;\n",
       "    }\n",
       "\n",
       "    .dataframe tbody tr th {\n",
       "        vertical-align: top;\n",
       "    }\n",
       "\n",
       "    .dataframe thead th {\n",
       "        text-align: right;\n",
       "    }\n",
       "</style>\n",
       "<table border=\"1\" class=\"dataframe\">\n",
       "  <thead>\n",
       "    <tr style=\"text-align: right;\">\n",
       "      <th></th>\n",
       "      <th>idf</th>\n",
       "    </tr>\n",
       "    <tr>\n",
       "      <th>word</th>\n",
       "      <th></th>\n",
       "    </tr>\n",
       "  </thead>\n",
       "  <tbody>\n",
       "    <tr>\n",
       "      <th>_ymp4</th>\n",
       "      <td>inf</td>\n",
       "    </tr>\n",
       "    <tr>\n",
       "      <th>gopherdatahttpsgithubcomgopherdataresourcestreemastertooling</th>\n",
       "      <td>154.0</td>\n",
       "    </tr>\n",
       "    <tr>\n",
       "      <th>onlyformat</th>\n",
       "      <td>154.0</td>\n",
       "    </tr>\n",
       "    <tr>\n",
       "      <th>namepythongeneralpurposea</th>\n",
       "      <td>154.0</td>\n",
       "    </tr>\n",
       "    <tr>\n",
       "      <th>modelling</th>\n",
       "      <td>154.0</td>\n",
       "    </tr>\n",
       "  </tbody>\n",
       "</table>\n",
       "</div>"
      ],
      "text/plain": [
       "                                                      idf\n",
       "word                                                     \n",
       "_ymp4                                                 inf\n",
       "gopherdatahttpsgithubcomgopherdataresourcestree...  154.0\n",
       "onlyformat                                          154.0\n",
       "namepythongeneralpurposea                           154.0\n",
       "modelling                                           154.0"
      ]
     },
     "execution_count": 199,
     "metadata": {},
     "output_type": "execute_result"
    }
   ],
   "source": [
    "# put the unique words into a data frame\n",
    "(pd.DataFrame(dict(word=python_words))\n",
    " # calculate the idf for each word\n",
    " .assign(idf=lambda df: df.word.apply(idf))\n",
    " # sort the data for presentation purposes\n",
    " .set_index('word')\n",
    " .sort_values(by='idf', ascending=False)\n",
    " .head(5))"
   ]
  }
 ],
 "metadata": {
  "kernelspec": {
   "display_name": "Python 3",
   "language": "python",
   "name": "python3"
  },
  "language_info": {
   "codemirror_mode": {
    "name": "ipython",
    "version": 3
   },
   "file_extension": ".py",
   "mimetype": "text/x-python",
   "name": "python",
   "nbconvert_exporter": "python",
   "pygments_lexer": "ipython3",
   "version": "3.7.4"
  }
 },
 "nbformat": 4,
 "nbformat_minor": 2
}
